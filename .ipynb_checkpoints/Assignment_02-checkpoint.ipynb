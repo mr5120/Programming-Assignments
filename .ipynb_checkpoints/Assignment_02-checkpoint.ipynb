{
 "cells": [
  {
   "cell_type": "markdown",
   "metadata": {},
   "source": [
    "# Pandas and Matplotlib Homework"
   ]
  },
  {
   "cell_type": "code",
   "execution_count": 1,
   "metadata": {},
   "outputs": [],
   "source": [
    "#load the libraries using the normal convention\n",
    "import pandas as pd\n",
    "import numpy as np\n",
    "import matplotlib.pyplot as plt\n",
    "##prevent plotting errors\n",
    "%matplotlib inline"
   ]
  },
  {
   "cell_type": "code",
   "execution_count": null,
   "metadata": {},
   "outputs": [],
   "source": [
    "#Load our excel files of interest into pandas\n",
    "NHL_Goalies = pd.read_excel('NHLGoalies2016_2017.xls',na_values='',sheetname=0) \n",
    "GAA_ = pd.read_excel('NHLGoalies2016_2017.xls',na_values='',sheetname='5vs5')"
   ]
  },
  {
   "cell_type": "markdown",
   "metadata": {},
   "source": [
    "#Appendix:\n",
    " 1. DF = Pandas DataFrame\n",
    " 2. NHL_Goalies DF = NHL_Goalies \n",
    " 3. GAA_ DF = GAA_"
   ]
  },
  {
   "cell_type": "markdown",
   "metadata": {},
   "source": [
    "### Q1A) Create a new DF (*called NHL_Ones*) by:\n",
    "#### Filtering the correct DF for Goalies that played 1 game <font color='red'> (GP = Games played)</font>"
   ]
  },
  {
   "cell_type": "markdown",
   "metadata": {},
   "source": [
    "Notes: How would you find the 'GP' column in these files?"
   ]
  },
  {
   "cell_type": "code",
   "execution_count": 7,
   "metadata": {},
   "outputs": [
    {
     "data": {
      "text/html": [
       "<div>\n",
       "<style scoped>\n",
       "    .dataframe tbody tr th:only-of-type {\n",
       "        vertical-align: middle;\n",
       "    }\n",
       "\n",
       "    .dataframe tbody tr th {\n",
       "        vertical-align: top;\n",
       "    }\n",
       "\n",
       "    .dataframe thead th {\n",
       "        text-align: right;\n",
       "    }\n",
       "</style>\n",
       "<table border=\"1\" class=\"dataframe\">\n",
       "  <thead>\n",
       "    <tr style=\"text-align: right;\">\n",
       "      <th></th>\n",
       "      <th>Last Name</th>\n",
       "      <th>First Name</th>\n",
       "      <th>Team</th>\n",
       "      <th>DOB</th>\n",
       "      <th>Birth City</th>\n",
       "      <th>S/P</th>\n",
       "      <th>Cntry</th>\n",
       "      <th>Nat</th>\n",
       "      <th>Ht</th>\n",
       "      <th>Wt</th>\n",
       "      <th>...</th>\n",
       "      <th>Cap Hit</th>\n",
       "      <th>Pace</th>\n",
       "      <th>1st</th>\n",
       "      <th>2nd</th>\n",
       "      <th>3rd</th>\n",
       "      <th>Star</th>\n",
       "      <th>GPS</th>\n",
       "      <th>Ginj</th>\n",
       "      <th>Injuries</th>\n",
       "      <th>CHIP</th>\n",
       "    </tr>\n",
       "  </thead>\n",
       "  <tbody>\n",
       "    <tr>\n",
       "      <th>0</th>\n",
       "      <td>Allen</td>\n",
       "      <td>Jake</td>\n",
       "      <td>STL</td>\n",
       "      <td>1990-08-07</td>\n",
       "      <td>Fredericton</td>\n",
       "      <td>NB</td>\n",
       "      <td>CAN</td>\n",
       "      <td>CAN</td>\n",
       "      <td>74</td>\n",
       "      <td>203</td>\n",
       "      <td>...</td>\n",
       "      <td>2350000.0</td>\n",
       "      <td>104.033662</td>\n",
       "      <td>9.0</td>\n",
       "      <td>7.0</td>\n",
       "      <td>6.0</td>\n",
       "      <td>22.0</td>\n",
       "      <td>9.8</td>\n",
       "      <td>NaN</td>\n",
       "      <td>NaN</td>\n",
       "      <td></td>\n",
       "    </tr>\n",
       "    <tr>\n",
       "      <th>1</th>\n",
       "      <td>Alves</td>\n",
       "      <td>Jorge</td>\n",
       "      <td>CAR</td>\n",
       "      <td>1979-01-30</td>\n",
       "      <td>Boston</td>\n",
       "      <td>MA</td>\n",
       "      <td>USA</td>\n",
       "      <td>USA</td>\n",
       "      <td>69</td>\n",
       "      <td>185</td>\n",
       "      <td>...</td>\n",
       "      <td>NaN</td>\n",
       "      <td>0.000000</td>\n",
       "      <td>NaN</td>\n",
       "      <td>NaN</td>\n",
       "      <td>NaN</td>\n",
       "      <td>NaN</td>\n",
       "      <td>0.0</td>\n",
       "      <td>NaN</td>\n",
       "      <td>NaN</td>\n",
       "      <td></td>\n",
       "    </tr>\n",
       "    <tr>\n",
       "      <th>2</th>\n",
       "      <td>Andersen</td>\n",
       "      <td>Frederik</td>\n",
       "      <td>TOR</td>\n",
       "      <td>1989-10-02</td>\n",
       "      <td>Herning</td>\n",
       "      <td>NaN</td>\n",
       "      <td>DNK</td>\n",
       "      <td>DNK</td>\n",
       "      <td>76</td>\n",
       "      <td>230</td>\n",
       "      <td>...</td>\n",
       "      <td>5000000.0</td>\n",
       "      <td>118.931391</td>\n",
       "      <td>9.0</td>\n",
       "      <td>6.0</td>\n",
       "      <td>6.0</td>\n",
       "      <td>21.0</td>\n",
       "      <td>13.1</td>\n",
       "      <td>2.0</td>\n",
       "      <td>Upper body</td>\n",
       "      <td>121951</td>\n",
       "    </tr>\n",
       "    <tr>\n",
       "      <th>3</th>\n",
       "      <td>Anderson</td>\n",
       "      <td>Craig</td>\n",
       "      <td>OTT</td>\n",
       "      <td>1981-05-21</td>\n",
       "      <td>Park Ridge</td>\n",
       "      <td>IL</td>\n",
       "      <td>USA</td>\n",
       "      <td>USA</td>\n",
       "      <td>74</td>\n",
       "      <td>187</td>\n",
       "      <td>...</td>\n",
       "      <td>4200000.0</td>\n",
       "      <td>114.858819</td>\n",
       "      <td>8.0</td>\n",
       "      <td>2.0</td>\n",
       "      <td>5.0</td>\n",
       "      <td>15.0</td>\n",
       "      <td>9.2</td>\n",
       "      <td>2.0</td>\n",
       "      <td>Lower body</td>\n",
       "      <td>102439</td>\n",
       "    </tr>\n",
       "    <tr>\n",
       "      <th>4</th>\n",
       "      <td>Bachman</td>\n",
       "      <td>Richard</td>\n",
       "      <td>VAN</td>\n",
       "      <td>1987-07-25</td>\n",
       "      <td>Salt Lake City</td>\n",
       "      <td>UT</td>\n",
       "      <td>USA</td>\n",
       "      <td>USA</td>\n",
       "      <td>70</td>\n",
       "      <td>183</td>\n",
       "      <td>...</td>\n",
       "      <td>575000.0</td>\n",
       "      <td>113.421038</td>\n",
       "      <td>1.0</td>\n",
       "      <td>0.0</td>\n",
       "      <td>1.0</td>\n",
       "      <td>2.0</td>\n",
       "      <td>1.1</td>\n",
       "      <td>NaN</td>\n",
       "      <td>NaN</td>\n",
       "      <td></td>\n",
       "    </tr>\n",
       "  </tbody>\n",
       "</table>\n",
       "<p>5 rows × 111 columns</p>\n",
       "</div>"
      ],
      "text/plain": [
       "  Last Name First Name Team         DOB      Birth City  S/P Cntry  Nat  Ht  \\\n",
       "0     Allen       Jake  STL  1990-08-07     Fredericton   NB   CAN  CAN  74   \n",
       "1     Alves      Jorge  CAR  1979-01-30          Boston   MA   USA  USA  69   \n",
       "2  Andersen   Frederik  TOR  1989-10-02         Herning  NaN   DNK  DNK  76   \n",
       "3  Anderson      Craig  OTT  1981-05-21      Park Ridge   IL   USA  USA  74   \n",
       "4   Bachman    Richard  VAN  1987-07-25  Salt Lake City   UT   USA  USA  70   \n",
       "\n",
       "    Wt   ...      Cap Hit        Pace  1st  2nd  3rd  Star   GPS  Ginj  \\\n",
       "0  203   ...    2350000.0  104.033662  9.0  7.0  6.0  22.0   9.8   NaN   \n",
       "1  185   ...          NaN    0.000000  NaN  NaN  NaN   NaN   0.0   NaN   \n",
       "2  230   ...    5000000.0  118.931391  9.0  6.0  6.0  21.0  13.1   2.0   \n",
       "3  187   ...    4200000.0  114.858819  8.0  2.0  5.0  15.0   9.2   2.0   \n",
       "4  183   ...     575000.0  113.421038  1.0  0.0  1.0   2.0   1.1   NaN   \n",
       "\n",
       "     Injuries    CHIP  \n",
       "0         NaN          \n",
       "1         NaN          \n",
       "2  Upper body  121951  \n",
       "3  Lower body  102439  \n",
       "4         NaN          \n",
       "\n",
       "[5 rows x 111 columns]"
      ]
     },
     "execution_count": 7,
     "metadata": {},
     "output_type": "execute_result"
    }
   ],
   "source": [
    "#Answer 1A:\n",
    "import pandas\n",
    "import xlrd\n",
    "NHL_Goalies = pd.read_excel('NHLGoalies2016_2017.xls',na_values='',sheet_name=0) \n",
    "NHL_Goalies.head()"
   ]
  },
  {
   "cell_type": "code",
   "execution_count": 8,
   "metadata": {},
   "outputs": [
    {
     "data": {
      "text/plain": [
       "['Last Name',\n",
       " 'First Name',\n",
       " 'Team',\n",
       " 'DOB',\n",
       " 'Birth City',\n",
       " 'S/P',\n",
       " 'Cntry',\n",
       " 'Nat',\n",
       " 'Ht',\n",
       " 'Wt',\n",
       " 'Sh',\n",
       " 'Dft Yr',\n",
       " 'Rd',\n",
       " 'Ovrl',\n",
       " 'GP',\n",
       " 'GS',\n",
       " 'GR',\n",
       " 'W',\n",
       " 'L',\n",
       " 'T',\n",
       " 'OTL',\n",
       " 'SA',\n",
       " 'SV',\n",
       " 'GA',\n",
       " 'SV%',\n",
       " 'GAA',\n",
       " 'GSAA',\n",
       " 'MIN',\n",
       " 'SO',\n",
       " 'G',\n",
       " 'A',\n",
       " 'PTS',\n",
       " 'PIM',\n",
       " 'PenT',\n",
       " 'PenD',\n",
       " 'PenDf',\n",
       " 'Supp',\n",
       " 'QoC',\n",
       " 'StMin',\n",
       " 'StSV',\n",
       " 'StGA',\n",
       " 'StSV%',\n",
       " 'StGAA',\n",
       " 'QS',\n",
       " 'QS%',\n",
       " 'RBS',\n",
       " 'Pull',\n",
       " 'ReMin',\n",
       " 'ReSV',\n",
       " 'ReGA',\n",
       " 'ReSV%',\n",
       " 'ReGAA',\n",
       " 'Dist',\n",
       " 'Reb',\n",
       " 'Rush',\n",
       " 'DS',\n",
       " 'HighS',\n",
       " 'HighG',\n",
       " 'HighSV%',\n",
       " 'MedS',\n",
       " 'MedG',\n",
       " 'LowS',\n",
       " 'LowG',\n",
       " 'AdjSV%',\n",
       " 'EVSA',\n",
       " 'EVGA',\n",
       " 'EV SV%',\n",
       " 'PP SA',\n",
       " 'PP GA',\n",
       " 'PP SV%',\n",
       " 'SH SA',\n",
       " 'SH GA',\n",
       " 'SH SV%',\n",
       " 'AdjSV%.1',\n",
       " 'CA',\n",
       " 'FA',\n",
       " 'SA.1',\n",
       " 'xGA',\n",
       " 'GA.1',\n",
       " 'TrueSV%',\n",
       " 'ExpSV%',\n",
       " 'xGSAA',\n",
       " 'ZS%',\n",
       " 'OZS',\n",
       " 'DZS',\n",
       " 'NZS',\n",
       " 'CF',\n",
       " 'FF',\n",
       " 'SF',\n",
       " 'xGF',\n",
       " 'GF',\n",
       " 'RebF',\n",
       " 'RushF',\n",
       " 'SOS',\n",
       " 'SOG',\n",
       " 'SO SV%',\n",
       " 'SOW',\n",
       " 'SOL',\n",
       " 'NMC',\n",
       " 'Status',\n",
       " 'Salary',\n",
       " 'Cap Hit',\n",
       " 'Pace',\n",
       " '1st',\n",
       " '2nd',\n",
       " '3rd',\n",
       " 'Star',\n",
       " 'GPS',\n",
       " 'Ginj',\n",
       " 'Injuries',\n",
       " 'CHIP']"
      ]
     },
     "execution_count": 8,
     "metadata": {},
     "output_type": "execute_result"
    }
   ],
   "source": [
    "list(NHL_Goalies)"
   ]
  },
  {
   "cell_type": "code",
   "execution_count": 11,
   "metadata": {},
   "outputs": [
    {
     "data": {
      "text/plain": [
       "array([61,  1, 66, 40,  5, 39,  7, 14,  2, 39, 63,  8, 60,  1,  1, 41,  1,\n",
       "       14, 55, 32, 20, 31,  1, 65, 49,  6, 38,  1, 52,  1, 51, 24,  1,  7,\n",
       "       28,  6,  2, 56, 63, 26, 28, 30,  1, 36, 65, 16, 26, 14, 18, 20,  1,\n",
       "       59, 59,  4,  2, 57, 40, 26,  3, 58,  4, 21,  8, 54, 19, 50, 49,  1,\n",
       "       28, 37, 26,  8,  3, 50, 62, 17, 30, 65, 43, 61,  1, 21, 60, 10, 55,\n",
       "        2,  7,  1, 73,  1,  1, 24, 50, 61, 13])"
      ]
     },
     "execution_count": 11,
     "metadata": {},
     "output_type": "execute_result"
    }
   ],
   "source": [
    "NHL_Goalies[\"GP\"].values"
   ]
  },
  {
   "cell_type": "markdown",
   "metadata": {
    "collapsed": true
   },
   "source": [
    " ## Q1B) \n",
    " #### A. Find the value of the minimum Salary for the entire dataset \n",
    " #### B. Replace the missing values from the NHL_Ones DF with this\n",
    " #### C. Create a new DF after replacement by **adding** a column called  \"Adjusted_Salary\"\n",
    " #### D. I would like to only see the old \"Salary\" column and the \"Adjusted Salary\" column from the new Dataframe"
   ]
  },
  {
   "cell_type": "markdown",
   "metadata": {},
   "source": [
    "#### Notes:\n",
    "1. Note where the minimum Salary value is coming & where you are going to assign it to\n",
    "2. Read up on **replacement** of missing values\n",
    "3. Look up Numpy definition for null\n",
    "4. Look up Pandas **Series** Naming \n",
    "5. Review concat function in Pandas\n",
    "6. Review how to slice columns"
   ]
  },
  {
   "cell_type": "code",
   "execution_count": null,
   "metadata": {},
   "outputs": [],
   "source": [
    "#Answer 1B:\n"
   ]
  },
  {
   "cell_type": "markdown",
   "metadata": {
    "collapsed": true
   },
   "source": [
    "### Q2) A. Subset the NHL goalies data to include Goalies that played in more than 25 games AND have a GAA lower than 3.00 and store the New DF as 'workhorse'\n"
   ]
  },
  {
   "cell_type": "markdown",
   "metadata": {},
   "source": [
    "Notes: \n",
    "1. Review notes creating \"boolean\" masks\n",
    "2. Internet search for Multiple Boolean indexing on multiple columns in a Pandas DataFrame"
   ]
  },
  {
   "cell_type": "code",
   "execution_count": null,
   "metadata": {},
   "outputs": [],
   "source": [
    "#Answer 2:\n"
   ]
  },
  {
   "cell_type": "markdown",
   "metadata": {},
   "source": [
    "### Q3. Create 2 python functions that: \n",
    "<br> </br>\n",
    "#### A. Creates/*Returns* a new DataFrame that displays the number of missing values in every column. \n",
    "#### This new DataFrame has one new column named \"Missing\" with the sum of the missing values from the columns"
   ]
  },
  {
   "cell_type": "markdown",
   "metadata": {},
   "source": [
    "### Notes \n",
    "***Function takes one argument: An input DataFrame***\n",
    "<br> </br>\n",
    "<br> </br>\n",
    "** One Proposed method:**\n",
    "1. Create a pandas series object from the sum of the nulls in every column\n",
    "2. Convert the series object to a DataFrame and pass the list of column names from the input DataFrame as the index. (read Pandas Help online)\n",
    "3. During the conversion of the series object to a DataFrame pass a columns argument to create a name for the new Output DataFrame's Column."
   ]
  },
  {
   "cell_type": "markdown",
   "metadata": {},
   "source": [
    "### Expected Output:\n",
    "<img src='Missing_cols_expectedoutput.png'>"
   ]
  },
  {
   "cell_type": "code",
   "execution_count": null,
   "metadata": {
    "collapsed": true
   },
   "outputs": [],
   "source": [
    "# Answer 3A: CODE HERE; Please comment each part\n"
   ]
  },
  {
   "cell_type": "markdown",
   "metadata": {},
   "source": [
    "#### B. Creates a new *column* called 'missing_values' in the input DF that sums the missing values in each row."
   ]
  },
  {
   "cell_type": "markdown",
   "metadata": {
    "collapsed": true
   },
   "source": [
    "### Notes: \n",
    "***Function takes one argument: An input DataFrame***\n",
    "<br> </br>\n",
    "<br> </br>\n",
    "Check out how to use axis argument and how to create new columns in an existing dataframe"
   ]
  },
  {
   "cell_type": "markdown",
   "metadata": {},
   "source": [
    "### Expected Output:\n",
    "<img src= 'missingrows_expectedoutput.png'>"
   ]
  },
  {
   "cell_type": "code",
   "execution_count": null,
   "metadata": {},
   "outputs": [],
   "source": [
    "#Answer 3B here; Please comment each part\n"
   ]
  },
  {
   "cell_type": "markdown",
   "metadata": {
    "collapsed": true
   },
   "source": [
    "### Q4) Matplotlib Question Plot in one figure and 2 side by side plots:\n",
    "<br> </br>\n",
    "#### A. Plot the histogram of the all the GAA of the NHL_Goalies DF  AND the goalies that played in more than 25 games with a GAA < 3.00, \n",
    "#### B. Label the Titles of the plots differently (*ie EntireSet + Subset*)\n",
    "#### C. Change the color of one of the plots from the default"
   ]
  },
  {
   "cell_type": "markdown",
   "metadata": {},
   "source": [
    "# Notes\n",
    "\n",
    "1. convert your column of interest into a NumPY array (look up online for usage)\n",
    "2. Review: https://matplotlib.org/devdocs/api/_as_gen/matplotlib.pyplot.hist.html"
   ]
  },
  {
   "cell_type": "code",
   "execution_count": null,
   "metadata": {},
   "outputs": [],
   "source": [
    "#Answer 4 here: pleae comment"
   ]
  },
  {
   "cell_type": "markdown",
   "metadata": {
    "collapsed": true
   },
   "source": [
    "### Q5) GroupBy Question\n",
    "##### 1. Subset the NHL_Goalies DataFrame where Injuries is not known <font color='red'>(Injuries=NaN)</font>; \n",
    "##### 2. Use a Merge with the GAA_  DF to produce a NEW DF (*called mergedDF*) \n",
    "###### *** USE A JOIN THAT PRESERVES ORDER AND USES THE INTERSECTION OF KEYS***\n",
    "###### *** USE BOTH THE LEFT AND RIGHT INDEXES AS JOIN KEYS***\n",
    "##### 3. From the mergedDF keep FirstName/LastName/Team/Cntry/ SV% /GA/GAA/ TOI (note one copy for any duplicate column)\n",
    "##### 4. GroupBy country on mergedDF and aggregate The Means, Mins, and Maximum of the kept columns\n",
    "#### 5. Create a dataframe of the <font color='red'>TOI </font>groupby object and write it to a comma seperated value file called ('TOI_2017.csv')"
   ]
  },
  {
   "cell_type": "markdown",
   "metadata": {},
   "source": [
    "## Notes:\n",
    "\n",
    "1. Review or read up pandas documentation on:\n",
    "    - how to create selection criteria\n",
    "    - how aggs/joins work: https://pandas.pydata.org/pandas-docs/stable/merging.html\n",
    "2. https://pandas.pydata.org/pandas-docs/stable/generated/pandas.DataFrame.to_csv.html\n",
    "3. https://stackoverflow.com/questions/14734533/how-to-access-pandas-groupby-dataframe-by-key\n",
    "4. https://pandas.pydata.org/pandas-docs/stable/generated/pandas.Series.get.html"
   ]
  },
  {
   "cell_type": "code",
   "execution_count": null,
   "metadata": {},
   "outputs": [],
   "source": [
    "#Answer 5 here: please comments\n"
   ]
  },
  {
   "cell_type": "markdown",
   "metadata": {},
   "source": [
    "# Q6) Write a function(s)  \n",
    "## that subsets a dataframe by removing rows that are WITHIN the InterQuartile Region of a specified column\n",
    "<br> </br>\n",
    "### The function takes as input \n",
    "##### A: Pandas_Dataframe (For example use NHL_GoaliesDF)\n",
    "##### B. Column name\n",
    "### Add a condition that returns an error if the Column Name chosen is not:\n",
    "##### A. Numeric Dtype\n",
    "##### B. Does not exist in the Numeric Columns\n",
    "### The output is a DataFrame that removes rows outside of the specified columns IQR\n",
    "<br> </br>\n",
    "<font color='red'>**You can use smaller helper functions **<font>\n",
    "<br> </br>\n",
    "See --> <href>=https://en.wikipedia.org/wiki/Interquartile_range</href>\n",
    "#hint: There are several pandas subfunctions that can be useful"
   ]
  },
  {
   "cell_type": "code",
   "execution_count": null,
   "metadata": {
    "collapsed": true
   },
   "outputs": [],
   "source": [
    "#Answer Question 6 here"
   ]
  }
 ],
 "metadata": {
  "kernelspec": {
   "display_name": "Python 3",
   "language": "python",
   "name": "python3"
  },
  "language_info": {
   "codemirror_mode": {
    "name": "ipython",
    "version": 3
   },
   "file_extension": ".py",
   "mimetype": "text/x-python",
   "name": "python",
   "nbconvert_exporter": "python",
   "pygments_lexer": "ipython3",
   "version": "3.6.6"
  }
 },
 "nbformat": 4,
 "nbformat_minor": 2
}
