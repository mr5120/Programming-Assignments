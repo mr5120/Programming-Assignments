{
 "cells": [
  {
   "cell_type": "markdown",
   "metadata": {},
   "source": [
    "# Genome data analysis in Python"
   ]
  },
  {
   "cell_type": "markdown",
   "metadata": {},
   "source": [
    "### A brief tutorial on the use of *jupyter notebooks* and the python data analysis library *pandas* for genomic data analysis. \n",
    "Workshop on Population and Speciation Genomics, Český Krumlov, January 2018. <br>\n",
    "By Hannes Svardal (<hs669@cam.ac.uk>)"
   ]
  },
  {
   "cell_type": "markdown",
   "metadata": {},
   "source": [
    "This is a jupyter notebook running a Python 2 kernel. The Jupyter Notebook App (formerly IPython Notebook) is an application running inside the browser. Jupyter notebooks can run different kernels: Python 2/3, R, Julia, bash, ..."
   ]
  },
  {
   "cell_type": "markdown",
   "metadata": {},
   "source": [
    "Further resources about jupyter notebooks can be found here: <br>\n",
    " - https://jupyter-notebook-beginner-guide.readthedocs.io/en/latest/ <br>\n",
    " - https://www.datacamp.com/community/tutorials/tutorial-jupyter-notebook"
   ]
  },
  {
   "cell_type": "markdown",
   "metadata": {},
   "source": [
    "Jupyter notebooks can run locally or on a server. You access them in your browser. <br>\n",
    "\n",
    "To start the jupyter server\n",
    " - Log into your amazon cloud instance: ```ssh wpsg@my-ip-here.compute-1.amazonaws.com``` (replace my-ip-here with your instance's address)\n",
    " - Navigate into the tutorial directory: ```cd ~/workshop_materials/03a_jupyter_notebooks/```\n",
    " - Start the notebook server: ```jupyter notebook --no-browser --port=7000 --ip=0.0.0.0```\n",
    " - In your local browser, navigate to the web address: http://my-ip-here.compute-1.amazonaws.com:7000\n",
    " - On the web page, type in the password *evomics2018*"
   ]
  },
  {
   "cell_type": "markdown",
   "metadata": {},
   "source": [
    "Now you should have this notebook in front of you. \n",
    " - At the top of the webpage, the notebook environment has a **header** and a **toolbar**, which can be used to change settings, formatting, and interrupt or restart the kernel that interprets the notebook cells.\n",
    " - The body of the notebook is built up of cells of two has two major types: markdown cells and code cells. You can set the type for each cell either using the toolbar or with keyboard commands. The right-most button in the toolbar shows all keyboard shortcuts.\n",
    " - **Markdown cells** (this cell and all above) contain text that can be formatted using html-like syntax <br> http://jupyter-notebook.readthedocs.io/en/stable/examples/Notebook/Working%20With%20Markdown%20Cells.html <br>\n",
    " Double-klick into a markdown cell (like this one) to get into *edit mode*\n",
    " - **Code cells** contain computer code (in our case written in python 2). Code cells have an **intput field** in which you type code. Cells are evaluated by pressing *shift + return* with the cursor being in the cell. This produces an **output field** with the result of the evaluation that would be returned to std-out in a normal python (or R) session. Below are a few examples of input cells and the output. Note that by default only the result of the last operation will be output, and that only if it is not asigned to a variable, but all lines will be evaluated."
   ]
  },
  {
   "cell_type": "markdown",
   "metadata": {},
   "source": [
    "Here are some very basic operations. Evaluate the cells below and check the results."
   ]
  },
  {
   "cell_type": "code",
   "execution_count": 6,
   "metadata": {
    "collapsed": false
   },
   "outputs": [
    {
     "data": {
      "text/plain": [
       "2"
      ]
     },
     "execution_count": 6,
     "metadata": {},
     "output_type": "execute_result"
    }
   ],
   "source": [
    "# This is a code cell.\n",
    "# Evaluate it by moving the cursor in the cell an pressing <shift + return>.\n",
    "1+1"
   ]
  },
  {
   "cell_type": "code",
   "execution_count": 7,
   "metadata": {
    "collapsed": true
   },
   "outputs": [],
   "source": [
    "# This is anoter code cell.\n",
    "# There is no output because the last operation is assigned to a variable.\n",
    "# However, the operations are performed and c is now assigned a value.\n",
    "# Evaluate this cell!\n",
    "a = 5\n",
    "b = 3\n",
    "c = a * b"
   ]
  },
  {
   "cell_type": "code",
   "execution_count": 8,
   "metadata": {
    "collapsed": false
   },
   "outputs": [
    {
     "name": "stdout",
     "output_type": "stream",
     "text": [
      "a is 5\n",
      "b is 3\n",
      "c is a*b, which is 15\n"
     ]
    }
   ],
   "source": [
    "# The variables should now be assigned. Evaluate.\n",
    "print 'a is', a\n",
    "print 'b is', b\n",
    "print 'c is a*b, which is', c"
   ]
  },
  {
   "cell_type": "markdown",
   "metadata": {},
   "source": [
    "Try to create more cells using either the \"plus\" button in the toolbar above or the keyboard combination (Ctrl + M) + B (First Ctrl + M together, then B). Try to define variables and do calculations in these cells."
   ]
  },
  {
   "cell_type": "markdown",
   "metadata": {},
   "source": [
    "## Python basics"
   ]
  },
  {
   "cell_type": "markdown",
   "metadata": {},
   "source": [
    "This is very basic python stuff. People who are farmiliar with python can skip this part."
   ]
  },
  {
   "cell_type": "markdown",
   "metadata": {},
   "source": [
    "### loading modules"
   ]
  },
  {
   "cell_type": "code",
   "execution_count": 9,
   "metadata": {
    "collapsed": true
   },
   "outputs": [],
   "source": [
    "# Load some packages that we will need below\n",
    "# by evaluating this cell\n",
    "import pandas as pd\n",
    "import numpy as np\n",
    "import matplotlib.pyplot as plt"
   ]
  },
  {
   "cell_type": "code",
   "execution_count": 10,
   "metadata": {
    "collapsed": false
   },
   "outputs": [
    {
     "name": "stdout",
     "output_type": "stream",
     "text": [
      "3.16227766017\n",
      "3.14159265359\n"
     ]
    }
   ],
   "source": [
    "# Refer to objects (e.g. functions) from these packages by with module.object\n",
    "print np.sqrt(10)\n",
    "print np.pi"
   ]
  },
  {
   "cell_type": "markdown",
   "metadata": {},
   "source": [
    "### lists, list comprehension, and numpy arrays"
   ]
  },
  {
   "cell_type": "markdown",
   "metadata": {},
   "source": [
    "Lists are a very basic data type in python. Elements can be accessed by index. **Attention:** Different from R, Python data structures are generally zero indexed. The first element has index 0."
   ]
  },
  {
   "cell_type": "code",
   "execution_count": 11,
   "metadata": {
    "collapsed": false
   },
   "outputs": [
    {
     "name": "stdout",
     "output_type": "stream",
     "text": [
      "[1, 2, 3, 4]\n",
      "2\n"
     ]
    }
   ],
   "source": [
    "list0 = [1, 2, 3, 4]\n",
    "print list0\n",
    "print list0[1]"
   ]
  },
  {
   "cell_type": "code",
   "execution_count": 12,
   "metadata": {
    "collapsed": false
   },
   "outputs": [
    {
     "name": "stdout",
     "output_type": "stream",
     "text": [
      "4\n",
      "[2, 3]\n"
     ]
    }
   ],
   "source": [
    "# the last element\n",
    "print list0[-1]\n",
    "# elements 2 to 3\n",
    "print list0[1:3]"
   ]
  },
  {
   "cell_type": "markdown",
   "metadata": {},
   "source": [
    "*List comprehensions* are a very useful feature in Python. It is an in-line way of iteratin through a list."
   ]
  },
  {
   "cell_type": "code",
   "execution_count": 13,
   "metadata": {
    "collapsed": false
   },
   "outputs": [
    {
     "name": "stdout",
     "output_type": "stream",
     "text": [
      "[1, 4, 9, 16]\n",
      "[1, 4, 9, 16]\n"
     ]
    }
   ],
   "source": [
    "# This is the syntax of a so-called list comprehension. \n",
    "# A very useful feature to create a new list by iterating through other list(s).\n",
    "squares = [i*i for i in list0]\n",
    "print squares\n",
    "\n",
    "# Doing this in conventional syntax would be more verbose:\n",
    "squares = []\n",
    "for i in list0:\n",
    "    squares.append(i*i)\n",
    "print squares"
   ]
  },
  {
   "cell_type": "markdown",
   "metadata": {},
   "source": [
    "A numpy array is a vector-like object of arbitrary dimensions. Operations on numpy arrays are generally faster than iterating through lists."
   ]
  },
  {
   "cell_type": "code",
   "execution_count": 14,
   "metadata": {
    "collapsed": false
   },
   "outputs": [
    {
     "name": "stdout",
     "output_type": "stream",
     "text": [
      "[1 2 3 4]\n"
     ]
    }
   ],
   "source": [
    "array0 = np.array(list0)\n",
    "print array0"
   ]
  },
  {
   "cell_type": "code",
   "execution_count": 15,
   "metadata": {
    "collapsed": false
   },
   "outputs": [
    {
     "name": "stdout",
     "output_type": "stream",
     "text": [
      "[ 1  4  9 16]\n"
     ]
    }
   ],
   "source": [
    "# Operations on an array are usually element-wise.\n",
    "# Square the array elements.\n",
    "print array0**2"
   ]
  },
  {
   "cell_type": "code",
   "execution_count": 16,
   "metadata": {
    "collapsed": false
   },
   "outputs": [
    {
     "name": "stdout",
     "output_type": "stream",
     "text": [
      "[ 0  1  2  3  4  5  6  7  8  9 10 11 12 13 14 15 16 17 18 19]\n"
     ]
    }
   ],
   "source": [
    "# Instantiate array 0 .. 19\n",
    "x = np.arange(20)\n",
    "print x"
   ]
  },
  {
   "cell_type": "code",
   "execution_count": 17,
   "metadata": {
    "collapsed": false
   },
   "outputs": [
    {
     "name": "stdout",
     "output_type": "stream",
     "text": [
      "[[1 2 3]\n",
      " [4 5 6]]\n",
      "[[ 2  4  6]\n",
      " [ 8 10 12]]\n",
      "number of rows and columns: (2, 3)\n"
     ]
    }
   ],
   "source": [
    "# 2D array\n",
    "array2d = np.array(\n",
    "                [[1,2,3],\n",
    "                [4,5,6]]\n",
    "                )\n",
    "print array2d\n",
    "print array2d*2\n",
    "print 'number of rows and columns:', array2d.shape"
   ]
  },
  {
   "cell_type": "markdown",
   "metadata": {},
   "source": [
    "### anonymous (lambda) function"
   ]
  },
  {
   "cell_type": "markdown",
   "metadata": {},
   "source": [
    "A lambda function is a function that is not bound to a name at creation time."
   ]
  },
  {
   "cell_type": "code",
   "execution_count": 18,
   "metadata": {
    "collapsed": false
   },
   "outputs": [
    {
     "name": "stdout",
     "output_type": "stream",
     "text": [
      "This is a regular function: <function square at 0x7f451adc6500>\n",
      "25\n"
     ]
    }
   ],
   "source": [
    "# This is a regular function\n",
    "def square(x):\n",
    "    \"\"\"\n",
    "    This is a regular function\n",
    "    definition. Defined in evomics2018.\n",
    "    \n",
    "    This function takes a number (int or float)\n",
    "    and returns the square of it.\n",
    "    \n",
    "    \"\"\"\n",
    "    return x*x\n",
    "\n",
    "print 'This is a regular function:', square\n",
    "print square(5)"
   ]
  },
  {
   "cell_type": "code",
   "execution_count": 19,
   "metadata": {
    "collapsed": false
   },
   "outputs": [
    {
     "name": "stdout",
     "output_type": "stream",
     "text": [
      "This is an anonymous function: <function <lambda> at 0x7f451adc60c8>\n",
      "25\n"
     ]
    }
   ],
   "source": [
    "# A lambda function is defined in-line; here it is bound to a name, \n",
    "# but that is not necessary\n",
    "square2 = lambda x: x*x\n",
    "print 'This is an anonymous function:', square2\n",
    "print square2(5)"
   ]
  },
  {
   "cell_type": "markdown",
   "metadata": {},
   "source": [
    "The advantage of an anonymous function is that you can define it on the go."
   ]
  },
  {
   "cell_type": "code",
   "execution_count": 20,
   "metadata": {
    "collapsed": false
   },
   "outputs": [
    {
     "data": {
      "text/plain": [
       "[1, 4, 9, 16]"
      ]
     },
     "execution_count": 20,
     "metadata": {},
     "output_type": "execute_result"
    }
   ],
   "source": [
    "#For this you must pre-define the function 'square'\n",
    "map(square, list0)"
   ]
  },
  {
   "cell_type": "code",
   "execution_count": 21,
   "metadata": {
    "collapsed": false
   },
   "outputs": [
    {
     "data": {
      "text/plain": [
       "[1, 4, 9, 16]"
      ]
     },
     "execution_count": 21,
     "metadata": {},
     "output_type": "execute_result"
    }
   ],
   "source": [
    "#Here the same but defining the function on the go.\n",
    "#This is very useful when we apply functions to data frames below\n",
    "map(lambda x:x*x, list0)"
   ]
  },
  {
   "cell_type": "markdown",
   "metadata": {},
   "source": [
    "## Ipython"
   ]
  },
  {
   "cell_type": "markdown",
   "metadata": {},
   "source": [
    "Ipython is an interactive interface for python. Jupyter notebooks that run a python kernel use Ipython. It basically is a wrapper around python that adds some useful features and commands. A tutorial can be found here: https://ipython.org/ipython-doc/3/interactive/tutorial.html"
   ]
  },
  {
   "cell_type": "markdown",
   "metadata": {},
   "source": [
    "The four most helpful commands (type in a code cell and evaluate)\n",
    "\n",
    "|command|\tdescription|\n",
    "|------|------|\n",
    "|?|\tIntroduction and overview of IPython’s features.|\n",
    "|%quickref|\tQuick reference.|\n",
    "|help|\tPython’s own help system.|\n",
    "|object?|\tDetails about ‘object’, use ‘object??’ for extra details.|"
   ]
  },
  {
   "cell_type": "code",
   "execution_count": 22,
   "metadata": {
    "collapsed": true
   },
   "outputs": [],
   "source": [
    "# Evaluate this to get the documentation of the function **map** as a popup below. \n",
    "map?"
   ]
  },
  {
   "cell_type": "code",
   "execution_count": 23,
   "metadata": {
    "collapsed": true
   },
   "outputs": [],
   "source": [
    "# Get the docstring of your own function defined above.\n",
    "square?"
   ]
  },
  {
   "cell_type": "markdown",
   "metadata": {},
   "source": [
    "### Ipython magic"
   ]
  },
  {
   "cell_type": "markdown",
   "metadata": {},
   "source": [
    "IPython *magic commands*, are tools that simplify various tasks. They are prefixed by the % character. Magic commands come in two flavors: line magics, which are denoted by a single % prefix and operate on a single line of input, and cell magics, which are denoted by a double %% prefix and operate on multiple lines of input. "
   ]
  },
  {
   "cell_type": "markdown",
   "metadata": {},
   "source": [
    "#### Examples"
   ]
  },
  {
   "cell_type": "code",
   "execution_count": 24,
   "metadata": {
    "collapsed": false
   },
   "outputs": [
    {
     "name": "stdout",
     "output_type": "stream",
     "text": [
      "100000000 loops, best of 3: 16.6 ns per loop\n"
     ]
    }
   ],
   "source": [
    "# Time a command with %timeit\n",
    "%timeit 1+1"
   ]
  },
  {
   "cell_type": "code",
   "execution_count": 25,
   "metadata": {
    "collapsed": false
   },
   "outputs": [
    {
     "name": "stdout",
     "output_type": "stream",
     "text": [
      "1000 loops, best of 3: 238 µs per loop\n"
     ]
    }
   ],
   "source": [
    "%%timeit\n",
    "#Time a cell operation\n",
    "x = range(10000)\n",
    "max(x)"
   ]
  },
  {
   "cell_type": "code",
   "execution_count": 26,
   "metadata": {
    "collapsed": true
   },
   "outputs": [],
   "source": [
    "# This is a very useful magic that allows us to create plots inside the jupyter notebook\n",
    "# EVALUATE THIS CELL!!!\n",
    "%matplotlib inline"
   ]
  },
  {
   "cell_type": "code",
   "execution_count": 27,
   "metadata": {
    "collapsed": false
   },
   "outputs": [
    {
     "data": {
      "text/plain": [
       "[<matplotlib.lines.Line2D at 0x7f451ad09910>]"
      ]
     },
     "execution_count": 27,
     "metadata": {},
     "output_type": "execute_result"
    },
    {
     "data": {
      "image/png": "[encoded data removed]",
      "text/plain": [
       "<matplotlib.figure.Figure at 0x7f451addd450>"
      ]
     },
     "metadata": {},
     "output_type": "display_data"
    }
   ],
   "source": [
    "# Make a basic plot\n",
    "plt.plot(np.random.randn(10))"
   ]
  },
  {
   "cell_type": "markdown",
   "metadata": {},
   "source": [
    "### running shell commands"
   ]
  },
  {
   "cell_type": "markdown",
   "metadata": {},
   "source": [
    "You can use ipython magic to run a command using the system shell and return the output. Simply prepend a command with \"!\" or start a cell with %%bash for a multi line command."
   ]
  },
  {
   "cell_type": "code",
   "execution_count": 28,
   "metadata": {
    "collapsed": false
   },
   "outputs": [
    {
     "name": "stdout",
     "output_type": "stream",
     "text": [
      "201801_jupyter_pandas_tutorial.ipynb  cichlid_data_outgroup.vcf.gz.tbi\r\n",
      "cichlid_data_outgroup.vcf.gz\t      cichlid_sample_metadata.csv\r\n"
     ]
    }
   ],
   "source": [
    "!ls"
   ]
  },
  {
   "cell_type": "code",
   "execution_count": 29,
   "metadata": {
    "collapsed": false
   },
   "outputs": [
    {
     "name": "stdout",
     "output_type": "stream",
     "text": [
      "['201801_jupyter_pandas_tutorial.ipynb', 'cichlid_data_outgroup.vcf.gz', 'cichlid_data_outgroup.vcf.gz.tbi', 'cichlid_sample_metadata.csv']\n"
     ]
    }
   ],
   "source": [
    "files = !ls\n",
    "print files"
   ]
  },
  {
   "cell_type": "code",
   "execution_count": 30,
   "metadata": {
    "collapsed": false
   },
   "outputs": [
    {
     "name": "stdout",
     "output_type": "stream",
     "text": [
      "This is version 2.0.2. Usage: msmc2 [options] <datafiles>\r\n",
      "  Options:\r\n",
      "    -i, --maxIterations=<size_t> :      number of EM-iterations [default=20]\r\n",
      "    -o, --outFilePrefix=<string> :      file prefix to use for all output files\r\n",
      "    -m, --theta=<double> :              fix the scaled mutation rate, by default determined by the number of \r\n",
      "                                        segregating sites. This option determines the exact placement of the time\r\n",
      "                                        segment boundaries. For a cross-population analysis, you need three independent \r\n",
      "                                        msmc runs, and you should use this option to ensure the same time boundaries in \r\n",
      "                                        each run, see documentation.\r\n",
      "    -r, --rhoOverMu=<double> :          ratio of recombination over mutation rate (default: 0.25)\r\n",
      "    -t, --nrThreads=<size_t> :          nr of threads to use (defaults to nr of CPUs)\r\n",
      "    -p, --timeSegmentPattern=<string> : pattern of fixed time segments [default=1*2+25*1+1*2+1*3]\r\n",
      "    -R, --fixedRecombination :          keep recombination rate fixed (rarely needed in MSMC2)\r\n",
      "    -I, --indices:                      indices (comma-separated) of alleles in the data file to run over\r\n",
      "    -P, --subpopLabels:                 comma-separated list of 0s and 1s to indicate subpopulations. If given, \r\n",
      "                                        estimate coalescence rates only across populations.\r\n",
      "    -s, --skipAmbiguous:                skip sites with ambiguous phasing. Recommended for cross population analysis\r\n",
      "    --quantileBoundaries:               use quantile boundaries, as in MSMC. To fully replicate MSMC's time intervals,\r\n",
      "                                        combine this with -p 10*1+15*2\r\n"
     ]
    }
   ],
   "source": [
    "!msmc2"
   ]
  },
  {
   "cell_type": "code",
   "execution_count": 31,
   "metadata": {
    "collapsed": false
   },
   "outputs": [
    {
     "name": "stdout",
     "output_type": "stream",
     "text": [
      "bin\n",
      "Desktop\n",
      "dlang\n",
      "Downloads\n",
      "miniconda3\n",
      "R\n",
      "software\n",
      "workshop_materials\n",
      "----------------\n",
      "/usr/local/bin:/home/wpsg/bin:/usr/local/sbin:/usr/local/bin:/usr/sbin:/usr/bin:/sbin:/bin:/usr/games:/usr/local/games:/snap/bin:/usr/lib/jvm/java-8-oracle/bin:/usr/lib/jvm/java-8-oracle/db/bin:/usr/lib/jvm/java-8-oracle/jre/bin:/home/wpsg/miniconda3/bin:/home/wpsg/software/hmmer-3.1b2-linux-intel-x86_64/binaries/:/home/wpsg/software/partitionfinder-2.1.1/:/home/wpsg/software/.source/jmodeltest-2.1.10:/usr/local/sbin:/usr/local/bin:/usr/sbin:/usr/bin:/sbin:/bin:/usr/games:/usr/local/games:/snap/bin:/usr/lib/jvm/java-8-oracle/bin:/usr/lib/jvm/java-8-oracle/db/bin:/usr/lib/jvm/java-8-oracle/jre/bin:/home/wpsg/software/EIG-6.1.3/bin:/home/wpsg/software/plink:/home/wpsg/software/SLiM/bin:/home/wpsg/software/msms/bin:/home/wpsg/software/WFABC_v1.1/binaries/Linux:/home/wpsg/software/beast/bin:/home/wpsg/software/.source/pcangsd:/home/wpsg/software/msmc2/build/release:/home/wpsg/software/msmc-tools:/home/wpsg/software/LFMM_CL_v1.5/bin\n"
     ]
    }
   ],
   "source": [
    "%%bash\n",
    "cd ~\n",
    "ls\n",
    "echo ----------------\n",
    "echo $PATH"
   ]
  },
  {
   "cell_type": "markdown",
   "metadata": {},
   "source": [
    "## Pandas"
   ]
  },
  {
   "cell_type": "markdown",
   "metadata": {
    "collapsed": true
   },
   "source": [
    "https://pandas.pydata.org/ *pandas* is an open source, BSD-licensed library providing high-performance, easy-to-use data structures and data analysis tools for the Python programming language."
   ]
  },
  {
   "cell_type": "markdown",
   "metadata": {},
   "source": [
    "List of tutorials <br>\n",
    " - https://pandas.pydata.org/pandas-docs/stable/tutorials.html <br>\n",
    "\n",
    "10 minutes quick start guide\n",
    " - https://pandas.pydata.org/pandas-docs/stable/10min.html"
   ]
  },
  {
   "cell_type": "markdown",
   "metadata": {},
   "source": [
    "Installation (just like other python modules) <br>\n",
    "```pip install pandas```"
   ]
  },
  {
   "cell_type": "code",
   "execution_count": 32,
   "metadata": {
    "collapsed": true
   },
   "outputs": [],
   "source": [
    "import pandas as pd"
   ]
  },
  {
   "cell_type": "markdown",
   "metadata": {
    "collapsed": true
   },
   "source": [
    "The two most important data structures in pandas are **Series** and **DataFrames**."
   ]
  },
  {
   "cell_type": "markdown",
   "metadata": {},
   "source": [
    "### pandas Series"
   ]
  },
  {
   "cell_type": "markdown",
   "metadata": {},
   "source": [
    "A Series is a 1D-array-like object where each element has an index."
   ]
  },
  {
   "cell_type": "code",
   "execution_count": 33,
   "metadata": {
    "collapsed": false
   },
   "outputs": [],
   "source": [
    "s = pd.Series([1, 3, 5, np.nan, 6, 8])"
   ]
  },
  {
   "cell_type": "markdown",
   "metadata": {},
   "source": [
    "In this case the index of s are integers 0,1,... but it could be strings, floats, ..."
   ]
  },
  {
   "cell_type": "code",
   "execution_count": 34,
   "metadata": {
    "collapsed": false
   },
   "outputs": [
    {
     "data": {
      "text/plain": [
       "0    1.0\n",
       "1    3.0\n",
       "2    5.0\n",
       "3    NaN\n",
       "4    6.0\n",
       "5    8.0\n",
       "dtype: float64"
      ]
     },
     "execution_count": 34,
     "metadata": {},
     "output_type": "execute_result"
    }
   ],
   "source": [
    "s"
   ]
  },
  {
   "cell_type": "code",
   "execution_count": 35,
   "metadata": {
    "collapsed": false
   },
   "outputs": [
    {
     "data": {
      "text/plain": [
       "0     2.0\n",
       "1     6.0\n",
       "2    10.0\n",
       "3     NaN\n",
       "4    12.0\n",
       "5    16.0\n",
       "dtype: float64"
      ]
     },
     "execution_count": 35,
     "metadata": {},
     "output_type": "execute_result"
    }
   ],
   "source": [
    "# for operations like addtions, elements are matched by index \n",
    "s + s"
   ]
  },
  {
   "cell_type": "code",
   "execution_count": 36,
   "metadata": {
    "collapsed": false
   },
   "outputs": [
    {
     "name": "stdout",
     "output_type": "stream",
     "text": [
      "F    1.0\n",
      "E    3.0\n",
      "D    5.0\n",
      "C    NaN\n",
      "B    6.0\n",
      "A    8.0\n",
      "dtype: float64\n",
      "-------------\n",
      "A    1.0\n",
      "B    3.0\n",
      "C    5.0\n",
      "D    NaN\n",
      "E    6.0\n",
      "F    8.0\n",
      "dtype: float64\n"
     ]
    }
   ],
   "source": [
    "# elements are matched by index, even if they arein a different order)\n",
    "s1 = pd.Series([1, 3, 5, np.nan, 6, 8],index=['F','E','D','C','B','A'])\n",
    "s2 = pd.Series([1, 3, 5, np.nan, 6, 8], \n",
    "             index=['A','B','C','D','E','F'])\n",
    "print s1\n",
    "print '-------------'\n",
    "print s2"
   ]
  },
  {
   "cell_type": "code",
   "execution_count": 37,
   "metadata": {
    "collapsed": false
   },
   "outputs": [
    {
     "data": {
      "text/plain": [
       "A    9.0\n",
       "B    9.0\n",
       "C    NaN\n",
       "D    NaN\n",
       "E    9.0\n",
       "F    9.0\n",
       "dtype: float64"
      ]
     },
     "execution_count": 37,
     "metadata": {},
     "output_type": "execute_result"
    }
   ],
   "source": [
    "# what do you expect the result of this to be?\n",
    "s1 + s2"
   ]
  },
  {
   "cell_type": "markdown",
   "metadata": {},
   "source": [
    "Do you understand the result above?"
   ]
  },
  {
   "cell_type": "code",
   "execution_count": 38,
   "metadata": {
    "collapsed": false
   },
   "outputs": [
    {
     "data": {
      "text/plain": [
       "5.0"
      ]
     },
     "execution_count": 38,
     "metadata": {},
     "output_type": "execute_result"
    }
   ],
   "source": [
    "# Access an element using the index\n",
    "s.loc[2]"
   ]
  },
  {
   "cell_type": "code",
   "execution_count": 39,
   "metadata": {
    "collapsed": false
   },
   "outputs": [
    {
     "data": {
      "text/plain": [
       "5.0"
      ]
     },
     "execution_count": 39,
     "metadata": {},
     "output_type": "execute_result"
    }
   ],
   "source": [
    "# Access an element using the psition\n",
    "s.iloc[2]"
   ]
  },
  {
   "cell_type": "markdown",
   "metadata": {},
   "source": [
    "In the above case, the two are trivially the same, but for s1 and s2 it is very different. Try both ways of accessing elements on s1 and s2."
   ]
  },
  {
   "cell_type": "markdown",
   "metadata": {},
   "source": [
    "### pandas DataFrame"
   ]
  },
  {
   "cell_type": "markdown",
   "metadata": {},
   "source": [
    "Pandas data frames are similar to R data frames. A DataFrame is a 2D-array-like object where each element has a row index and a column index. \n",
    "The row index is called 'index', the column index is called 'columns'."
   ]
  },
  {
   "cell_type": "markdown",
   "metadata": {},
   "source": [
    "In the following, create a simple data frame and inspect its elements. Try to modify the code in this section."
   ]
  },
  {
   "cell_type": "code",
   "execution_count": 40,
   "metadata": {
    "collapsed": false
   },
   "outputs": [],
   "source": [
    "df = pd.DataFrame([[1,2,3],\n",
    "                   [4,5,6]],\n",
    "                  index=[100,200],\n",
    "                  columns=['A','B','C'])"
   ]
  },
  {
   "cell_type": "code",
   "execution_count": 41,
   "metadata": {
    "collapsed": false
   },
   "outputs": [
    {
     "data": {
      "text/html": [
       "<div>\n",
       "<table border=\"1\" class=\"dataframe\">\n",
       "  <thead>\n",
       "    <tr style=\"text-align: right;\">\n",
       "      <th></th>\n",
       "      <th>A</th>\n",
       "      <th>B</th>\n",
       "      <th>C</th>\n",
       "    </tr>\n",
       "  </thead>\n",
       "  <tbody>\n",
       "    <tr>\n",
       "      <th>100</th>\n",
       "      <td>1</td>\n",
       "      <td>2</td>\n",
       "      <td>3</td>\n",
       "    </tr>\n",
       "    <tr>\n",
       "      <th>200</th>\n",
       "      <td>4</td>\n",
       "      <td>5</td>\n",
       "      <td>6</td>\n",
       "    </tr>\n",
       "  </tbody>\n",
       "</table>\n",
       "</div>"
      ],
      "text/plain": [
       "     A  B  C\n",
       "100  1  2  3\n",
       "200  4  5  6"
      ]
     },
     "execution_count": 41,
     "metadata": {},
     "output_type": "execute_result"
    }
   ],
   "source": [
    "df"
   ]
  },
  {
   "cell_type": "code",
   "execution_count": 42,
   "metadata": {
    "collapsed": false
   },
   "outputs": [
    {
     "data": {
      "text/plain": [
       "Int64Index([100, 200], dtype='int64')"
      ]
     },
     "execution_count": 42,
     "metadata": {},
     "output_type": "execute_result"
    }
   ],
   "source": [
    "df.index"
   ]
  },
  {
   "cell_type": "code",
   "execution_count": 43,
   "metadata": {
    "collapsed": false
   },
   "outputs": [
    {
     "data": {
      "text/plain": [
       "Index([u'A', u'B', u'C'], dtype='object')"
      ]
     },
     "execution_count": 43,
     "metadata": {},
     "output_type": "execute_result"
    }
   ],
   "source": [
    "df.columns"
   ]
  },
  {
   "cell_type": "code",
   "execution_count": 44,
   "metadata": {
    "collapsed": false
   },
   "outputs": [
    {
     "data": {
      "text/plain": [
       "array([100, 200])"
      ]
     },
     "execution_count": 44,
     "metadata": {},
     "output_type": "execute_result"
    }
   ],
   "source": [
    "df.index.values"
   ]
  },
  {
   "cell_type": "code",
   "execution_count": 45,
   "metadata": {
    "collapsed": false
   },
   "outputs": [
    {
     "data": {
      "text/plain": [
       "6"
      ]
     },
     "execution_count": 45,
     "metadata": {},
     "output_type": "execute_result"
    }
   ],
   "source": [
    "# access by position\n",
    "df.iloc[1, 2]"
   ]
  },
  {
   "cell_type": "code",
   "execution_count": 46,
   "metadata": {
    "collapsed": false
   },
   "outputs": [
    {
     "data": {
      "text/plain": [
       "6"
      ]
     },
     "execution_count": 46,
     "metadata": {},
     "output_type": "execute_result"
    }
   ],
   "source": [
    "# access an element by index\n",
    "df.loc[200, 'C']"
   ]
  },
  {
   "cell_type": "code",
   "execution_count": 47,
   "metadata": {
    "collapsed": false
   },
   "outputs": [
    {
     "data": {
      "text/plain": [
       "A    4\n",
       "B    5\n",
       "C    6\n",
       "Name: 200, dtype: int64"
      ]
     },
     "execution_count": 47,
     "metadata": {},
     "output_type": "execute_result"
    }
   ],
   "source": [
    "#access a row\n",
    "df.loc[200,:]"
   ]
  },
  {
   "cell_type": "code",
   "execution_count": 48,
   "metadata": {
    "collapsed": false
   },
   "outputs": [
    {
     "data": {
      "text/plain": [
       "100    3\n",
       "200    6\n",
       "Name: C, dtype: int64"
      ]
     },
     "execution_count": 48,
     "metadata": {},
     "output_type": "execute_result"
    }
   ],
   "source": [
    "#access a column\n",
    "df.loc[:,'C']"
   ]
  },
  {
   "cell_type": "code",
   "execution_count": 49,
   "metadata": {
    "collapsed": false
   },
   "outputs": [
    {
     "data": {
      "text/html": [
       "<div>\n",
       "<table border=\"1\" class=\"dataframe\">\n",
       "  <thead>\n",
       "    <tr style=\"text-align: right;\">\n",
       "      <th></th>\n",
       "      <th>A</th>\n",
       "      <th>B</th>\n",
       "      <th>C</th>\n",
       "    </tr>\n",
       "  </thead>\n",
       "  <tbody>\n",
       "    <tr>\n",
       "      <th>200</th>\n",
       "      <td>4</td>\n",
       "      <td>5</td>\n",
       "      <td>6</td>\n",
       "    </tr>\n",
       "  </tbody>\n",
       "</table>\n",
       "</div>"
      ],
      "text/plain": [
       "     A  B  C\n",
       "200  4  5  6"
      ]
     },
     "execution_count": 49,
     "metadata": {},
     "output_type": "execute_result"
    }
   ],
   "source": [
    "#logical indexing\n",
    "df.loc[df['A']>2,]"
   ]
  },
  {
   "cell_type": "code",
   "execution_count": 50,
   "metadata": {
    "collapsed": false
   },
   "outputs": [
    {
     "data": {
      "text/html": [
       "<div>\n",
       "<table border=\"1\" class=\"dataframe\">\n",
       "  <thead>\n",
       "    <tr style=\"text-align: right;\">\n",
       "      <th></th>\n",
       "      <th>B</th>\n",
       "      <th>C</th>\n",
       "    </tr>\n",
       "  </thead>\n",
       "  <tbody>\n",
       "    <tr>\n",
       "      <th>100</th>\n",
       "      <td>2</td>\n",
       "      <td>3</td>\n",
       "    </tr>\n",
       "    <tr>\n",
       "      <th>200</th>\n",
       "      <td>5</td>\n",
       "      <td>6</td>\n",
       "    </tr>\n",
       "  </tbody>\n",
       "</table>\n",
       "</div>"
      ],
      "text/plain": [
       "     B  C\n",
       "100  2  3\n",
       "200  5  6"
      ]
     },
     "execution_count": 50,
     "metadata": {},
     "output_type": "execute_result"
    }
   ],
   "source": [
    "df.loc[:, df.loc[200]>4]"
   ]
  },
  {
   "cell_type": "code",
   "execution_count": 51,
   "metadata": {
    "collapsed": false
   },
   "outputs": [
    {
     "data": {
      "text/html": [
       "<div>\n",
       "<table border=\"1\" class=\"dataframe\">\n",
       "  <thead>\n",
       "    <tr style=\"text-align: right;\">\n",
       "      <th></th>\n",
       "      <th>A</th>\n",
       "      <th>B</th>\n",
       "      <th>C</th>\n",
       "    </tr>\n",
       "  </thead>\n",
       "  <tbody>\n",
       "    <tr>\n",
       "      <th>100</th>\n",
       "      <td>2</td>\n",
       "      <td>4</td>\n",
       "      <td>6</td>\n",
       "    </tr>\n",
       "    <tr>\n",
       "      <th>200</th>\n",
       "      <td>8</td>\n",
       "      <td>10</td>\n",
       "      <td>12</td>\n",
       "    </tr>\n",
       "  </tbody>\n",
       "</table>\n",
       "</div>"
      ],
      "text/plain": [
       "     A   B   C\n",
       "100  2   4   6\n",
       "200  8  10  12"
      ]
     },
     "execution_count": 51,
     "metadata": {},
     "output_type": "execute_result"
    }
   ],
   "source": [
    "df + df"
   ]
  },
  {
   "cell_type": "code",
   "execution_count": 52,
   "metadata": {
    "collapsed": false
   },
   "outputs": [
    {
     "name": "stdout",
     "output_type": "stream",
     "text": [
      "A    2.5\n",
      "B    3.5\n",
      "C    4.5\n",
      "dtype: float64\n"
     ]
    }
   ],
   "source": [
    "# mean of rows\n",
    "print df.mean()"
   ]
  },
  {
   "cell_type": "code",
   "execution_count": 53,
   "metadata": {
    "collapsed": false
   },
   "outputs": [
    {
     "name": "stdout",
     "output_type": "stream",
     "text": [
      "100    2.0\n",
      "200    5.0\n",
      "dtype: float64\n"
     ]
    }
   ],
   "source": [
    "# mean of columns\n",
    "print df.mean(axis=1)"
   ]
  },
  {
   "cell_type": "code",
   "execution_count": 54,
   "metadata": {
    "collapsed": false
   },
   "outputs": [
    {
     "name": "stdout",
     "output_type": "stream",
     "text": [
      "<class 'pandas.core.series.Series'>\n"
     ]
    }
   ],
   "source": [
    "# If a function on a data frame returns a 1D object, the results is a pd.Series\n",
    "print type(df.loc[100,:])"
   ]
  },
  {
   "cell_type": "markdown",
   "metadata": {},
   "source": [
    "#### Apply operations "
   ]
  },
  {
   "cell_type": "markdown",
   "metadata": {},
   "source": [
    "Data Frames have many handy methods built in. For applying functions, grouping elements, plotting. We will see several of them below. Here The simples apply opperations."
   ]
  },
  {
   "cell_type": "code",
   "execution_count": 55,
   "metadata": {
    "collapsed": false
   },
   "outputs": [
    {
     "data": {
      "text/html": [
       "<div>\n",
       "<table border=\"1\" class=\"dataframe\">\n",
       "  <thead>\n",
       "    <tr style=\"text-align: right;\">\n",
       "      <th></th>\n",
       "      <th>A</th>\n",
       "      <th>B</th>\n",
       "      <th>C</th>\n",
       "    </tr>\n",
       "  </thead>\n",
       "  <tbody>\n",
       "    <tr>\n",
       "      <th>100</th>\n",
       "      <td>1</td>\n",
       "      <td>4</td>\n",
       "      <td>9</td>\n",
       "    </tr>\n",
       "    <tr>\n",
       "      <th>200</th>\n",
       "      <td>16</td>\n",
       "      <td>25</td>\n",
       "      <td>36</td>\n",
       "    </tr>\n",
       "  </tbody>\n",
       "</table>\n",
       "</div>"
      ],
      "text/plain": [
       "      A   B   C\n",
       "100   1   4   9\n",
       "200  16  25  36"
      ]
     },
     "execution_count": 55,
     "metadata": {},
     "output_type": "execute_result"
    }
   ],
   "source": [
    "df.apply(square)"
   ]
  },
  {
   "cell_type": "code",
   "execution_count": 56,
   "metadata": {
    "collapsed": false
   },
   "outputs": [
    {
     "data": {
      "text/plain": [
       "A    5\n",
       "B    7\n",
       "C    9\n",
       "dtype: int64"
      ]
     },
     "execution_count": 56,
     "metadata": {},
     "output_type": "execute_result"
    }
   ],
   "source": [
    "# apply along rows (column-wise)\n",
    "df.apply(np.sum, axis=0)"
   ]
  },
  {
   "cell_type": "code",
   "execution_count": 57,
   "metadata": {
    "collapsed": false
   },
   "outputs": [
    {
     "data": {
      "text/plain": [
       "100     6\n",
       "200    15\n",
       "dtype: int64"
      ]
     },
     "execution_count": 57,
     "metadata": {},
     "output_type": "execute_result"
    }
   ],
   "source": [
    "# apply along columns (row-wise)\n",
    "df.apply(np.sum, axis=1)"
   ]
  },
  {
   "cell_type": "markdown",
   "metadata": {},
   "source": [
    "For the above there exists a shortcut. You can directly use df.sum(axis=...)"
   ]
  },
  {
   "cell_type": "code",
   "execution_count": 58,
   "metadata": {
    "collapsed": false
   },
   "outputs": [
    {
     "data": {
      "text/html": [
       "<div>\n",
       "<table border=\"1\" class=\"dataframe\">\n",
       "  <thead>\n",
       "    <tr style=\"text-align: right;\">\n",
       "      <th></th>\n",
       "      <th>A</th>\n",
       "      <th>B</th>\n",
       "      <th>C</th>\n",
       "    </tr>\n",
       "  </thead>\n",
       "  <tbody>\n",
       "    <tr>\n",
       "      <th>100</th>\n",
       "      <td>B</td>\n",
       "      <td>C</td>\n",
       "      <td>D</td>\n",
       "    </tr>\n",
       "    <tr>\n",
       "      <th>200</th>\n",
       "      <td>E</td>\n",
       "      <td>F</td>\n",
       "      <td>G</td>\n",
       "    </tr>\n",
       "  </tbody>\n",
       "</table>\n",
       "</div>"
      ],
      "text/plain": [
       "     A  B  C\n",
       "100  B  C  D\n",
       "200  E  F  G"
      ]
     },
     "execution_count": 58,
     "metadata": {},
     "output_type": "execute_result"
    }
   ],
   "source": [
    "# apply element-wise\n",
    "df.applymap(lambda i:'ABCDEFGHIJKLMN'[i])"
   ]
  },
  {
   "cell_type": "markdown",
   "metadata": {},
   "source": [
    "What does the above code cell do? Play around with it to understand what is happening."
   ]
  },
  {
   "cell_type": "markdown",
   "metadata": {},
   "source": [
    "Tipp: It helps to look at each of the part in turn."
   ]
  },
  {
   "cell_type": "code",
   "execution_count": 59,
   "metadata": {
    "collapsed": false
   },
   "outputs": [
    {
     "data": {
      "text/plain": [
       "'C'"
      ]
     },
     "execution_count": 59,
     "metadata": {},
     "output_type": "execute_result"
    }
   ],
   "source": [
    "'ABCDEFGHIJKLMN'[2]"
   ]
  },
  {
   "cell_type": "code",
   "execution_count": 60,
   "metadata": {
    "collapsed": true
   },
   "outputs": [],
   "source": [
    "df.applymap?"
   ]
  },
  {
   "cell_type": "markdown",
   "metadata": {},
   "source": [
    "## Working with SNP calls"
   ]
  },
  {
   "cell_type": "markdown",
   "metadata": {},
   "source": [
    "Here it gets interesting. How can we use pandas to analyse genome data. Note that some of the below is a bit simplified and you would do things slightly differently in a production pipeline."
   ]
  },
  {
   "cell_type": "markdown",
   "metadata": {},
   "source": [
    "The combination of jupyter notebooks and pandas is great for quick exploration of data. But using ipython parallel one can also handle demaning analyses."
   ]
  },
  {
   "cell_type": "markdown",
   "metadata": {},
   "source": [
    "We will be using a cichlid fish VCF file with bi-allelic SNP calls."
   ]
  },
  {
   "cell_type": "code",
   "execution_count": 61,
   "metadata": {
    "collapsed": false
   },
   "outputs": [
    {
     "name": "stdout",
     "output_type": "stream",
     "text": [
      "201801_jupyter_pandas_tutorial.ipynb  cichlid_data_outgroup.vcf.gz.tbi\r\n",
      "cichlid_data_outgroup.vcf.gz\t      cichlid_sample_metadata.csv\r\n"
     ]
    }
   ],
   "source": [
    "#check which files are in the folder\n",
    "!ls"
   ]
  },
  {
   "cell_type": "code",
   "execution_count": 62,
   "metadata": {
    "collapsed": true
   },
   "outputs": [],
   "source": [
    "vcf_fn = 'cichlid_data_outgroup.vcf.gz'"
   ]
  },
  {
   "cell_type": "code",
   "execution_count": 63,
   "metadata": {
    "collapsed": true
   },
   "outputs": [],
   "source": [
    "# Use bash magic to take a look at the file contents"
   ]
  },
  {
   "cell_type": "code",
   "execution_count": 64,
   "metadata": {
    "collapsed": false,
    "scrolled": false
   },
   "outputs": [
    {
     "name": "stdout",
     "output_type": "stream",
     "text": [
      "##fileformat=VCFv4.1\n",
      "##FILTER=<ID=PASS,Description=\"All filters passed\">\n",
      "##fileDate=13092017_10h46m48s\n",
      "##source=SHAPEIT2.v837\n",
      "##log_file=shapeit_13092017_10h46m48s_a225583f-ce12-4530-881d-63b6e20bb1ee.log\n",
      "##FORMAT=<ID=GT,Number=1,Type=String,Description=\"Phased Genotype\">\n",
      "##contig=<ID=Contig237>\n",
      "##contig=<ID=Contig262>\n",
      "##contig=<ID=Contig263>\n",
      "##bcftools_concatVersion=1.3.1+htslib-1.3.1\n",
      "##bcftools_concatCommand=concat -O z -o /lustre/scratch113/projects/cichlid/analyses/20170704_variant_calling_malombe/_data/cichlid_data_outgroup.vcf.gz /lustre/scratch113/projects/cichlid/analyses/20170704_variant_calling_malombe/_data/cichlid_data_Contig237_phased_outgroup.vcf.gz /lustre/scratch113/projects/cichlid/analyses/20170704_variant_calling_malombe/_data/cichlid_data_Contig262_phased_outgroup.vcf.gz /lustre/scratch113/projects/cichlid/analyses/20170704_variant_calling_malombe/_data/cichlid_data_Contig263_phased_outgroup.vcf.gz\n",
      "#CHROM\tPOS\tID\tREF\tALT\tQUAL\tFILTER\tINFO\tFORMAT\tVirSWA1\tVirSWA2\tVirSWA3\tVirSWA4\tVirSWA5\tVirSWA6\tVirSWA7\tVirSWA8\tVirSWA9\tVirSWA10\tVirSWA11\tVirSWA12\tVirSWA13\tVirSWA14\tVirSWA15\tVirSWA16\tVirSWA17\tVirSWA18\tVirSWA19\tVirSWA20\tVirSWA21\tVirSWA22\tVirSWA23\tVirSWA24\tVirSWA25\tVirSWA26\tVirSWA27\tVirMAL1\tVirMAL2\tVirMAL3\tVirMAL4\tVirMAL5\tVirMAL6\tVirMAL7\tVirMAL8\tVirMAL9\tVirMAL10\tVirMAL11\tVirMAL12\tVirMAL13\tVirMAL14\tVirMAL15\tVirMAL16\tVirMAL17\tVirMAL18\tVirMAL19\tVirMAL20\tVirMAL21\tVirMAL22\tVirMAL23\tVirMAL24\tVirSEA1\tVirSEA2\tVirSEA3\tVirSEA4\tVirSEA5\tVirSEA6\tVirSEA7\tVirSEA8\tVirSEA9\tVirSEA10\tVirSEA11\tVirSEA12\tVirSEA13\tVirSEA14\tVirSEA15\tVirSEA16\tVirSEA17\tVirSEA18\tVirSEA19\tVirSEA20\tVirSEA21\tVirSEA22\tVirSEA23\tVirSEA24\tOreSqu1\n",
      "Contig237\t3190\t.\tG\tA\t.\tPASS\t.\tGT\t0|0\t0|1\t0|0\t0|0\t0|0\t0|0\t0|0\t0|0\t0|0\t0|0\t0|0\t0|0\t0|0\t0|0\t0|0\t0|0\t0|0\t0|0\t0|0\t0|0\t0|0\t0|0\t0|0\t0|0\t0|0\t0|0\t0|0\t0|0\t0|0\t0|0\t0|0\t0|0\t0|0\t0|0\t0|0\t0|0\t0|0\t0|0\t0|0\t0|0\t0|0\t0|0\t0|0\t0|0\t0|0\t0|0\t0|0\t0|0\t0|0\t0|0\t0|0\t0|0\t0|0\t0|0\t0|0\t0|0\t0|0\t0|0\t0|0\t0|0\t0|0\t0|0\t0|0\t0|1\t0|0\t0|0\t0|0\t0|0\t0|0\t0|0\t0|0\t0|0\t0|0\t0|0\t0|0\t0|0\n",
      "Contig237\t3203\t.\tT\tC\t.\tPASS\t.\tGT\t1|1\t1|1\t1|1\t1|1\t1|1\t1|1\t1|1\t1|1\t1|1\t1|1\t1|1\t1|1\t1|1\t0|1\t1|1\t1|1\t1|1\t1|1\t1|1\t1|1\t0|1\t1|1\t1|1\t1|1\t1|1\t1|1\t1|1\t1|1\t1|1\t1|1\t1|1\t0|1\t1|1\t1|1\t0|1\t1|1\t0|1\t1|1\t0|1\t1|1\t1|1\t1|1\t1|1\t1|1\t1|1\t1|1\t1|1\t1|1\t1|1\t1|1\t1|1\t1|1\t1|1\t0|1\t1|1\t1|1\t1|1\t1|1\t1|1\t1|1\t1|1\t1|1\t1|1\t1|1\t1|1\t1|1\t1|1\t1|1\t1|1\t1|1\t1|1\t1|1\t1|1\t1|1\t1|1\t1|1\n",
      "Contig237\t3230\t.\tA\tG\t.\tPASS\t.\tGT\t0|0\t0|0\t0|0\t0|0\t0|0\t0|0\t0|0\t0|0\t0|0\t0|0\t0|0\t0|0\t0|0\t1|0\t0|0\t0|0\t0|0\t0|0\t0|0\t0|0\t1|0\t0|0\t0|0\t0|0\t0|0\t0|0\t0|0\t0|0\t0|0\t0|0\t0|0\t1|0\t0|0\t0|0\t1|0\t0|0\t1|0\t0|0\t1|0\t0|0\t0|0\t0|0\t0|0\t0|0\t0|0\t0|0\t0|0\t0|0\t0|0\t0|0\t0|0\t0|0\t0|0\t0|0\t0|0\t0|0\t0|0\t0|0\t0|0\t0|0\t0|0\t0|0\t0|0\t0|0\t0|0\t0|0\t0|0\t0|0\t0|0\t0|0\t0|0\t0|0\t0|0\t0|0\t0|0\t0|0\n",
      "Contig237\t3310\t.\tG\tT\t.\tPASS\t.\tGT\t0|0\t0|0\t0|0\t0|0\t0|0\t0|0\t0|0\t0|0\t0|0\t0|0\t0|0\t0|0\t0|0\t0|0\t0|0\t0|0\t0|0\t0|0\t0|0\t0|0\t0|0\t0|0\t0|0\t0|0\t0|0\t0|0\t0|0\t0|0\t0|0\t0|0\t0|0\t0|0\t0|0\t0|0\t0|0\t0|0\t0|0\t0|0\t0|0\t0|0\t0|0\t0|0\t0|0\t0|0\t0|0\t0|0\t0|0\t0|0\t0|0\t0|0\t0|0\t0|0\t0|0\t0|0\t0|0\t0|0\t0|0\t0|0\t0|0\t0|0\t0|0\t0|0\t0|0\t0|0\t0|0\t0|0\t0|0\t0|0\t0|0\t0|0\t0|1\t0|1\t0|0\t0|0\t0|0\t0|0\n",
      "Contig237\t3311\t.\tG\tT\t.\tPASS\t.\tGT\t0|1\t0|0\t0|0\t0|0\t0|0\t0|0\t0|0\t0|0\t0|0\t0|0\t0|0\t0|0\t0|0\t0|0\t0|0\t0|1\t0|0\t0|0\t0|0\t0|0\t0|0\t0|0\t0|0\t0|0\t0|0\t0|0\t0|0\t0|0\t0|0\t0|0\t0|0\t0|0\t0|0\t0|0\t0|0\t0|0\t0|0\t0|0\t0|0\t0|0\t0|0\t0|0\t0|0\t0|0\t0|0\t0|0\t0|0\t0|0\t0|0\t0|0\t0|0\t0|0\t0|0\t0|0\t0|0\t0|0\t0|0\t0|0\t0|0\t0|0\t0|0\t0|0\t0|0\t0|0\t0|0\t0|0\t0|0\t0|0\t0|0\t0|0\t0|0\t0|0\t0|0\t0|0\t0|0\t0|0\n",
      "Contig237\t3313\t.\tC\tT\t.\tPASS\t.\tGT\t0|0\t0|0\t0|0\t0|0\t0|0\t0|0\t0|0\t0|0\t0|0\t0|0\t0|0\t0|0\t0|0\t0|0\t0|0\t0|0\t0|0\t0|0\t0|0\t0|0\t0|0\t0|0\t0|0\t0|0\t0|0\t0|0\t0|0\t0|0\t0|1\t0|0\t0|0\t0|0\t0|0\t0|0\t0|0\t0|0\t0|0\t0|0\t0|0\t0|0\t0|0\t0|0\t0|0\t0|0\t0|0\t0|0\t0|0\t0|0\t0|0\t0|0\t0|0\t0|0\t0|0\t0|0\t0|0\t0|0\t0|0\t0|0\t0|0\t0|0\t0|0\t0|0\t0|0\t0|0\t0|0\t0|0\t0|0\t0|0\t0|0\t0|0\t0|0\t0|0\t0|0\t0|0\t0|0\t0|0\n"
     ]
    },
    {
     "name": "stderr",
     "output_type": "stream",
     "text": [
      "\n",
      "gzip: stdout: Broken pipe\n"
     ]
    }
   ],
   "source": [
    "%%bash\n",
    "gzip -dc \"cichlid_data_outgroup.vcf.gz\" | head -n 18"
   ]
  },
  {
   "cell_type": "markdown",
   "metadata": {},
   "source": [
    "Parse in the header line of the file"
   ]
  },
  {
   "cell_type": "code",
   "execution_count": 65,
   "metadata": {
    "collapsed": true
   },
   "outputs": [],
   "source": [
    "## parse the header line starting with \"#CHROM\"\n",
    "import gzip\n",
    "with gzip.open(vcf_fn) as f:\n",
    "    for line in f:\n",
    "        if line[:6] == '#CHROM':\n",
    "            vcf_header = line.strip().split('\\t')\n",
    "            vcf_header[0] = vcf_header[0][1:]\n",
    "            break"
   ]
  },
  {
   "cell_type": "code",
   "execution_count": 66,
   "metadata": {
    "collapsed": false
   },
   "outputs": [
    {
     "name": "stdout",
     "output_type": "stream",
     "text": [
      "['CHROM', 'POS', 'ID', 'REF', 'ALT', 'QUAL', 'FILTER', 'INFO', 'FORMAT', 'VirSWA1', 'VirSWA2', 'VirSWA3', 'VirSWA4', 'VirSWA5', 'VirSWA6', 'VirSWA7', 'VirSWA8', 'VirSWA9', 'VirSWA10', 'VirSWA11']\n"
     ]
    }
   ],
   "source": [
    "#The vcf\n",
    "print vcf_header[:20]"
   ]
  },
  {
   "cell_type": "code",
   "execution_count": 67,
   "metadata": {
    "collapsed": false
   },
   "outputs": [],
   "source": [
    "# Read a tsv, csv, into a data frame\n",
    "pd.read_csv?"
   ]
  },
  {
   "cell_type": "code",
   "execution_count": 68,
   "metadata": {
    "collapsed": false
   },
   "outputs": [],
   "source": [
    "# Here we read in the vcf file, which basically is tab-separated value file.\n",
    "gen_df = pd.read_csv(vcf_fn, \n",
    "                     sep='\\t',\n",
    "                     comment='#',\n",
    "                     header=None,\n",
    "                     names=vcf_header,\n",
    "                     index_col=['CHROM','POS'])"
   ]
  },
  {
   "cell_type": "code",
   "execution_count": 69,
   "metadata": {
    "collapsed": false
   },
   "outputs": [
    {
     "data": {
      "text/html": [
       "<div>\n",
       "<table border=\"1\" class=\"dataframe\">\n",
       "  <thead>\n",
       "    <tr style=\"text-align: right;\">\n",
       "      <th></th>\n",
       "      <th></th>\n",
       "      <th>ID</th>\n",
       "      <th>REF</th>\n",
       "      <th>ALT</th>\n",
       "      <th>QUAL</th>\n",
       "      <th>FILTER</th>\n",
       "      <th>INFO</th>\n",
       "      <th>FORMAT</th>\n",
       "      <th>VirSWA1</th>\n",
       "      <th>VirSWA2</th>\n",
       "      <th>VirSWA3</th>\n",
       "      <th>...</th>\n",
       "      <th>VirSEA16</th>\n",
       "      <th>VirSEA17</th>\n",
       "      <th>VirSEA18</th>\n",
       "      <th>VirSEA19</th>\n",
       "      <th>VirSEA20</th>\n",
       "      <th>VirSEA21</th>\n",
       "      <th>VirSEA22</th>\n",
       "      <th>VirSEA23</th>\n",
       "      <th>VirSEA24</th>\n",
       "      <th>OreSqu1</th>\n",
       "    </tr>\n",
       "    <tr>\n",
       "      <th>CHROM</th>\n",
       "      <th>POS</th>\n",
       "      <th></th>\n",
       "      <th></th>\n",
       "      <th></th>\n",
       "      <th></th>\n",
       "      <th></th>\n",
       "      <th></th>\n",
       "      <th></th>\n",
       "      <th></th>\n",
       "      <th></th>\n",
       "      <th></th>\n",
       "      <th></th>\n",
       "      <th></th>\n",
       "      <th></th>\n",
       "      <th></th>\n",
       "      <th></th>\n",
       "      <th></th>\n",
       "      <th></th>\n",
       "      <th></th>\n",
       "      <th></th>\n",
       "      <th></th>\n",
       "      <th></th>\n",
       "    </tr>\n",
       "  </thead>\n",
       "  <tbody>\n",
       "    <tr>\n",
       "      <th rowspan=\"5\" valign=\"top\">Contig237</th>\n",
       "      <th>3190</th>\n",
       "      <td>.</td>\n",
       "      <td>G</td>\n",
       "      <td>A</td>\n",
       "      <td>.</td>\n",
       "      <td>PASS</td>\n",
       "      <td>.</td>\n",
       "      <td>GT</td>\n",
       "      <td>0|0</td>\n",
       "      <td>0|1</td>\n",
       "      <td>0|0</td>\n",
       "      <td>...</td>\n",
       "      <td>0|0</td>\n",
       "      <td>0|0</td>\n",
       "      <td>0|0</td>\n",
       "      <td>0|0</td>\n",
       "      <td>0|0</td>\n",
       "      <td>0|0</td>\n",
       "      <td>0|0</td>\n",
       "      <td>0|0</td>\n",
       "      <td>0|0</td>\n",
       "      <td>0|0</td>\n",
       "    </tr>\n",
       "    <tr>\n",
       "      <th>3203</th>\n",
       "      <td>.</td>\n",
       "      <td>T</td>\n",
       "      <td>C</td>\n",
       "      <td>.</td>\n",
       "      <td>PASS</td>\n",
       "      <td>.</td>\n",
       "      <td>GT</td>\n",
       "      <td>1|1</td>\n",
       "      <td>1|1</td>\n",
       "      <td>1|1</td>\n",
       "      <td>...</td>\n",
       "      <td>1|1</td>\n",
       "      <td>1|1</td>\n",
       "      <td>1|1</td>\n",
       "      <td>1|1</td>\n",
       "      <td>1|1</td>\n",
       "      <td>1|1</td>\n",
       "      <td>1|1</td>\n",
       "      <td>1|1</td>\n",
       "      <td>1|1</td>\n",
       "      <td>1|1</td>\n",
       "    </tr>\n",
       "    <tr>\n",
       "      <th>3230</th>\n",
       "      <td>.</td>\n",
       "      <td>A</td>\n",
       "      <td>G</td>\n",
       "      <td>.</td>\n",
       "      <td>PASS</td>\n",
       "      <td>.</td>\n",
       "      <td>GT</td>\n",
       "      <td>0|0</td>\n",
       "      <td>0|0</td>\n",
       "      <td>0|0</td>\n",
       "      <td>...</td>\n",
       "      <td>0|0</td>\n",
       "      <td>0|0</td>\n",
       "      <td>0|0</td>\n",
       "      <td>0|0</td>\n",
       "      <td>0|0</td>\n",
       "      <td>0|0</td>\n",
       "      <td>0|0</td>\n",
       "      <td>0|0</td>\n",
       "      <td>0|0</td>\n",
       "      <td>0|0</td>\n",
       "    </tr>\n",
       "    <tr>\n",
       "      <th>3310</th>\n",
       "      <td>.</td>\n",
       "      <td>G</td>\n",
       "      <td>T</td>\n",
       "      <td>.</td>\n",
       "      <td>PASS</td>\n",
       "      <td>.</td>\n",
       "      <td>GT</td>\n",
       "      <td>0|0</td>\n",
       "      <td>0|0</td>\n",
       "      <td>0|0</td>\n",
       "      <td>...</td>\n",
       "      <td>0|0</td>\n",
       "      <td>0|0</td>\n",
       "      <td>0|0</td>\n",
       "      <td>0|0</td>\n",
       "      <td>0|1</td>\n",
       "      <td>0|1</td>\n",
       "      <td>0|0</td>\n",
       "      <td>0|0</td>\n",
       "      <td>0|0</td>\n",
       "      <td>0|0</td>\n",
       "    </tr>\n",
       "    <tr>\n",
       "      <th>3311</th>\n",
       "      <td>.</td>\n",
       "      <td>G</td>\n",
       "      <td>T</td>\n",
       "      <td>.</td>\n",
       "      <td>PASS</td>\n",
       "      <td>.</td>\n",
       "      <td>GT</td>\n",
       "      <td>0|1</td>\n",
       "      <td>0|0</td>\n",
       "      <td>0|0</td>\n",
       "      <td>...</td>\n",
       "      <td>0|0</td>\n",
       "      <td>0|0</td>\n",
       "      <td>0|0</td>\n",
       "      <td>0|0</td>\n",
       "      <td>0|0</td>\n",
       "      <td>0|0</td>\n",
       "      <td>0|0</td>\n",
       "      <td>0|0</td>\n",
       "      <td>0|0</td>\n",
       "      <td>0|0</td>\n",
       "    </tr>\n",
       "  </tbody>\n",
       "</table>\n",
       "<p>5 rows × 83 columns</p>\n",
       "</div>"
      ],
      "text/plain": [
       "               ID REF ALT QUAL FILTER INFO FORMAT VirSWA1 VirSWA2 VirSWA3  \\\n",
       "CHROM     POS                                                               \n",
       "Contig237 3190  .   G   A    .   PASS    .     GT     0|0     0|1     0|0   \n",
       "          3203  .   T   C    .   PASS    .     GT     1|1     1|1     1|1   \n",
       "          3230  .   A   G    .   PASS    .     GT     0|0     0|0     0|0   \n",
       "          3310  .   G   T    .   PASS    .     GT     0|0     0|0     0|0   \n",
       "          3311  .   G   T    .   PASS    .     GT     0|1     0|0     0|0   \n",
       "\n",
       "                 ...   VirSEA16 VirSEA17 VirSEA18 VirSEA19 VirSEA20 VirSEA21  \\\n",
       "CHROM     POS    ...                                                           \n",
       "Contig237 3190   ...        0|0      0|0      0|0      0|0      0|0      0|0   \n",
       "          3203   ...        1|1      1|1      1|1      1|1      1|1      1|1   \n",
       "          3230   ...        0|0      0|0      0|0      0|0      0|0      0|0   \n",
       "          3310   ...        0|0      0|0      0|0      0|0      0|1      0|1   \n",
       "          3311   ...        0|0      0|0      0|0      0|0      0|0      0|0   \n",
       "\n",
       "               VirSEA22 VirSEA23 VirSEA24 OreSqu1  \n",
       "CHROM     POS                                      \n",
       "Contig237 3190      0|0      0|0      0|0     0|0  \n",
       "          3203      1|1      1|1      1|1     1|1  \n",
       "          3230      0|0      0|0      0|0     0|0  \n",
       "          3310      0|0      0|0      0|0     0|0  \n",
       "          3311      0|0      0|0      0|0     0|0  \n",
       "\n",
       "[5 rows x 83 columns]"
      ]
     },
     "execution_count": 69,
     "metadata": {},
     "output_type": "execute_result"
    }
   ],
   "source": [
    "gen_df.head()"
   ]
  },
  {
   "cell_type": "code",
   "execution_count": 70,
   "metadata": {
    "collapsed": true
   },
   "outputs": [],
   "source": [
    "# Convert the GT=string into data frames with integer for first and second haplotype\n",
    "first_haplotype = gen_df.iloc[:, 9:].applymap(lambda s: int(s.split('|')[0]))\n",
    "second_haplotype = gen_df.iloc[:, 9:].applymap(lambda s: int(s.split('|')[1]))"
   ]
  },
  {
   "cell_type": "code",
   "execution_count": 71,
   "metadata": {
    "collapsed": false
   },
   "outputs": [
    {
     "data": {
      "text/html": [
       "<div>\n",
       "<table border=\"1\" class=\"dataframe\">\n",
       "  <thead>\n",
       "    <tr style=\"text-align: right;\">\n",
       "      <th></th>\n",
       "      <th></th>\n",
       "      <th>VirSWA3</th>\n",
       "      <th>VirSWA4</th>\n",
       "      <th>VirSWA5</th>\n",
       "      <th>VirSWA6</th>\n",
       "      <th>VirSWA7</th>\n",
       "      <th>VirSWA8</th>\n",
       "      <th>VirSWA9</th>\n",
       "      <th>VirSWA10</th>\n",
       "      <th>VirSWA11</th>\n",
       "      <th>VirSWA12</th>\n",
       "      <th>...</th>\n",
       "      <th>VirSEA16</th>\n",
       "      <th>VirSEA17</th>\n",
       "      <th>VirSEA18</th>\n",
       "      <th>VirSEA19</th>\n",
       "      <th>VirSEA20</th>\n",
       "      <th>VirSEA21</th>\n",
       "      <th>VirSEA22</th>\n",
       "      <th>VirSEA23</th>\n",
       "      <th>VirSEA24</th>\n",
       "      <th>OreSqu1</th>\n",
       "    </tr>\n",
       "    <tr>\n",
       "      <th>CHROM</th>\n",
       "      <th>POS</th>\n",
       "      <th></th>\n",
       "      <th></th>\n",
       "      <th></th>\n",
       "      <th></th>\n",
       "      <th></th>\n",
       "      <th></th>\n",
       "      <th></th>\n",
       "      <th></th>\n",
       "      <th></th>\n",
       "      <th></th>\n",
       "      <th></th>\n",
       "      <th></th>\n",
       "      <th></th>\n",
       "      <th></th>\n",
       "      <th></th>\n",
       "      <th></th>\n",
       "      <th></th>\n",
       "      <th></th>\n",
       "      <th></th>\n",
       "      <th></th>\n",
       "      <th></th>\n",
       "    </tr>\n",
       "  </thead>\n",
       "  <tbody>\n",
       "    <tr>\n",
       "      <th rowspan=\"5\" valign=\"top\">Contig237</th>\n",
       "      <th>3190</th>\n",
       "      <td>0</td>\n",
       "      <td>0</td>\n",
       "      <td>0</td>\n",
       "      <td>0</td>\n",
       "      <td>0</td>\n",
       "      <td>0</td>\n",
       "      <td>0</td>\n",
       "      <td>0</td>\n",
       "      <td>0</td>\n",
       "      <td>0</td>\n",
       "      <td>...</td>\n",
       "      <td>0</td>\n",
       "      <td>0</td>\n",
       "      <td>0</td>\n",
       "      <td>0</td>\n",
       "      <td>0</td>\n",
       "      <td>0</td>\n",
       "      <td>0</td>\n",
       "      <td>0</td>\n",
       "      <td>0</td>\n",
       "      <td>0</td>\n",
       "    </tr>\n",
       "    <tr>\n",
       "      <th>3203</th>\n",
       "      <td>1</td>\n",
       "      <td>1</td>\n",
       "      <td>1</td>\n",
       "      <td>1</td>\n",
       "      <td>1</td>\n",
       "      <td>1</td>\n",
       "      <td>1</td>\n",
       "      <td>1</td>\n",
       "      <td>1</td>\n",
       "      <td>1</td>\n",
       "      <td>...</td>\n",
       "      <td>1</td>\n",
       "      <td>1</td>\n",
       "      <td>1</td>\n",
       "      <td>1</td>\n",
       "      <td>1</td>\n",
       "      <td>1</td>\n",
       "      <td>1</td>\n",
       "      <td>1</td>\n",
       "      <td>1</td>\n",
       "      <td>1</td>\n",
       "    </tr>\n",
       "    <tr>\n",
       "      <th>3230</th>\n",
       "      <td>0</td>\n",
       "      <td>0</td>\n",
       "      <td>0</td>\n",
       "      <td>0</td>\n",
       "      <td>0</td>\n",
       "      <td>0</td>\n",
       "      <td>0</td>\n",
       "      <td>0</td>\n",
       "      <td>0</td>\n",
       "      <td>0</td>\n",
       "      <td>...</td>\n",
       "      <td>0</td>\n",
       "      <td>0</td>\n",
       "      <td>0</td>\n",
       "      <td>0</td>\n",
       "      <td>0</td>\n",
       "      <td>0</td>\n",
       "      <td>0</td>\n",
       "      <td>0</td>\n",
       "      <td>0</td>\n",
       "      <td>0</td>\n",
       "    </tr>\n",
       "    <tr>\n",
       "      <th>3310</th>\n",
       "      <td>0</td>\n",
       "      <td>0</td>\n",
       "      <td>0</td>\n",
       "      <td>0</td>\n",
       "      <td>0</td>\n",
       "      <td>0</td>\n",
       "      <td>0</td>\n",
       "      <td>0</td>\n",
       "      <td>0</td>\n",
       "      <td>0</td>\n",
       "      <td>...</td>\n",
       "      <td>0</td>\n",
       "      <td>0</td>\n",
       "      <td>0</td>\n",
       "      <td>0</td>\n",
       "      <td>0</td>\n",
       "      <td>0</td>\n",
       "      <td>0</td>\n",
       "      <td>0</td>\n",
       "      <td>0</td>\n",
       "      <td>0</td>\n",
       "    </tr>\n",
       "    <tr>\n",
       "      <th>3311</th>\n",
       "      <td>0</td>\n",
       "      <td>0</td>\n",
       "      <td>0</td>\n",
       "      <td>0</td>\n",
       "      <td>0</td>\n",
       "      <td>0</td>\n",
       "      <td>0</td>\n",
       "      <td>0</td>\n",
       "      <td>0</td>\n",
       "      <td>0</td>\n",
       "      <td>...</td>\n",
       "      <td>0</td>\n",
       "      <td>0</td>\n",
       "      <td>0</td>\n",
       "      <td>0</td>\n",
       "      <td>0</td>\n",
       "      <td>0</td>\n",
       "      <td>0</td>\n",
       "      <td>0</td>\n",
       "      <td>0</td>\n",
       "      <td>0</td>\n",
       "    </tr>\n",
       "  </tbody>\n",
       "</table>\n",
       "<p>5 rows × 74 columns</p>\n",
       "</div>"
      ],
      "text/plain": [
       "                VirSWA3  VirSWA4  VirSWA5  VirSWA6  VirSWA7  VirSWA8  VirSWA9  \\\n",
       "CHROM     POS                                                                   \n",
       "Contig237 3190        0        0        0        0        0        0        0   \n",
       "          3203        1        1        1        1        1        1        1   \n",
       "          3230        0        0        0        0        0        0        0   \n",
       "          3310        0        0        0        0        0        0        0   \n",
       "          3311        0        0        0        0        0        0        0   \n",
       "\n",
       "                VirSWA10  VirSWA11  VirSWA12   ...     VirSEA16  VirSEA17  \\\n",
       "CHROM     POS                                  ...                          \n",
       "Contig237 3190         0         0         0   ...            0         0   \n",
       "          3203         1         1         1   ...            1         1   \n",
       "          3230         0         0         0   ...            0         0   \n",
       "          3310         0         0         0   ...            0         0   \n",
       "          3311         0         0         0   ...            0         0   \n",
       "\n",
       "                VirSEA18  VirSEA19  VirSEA20  VirSEA21  VirSEA22  VirSEA23  \\\n",
       "CHROM     POS                                                                \n",
       "Contig237 3190         0         0         0         0         0         0   \n",
       "          3203         1         1         1         1         1         1   \n",
       "          3230         0         0         0         0         0         0   \n",
       "          3310         0         0         0         0         0         0   \n",
       "          3311         0         0         0         0         0         0   \n",
       "\n",
       "                VirSEA24  OreSqu1  \n",
       "CHROM     POS                      \n",
       "Contig237 3190         0        0  \n",
       "          3203         1        1  \n",
       "          3230         0        0  \n",
       "          3310         0        0  \n",
       "          3311         0        0  \n",
       "\n",
       "[5 rows x 74 columns]"
      ]
     },
     "execution_count": 71,
     "metadata": {},
     "output_type": "execute_result"
    }
   ],
   "source": [
    "first_haplotype.head()"
   ]
  },
  {
   "cell_type": "code",
   "execution_count": 72,
   "metadata": {
    "collapsed": true
   },
   "outputs": [],
   "source": [
    "# Create a second level in the column index that specifies the haplotype\n",
    "first_haplotype.columns = pd.MultiIndex.from_product([first_haplotype.columns, [0]])\n",
    "second_haplotype.columns = pd.MultiIndex.from_product([second_haplotype.columns, [1]])"
   ]
  },
  {
   "cell_type": "code",
   "execution_count": 73,
   "metadata": {
    "collapsed": false
   },
   "outputs": [
    {
     "data": {
      "text/html": [
       "<div>\n",
       "<table border=\"1\" class=\"dataframe\">\n",
       "  <thead>\n",
       "    <tr>\n",
       "      <th></th>\n",
       "      <th></th>\n",
       "      <th>VirSWA3</th>\n",
       "      <th>VirSWA4</th>\n",
       "      <th>VirSWA5</th>\n",
       "      <th>VirSWA6</th>\n",
       "      <th>VirSWA7</th>\n",
       "      <th>VirSWA8</th>\n",
       "      <th>VirSWA9</th>\n",
       "      <th>VirSWA10</th>\n",
       "      <th>VirSWA11</th>\n",
       "      <th>VirSWA12</th>\n",
       "      <th>...</th>\n",
       "      <th>VirSEA16</th>\n",
       "      <th>VirSEA17</th>\n",
       "      <th>VirSEA18</th>\n",
       "      <th>VirSEA19</th>\n",
       "      <th>VirSEA20</th>\n",
       "      <th>VirSEA21</th>\n",
       "      <th>VirSEA22</th>\n",
       "      <th>VirSEA23</th>\n",
       "      <th>VirSEA24</th>\n",
       "      <th>OreSqu1</th>\n",
       "    </tr>\n",
       "    <tr>\n",
       "      <th></th>\n",
       "      <th></th>\n",
       "      <th>0</th>\n",
       "      <th>0</th>\n",
       "      <th>0</th>\n",
       "      <th>0</th>\n",
       "      <th>0</th>\n",
       "      <th>0</th>\n",
       "      <th>0</th>\n",
       "      <th>0</th>\n",
       "      <th>0</th>\n",
       "      <th>0</th>\n",
       "      <th>...</th>\n",
       "      <th>0</th>\n",
       "      <th>0</th>\n",
       "      <th>0</th>\n",
       "      <th>0</th>\n",
       "      <th>0</th>\n",
       "      <th>0</th>\n",
       "      <th>0</th>\n",
       "      <th>0</th>\n",
       "      <th>0</th>\n",
       "      <th>0</th>\n",
       "    </tr>\n",
       "    <tr>\n",
       "      <th>CHROM</th>\n",
       "      <th>POS</th>\n",
       "      <th></th>\n",
       "      <th></th>\n",
       "      <th></th>\n",
       "      <th></th>\n",
       "      <th></th>\n",
       "      <th></th>\n",
       "      <th></th>\n",
       "      <th></th>\n",
       "      <th></th>\n",
       "      <th></th>\n",
       "      <th></th>\n",
       "      <th></th>\n",
       "      <th></th>\n",
       "      <th></th>\n",
       "      <th></th>\n",
       "      <th></th>\n",
       "      <th></th>\n",
       "      <th></th>\n",
       "      <th></th>\n",
       "      <th></th>\n",
       "      <th></th>\n",
       "    </tr>\n",
       "  </thead>\n",
       "  <tbody>\n",
       "    <tr>\n",
       "      <th rowspan=\"5\" valign=\"top\">Contig237</th>\n",
       "      <th>3190</th>\n",
       "      <td>0</td>\n",
       "      <td>0</td>\n",
       "      <td>0</td>\n",
       "      <td>0</td>\n",
       "      <td>0</td>\n",
       "      <td>0</td>\n",
       "      <td>0</td>\n",
       "      <td>0</td>\n",
       "      <td>0</td>\n",
       "      <td>0</td>\n",
       "      <td>...</td>\n",
       "      <td>0</td>\n",
       "      <td>0</td>\n",
       "      <td>0</td>\n",
       "      <td>0</td>\n",
       "      <td>0</td>\n",
       "      <td>0</td>\n",
       "      <td>0</td>\n",
       "      <td>0</td>\n",
       "      <td>0</td>\n",
       "      <td>0</td>\n",
       "    </tr>\n",
       "    <tr>\n",
       "      <th>3203</th>\n",
       "      <td>1</td>\n",
       "      <td>1</td>\n",
       "      <td>1</td>\n",
       "      <td>1</td>\n",
       "      <td>1</td>\n",
       "      <td>1</td>\n",
       "      <td>1</td>\n",
       "      <td>1</td>\n",
       "      <td>1</td>\n",
       "      <td>1</td>\n",
       "      <td>...</td>\n",
       "      <td>1</td>\n",
       "      <td>1</td>\n",
       "      <td>1</td>\n",
       "      <td>1</td>\n",
       "      <td>1</td>\n",
       "      <td>1</td>\n",
       "      <td>1</td>\n",
       "      <td>1</td>\n",
       "      <td>1</td>\n",
       "      <td>1</td>\n",
       "    </tr>\n",
       "    <tr>\n",
       "      <th>3230</th>\n",
       "      <td>0</td>\n",
       "      <td>0</td>\n",
       "      <td>0</td>\n",
       "      <td>0</td>\n",
       "      <td>0</td>\n",
       "      <td>0</td>\n",
       "      <td>0</td>\n",
       "      <td>0</td>\n",
       "      <td>0</td>\n",
       "      <td>0</td>\n",
       "      <td>...</td>\n",
       "      <td>0</td>\n",
       "      <td>0</td>\n",
       "      <td>0</td>\n",
       "      <td>0</td>\n",
       "      <td>0</td>\n",
       "      <td>0</td>\n",
       "      <td>0</td>\n",
       "      <td>0</td>\n",
       "      <td>0</td>\n",
       "      <td>0</td>\n",
       "    </tr>\n",
       "    <tr>\n",
       "      <th>3310</th>\n",
       "      <td>0</td>\n",
       "      <td>0</td>\n",
       "      <td>0</td>\n",
       "      <td>0</td>\n",
       "      <td>0</td>\n",
       "      <td>0</td>\n",
       "      <td>0</td>\n",
       "      <td>0</td>\n",
       "      <td>0</td>\n",
       "      <td>0</td>\n",
       "      <td>...</td>\n",
       "      <td>0</td>\n",
       "      <td>0</td>\n",
       "      <td>0</td>\n",
       "      <td>0</td>\n",
       "      <td>0</td>\n",
       "      <td>0</td>\n",
       "      <td>0</td>\n",
       "      <td>0</td>\n",
       "      <td>0</td>\n",
       "      <td>0</td>\n",
       "    </tr>\n",
       "    <tr>\n",
       "      <th>3311</th>\n",
       "      <td>0</td>\n",
       "      <td>0</td>\n",
       "      <td>0</td>\n",
       "      <td>0</td>\n",
       "      <td>0</td>\n",
       "      <td>0</td>\n",
       "      <td>0</td>\n",
       "      <td>0</td>\n",
       "      <td>0</td>\n",
       "      <td>0</td>\n",
       "      <td>...</td>\n",
       "      <td>0</td>\n",
       "      <td>0</td>\n",
       "      <td>0</td>\n",
       "      <td>0</td>\n",
       "      <td>0</td>\n",
       "      <td>0</td>\n",
       "      <td>0</td>\n",
       "      <td>0</td>\n",
       "      <td>0</td>\n",
       "      <td>0</td>\n",
       "    </tr>\n",
       "  </tbody>\n",
       "</table>\n",
       "<p>5 rows × 74 columns</p>\n",
       "</div>"
      ],
      "text/plain": [
       "               VirSWA3 VirSWA4 VirSWA5 VirSWA6 VirSWA7 VirSWA8 VirSWA9  \\\n",
       "                     0       0       0       0       0       0       0   \n",
       "CHROM     POS                                                            \n",
       "Contig237 3190       0       0       0       0       0       0       0   \n",
       "          3203       1       1       1       1       1       1       1   \n",
       "          3230       0       0       0       0       0       0       0   \n",
       "          3310       0       0       0       0       0       0       0   \n",
       "          3311       0       0       0       0       0       0       0   \n",
       "\n",
       "               VirSWA10 VirSWA11 VirSWA12   ...   VirSEA16 VirSEA17 VirSEA18  \\\n",
       "                      0        0        0   ...          0        0        0   \n",
       "CHROM     POS                               ...                                \n",
       "Contig237 3190        0        0        0   ...          0        0        0   \n",
       "          3203        1        1        1   ...          1        1        1   \n",
       "          3230        0        0        0   ...          0        0        0   \n",
       "          3310        0        0        0   ...          0        0        0   \n",
       "          3311        0        0        0   ...          0        0        0   \n",
       "\n",
       "               VirSEA19 VirSEA20 VirSEA21 VirSEA22 VirSEA23 VirSEA24 OreSqu1  \n",
       "                      0        0        0        0        0        0       0  \n",
       "CHROM     POS                                                                 \n",
       "Contig237 3190        0        0        0        0        0        0       0  \n",
       "          3203        1        1        1        1        1        1       1  \n",
       "          3230        0        0        0        0        0        0       0  \n",
       "          3310        0        0        0        0        0        0       0  \n",
       "          3311        0        0        0        0        0        0       0  \n",
       "\n",
       "[5 rows x 74 columns]"
      ]
     },
     "execution_count": 73,
     "metadata": {},
     "output_type": "execute_result"
    }
   ],
   "source": [
    "first_haplotype.head()"
   ]
  },
  {
   "cell_type": "code",
   "execution_count": 74,
   "metadata": {
    "collapsed": true
   },
   "outputs": [],
   "source": [
    "# Creat a haplotype dataframe with all the data\n",
    "hap_df = pd.concat([first_haplotype, second_haplotype], axis=1).sort_index(axis=1)"
   ]
  },
  {
   "cell_type": "code",
   "execution_count": 75,
   "metadata": {
    "collapsed": false
   },
   "outputs": [
    {
     "data": {
      "text/html": [
       "<div>\n",
       "<table border=\"1\" class=\"dataframe\">\n",
       "  <thead>\n",
       "    <tr>\n",
       "      <th></th>\n",
       "      <th></th>\n",
       "      <th colspan=\"2\" halign=\"left\">OreSqu1</th>\n",
       "      <th colspan=\"2\" halign=\"left\">VirMAL1</th>\n",
       "      <th colspan=\"2\" halign=\"left\">VirMAL10</th>\n",
       "      <th colspan=\"2\" halign=\"left\">VirMAL11</th>\n",
       "      <th colspan=\"2\" halign=\"left\">VirMAL12</th>\n",
       "      <th>...</th>\n",
       "      <th colspan=\"2\" halign=\"left\">VirSWA5</th>\n",
       "      <th colspan=\"2\" halign=\"left\">VirSWA6</th>\n",
       "      <th colspan=\"2\" halign=\"left\">VirSWA7</th>\n",
       "      <th colspan=\"2\" halign=\"left\">VirSWA8</th>\n",
       "      <th colspan=\"2\" halign=\"left\">VirSWA9</th>\n",
       "    </tr>\n",
       "    <tr>\n",
       "      <th></th>\n",
       "      <th></th>\n",
       "      <th>0</th>\n",
       "      <th>1</th>\n",
       "      <th>0</th>\n",
       "      <th>1</th>\n",
       "      <th>0</th>\n",
       "      <th>1</th>\n",
       "      <th>0</th>\n",
       "      <th>1</th>\n",
       "      <th>0</th>\n",
       "      <th>1</th>\n",
       "      <th>...</th>\n",
       "      <th>0</th>\n",
       "      <th>1</th>\n",
       "      <th>0</th>\n",
       "      <th>1</th>\n",
       "      <th>0</th>\n",
       "      <th>1</th>\n",
       "      <th>0</th>\n",
       "      <th>1</th>\n",
       "      <th>0</th>\n",
       "      <th>1</th>\n",
       "    </tr>\n",
       "    <tr>\n",
       "      <th>CHROM</th>\n",
       "      <th>POS</th>\n",
       "      <th></th>\n",
       "      <th></th>\n",
       "      <th></th>\n",
       "      <th></th>\n",
       "      <th></th>\n",
       "      <th></th>\n",
       "      <th></th>\n",
       "      <th></th>\n",
       "      <th></th>\n",
       "      <th></th>\n",
       "      <th></th>\n",
       "      <th></th>\n",
       "      <th></th>\n",
       "      <th></th>\n",
       "      <th></th>\n",
       "      <th></th>\n",
       "      <th></th>\n",
       "      <th></th>\n",
       "      <th></th>\n",
       "      <th></th>\n",
       "      <th></th>\n",
       "    </tr>\n",
       "  </thead>\n",
       "  <tbody>\n",
       "    <tr>\n",
       "      <th rowspan=\"5\" valign=\"top\">Contig237</th>\n",
       "      <th>3190</th>\n",
       "      <td>0</td>\n",
       "      <td>0</td>\n",
       "      <td>0</td>\n",
       "      <td>0</td>\n",
       "      <td>0</td>\n",
       "      <td>0</td>\n",
       "      <td>0</td>\n",
       "      <td>0</td>\n",
       "      <td>0</td>\n",
       "      <td>0</td>\n",
       "      <td>...</td>\n",
       "      <td>0</td>\n",
       "      <td>0</td>\n",
       "      <td>0</td>\n",
       "      <td>0</td>\n",
       "      <td>0</td>\n",
       "      <td>0</td>\n",
       "      <td>0</td>\n",
       "      <td>0</td>\n",
       "      <td>0</td>\n",
       "      <td>0</td>\n",
       "    </tr>\n",
       "    <tr>\n",
       "      <th>3203</th>\n",
       "      <td>1</td>\n",
       "      <td>1</td>\n",
       "      <td>1</td>\n",
       "      <td>1</td>\n",
       "      <td>0</td>\n",
       "      <td>1</td>\n",
       "      <td>1</td>\n",
       "      <td>1</td>\n",
       "      <td>0</td>\n",
       "      <td>1</td>\n",
       "      <td>...</td>\n",
       "      <td>1</td>\n",
       "      <td>1</td>\n",
       "      <td>1</td>\n",
       "      <td>1</td>\n",
       "      <td>1</td>\n",
       "      <td>1</td>\n",
       "      <td>1</td>\n",
       "      <td>1</td>\n",
       "      <td>1</td>\n",
       "      <td>1</td>\n",
       "    </tr>\n",
       "    <tr>\n",
       "      <th>3230</th>\n",
       "      <td>0</td>\n",
       "      <td>0</td>\n",
       "      <td>0</td>\n",
       "      <td>0</td>\n",
       "      <td>1</td>\n",
       "      <td>0</td>\n",
       "      <td>0</td>\n",
       "      <td>0</td>\n",
       "      <td>1</td>\n",
       "      <td>0</td>\n",
       "      <td>...</td>\n",
       "      <td>0</td>\n",
       "      <td>0</td>\n",
       "      <td>0</td>\n",
       "      <td>0</td>\n",
       "      <td>0</td>\n",
       "      <td>0</td>\n",
       "      <td>0</td>\n",
       "      <td>0</td>\n",
       "      <td>0</td>\n",
       "      <td>0</td>\n",
       "    </tr>\n",
       "    <tr>\n",
       "      <th>3310</th>\n",
       "      <td>0</td>\n",
       "      <td>0</td>\n",
       "      <td>0</td>\n",
       "      <td>0</td>\n",
       "      <td>0</td>\n",
       "      <td>0</td>\n",
       "      <td>0</td>\n",
       "      <td>0</td>\n",
       "      <td>0</td>\n",
       "      <td>0</td>\n",
       "      <td>...</td>\n",
       "      <td>0</td>\n",
       "      <td>0</td>\n",
       "      <td>0</td>\n",
       "      <td>0</td>\n",
       "      <td>0</td>\n",
       "      <td>0</td>\n",
       "      <td>0</td>\n",
       "      <td>0</td>\n",
       "      <td>0</td>\n",
       "      <td>0</td>\n",
       "    </tr>\n",
       "    <tr>\n",
       "      <th>3311</th>\n",
       "      <td>0</td>\n",
       "      <td>0</td>\n",
       "      <td>0</td>\n",
       "      <td>0</td>\n",
       "      <td>0</td>\n",
       "      <td>0</td>\n",
       "      <td>0</td>\n",
       "      <td>0</td>\n",
       "      <td>0</td>\n",
       "      <td>0</td>\n",
       "      <td>...</td>\n",
       "      <td>0</td>\n",
       "      <td>0</td>\n",
       "      <td>0</td>\n",
       "      <td>0</td>\n",
       "      <td>0</td>\n",
       "      <td>0</td>\n",
       "      <td>0</td>\n",
       "      <td>0</td>\n",
       "      <td>0</td>\n",
       "      <td>0</td>\n",
       "    </tr>\n",
       "  </tbody>\n",
       "</table>\n",
       "<p>5 rows × 148 columns</p>\n",
       "</div>"
      ],
      "text/plain": [
       "               OreSqu1    VirMAL1    VirMAL10    VirMAL11    VirMAL12    ...  \\\n",
       "                     0  1       0  1        0  1        0  1        0  1 ...   \n",
       "CHROM     POS                                                            ...   \n",
       "Contig237 3190       0  0       0  0        0  0        0  0        0  0 ...   \n",
       "          3203       1  1       1  1        0  1        1  1        0  1 ...   \n",
       "          3230       0  0       0  0        1  0        0  0        1  0 ...   \n",
       "          3310       0  0       0  0        0  0        0  0        0  0 ...   \n",
       "          3311       0  0       0  0        0  0        0  0        0  0 ...   \n",
       "\n",
       "               VirSWA5    VirSWA6    VirSWA7    VirSWA8    VirSWA9     \n",
       "                     0  1       0  1       0  1       0  1       0  1  \n",
       "CHROM     POS                                                          \n",
       "Contig237 3190       0  0       0  0       0  0       0  0       0  0  \n",
       "          3203       1  1       1  1       1  1       1  1       1  1  \n",
       "          3230       0  0       0  0       0  0       0  0       0  0  \n",
       "          3310       0  0       0  0       0  0       0  0       0  0  \n",
       "          3311       0  0       0  0       0  0       0  0       0  0  \n",
       "\n",
       "[5 rows x 148 columns]"
      ]
     },
     "execution_count": 75,
     "metadata": {},
     "output_type": "execute_result"
    }
   ],
   "source": [
    "hap_df.head()"
   ]
  },
  {
   "cell_type": "code",
   "execution_count": 76,
   "metadata": {
    "collapsed": true
   },
   "outputs": [],
   "source": [
    "import subprocess\n",
    "\n",
    "def read_hap_df(vcf_fn, chrom=None, start=None, end=None, samples=None, **kwa):\n",
    "    \"\"\"\n",
    "    A slightly more advanced vcf parser.\n",
    "    Reads in haplotypes from a vcf file.\n",
    "    Basically does the same as done in the\n",
    "    cells above, but allows the used to \n",
    "    specify the range of the genome that\n",
    "    should be read in. Also allows to specify\n",
    "    which samples should be used.\n",
    "    \n",
    "    Parameters:\n",
    "    vcf_fn : file path of the VCF to be read\n",
    "    chrom : specify which chromosome (or scaffold)\n",
    "            to read from the file \n",
    "            (only works on bgzipped, tabix-indexed files)\n",
    "            default ... read whole file\n",
    "    start: specify the start nucleotide position\n",
    "            (only works if chrom given on bgzipped, \n",
    "            tabix-indexed files); default=1\n",
    "    end: specify the ebd nucleotide position\n",
    "            (only works if chrom given on bgzipped, \n",
    "            tabix-indexed files); default=chrom_end\n",
    "    samples: list of sample names to read;\n",
    "              default ... all samples\n",
    "              \n",
    "    returns:\n",
    "    Pandas dataframe of index (chrom, pos) \n",
    "    and columns (sample, haplotype). Values\n",
    "    are 0 for first and 1 for second allele.\n",
    "    \n",
    "    \"\"\"\n",
    "    # parse header\n",
    "    with gzip.open(vcf_fn) as f:\n",
    "        for line in f:\n",
    "            if line[:6] == '#CHROM':\n",
    "                vcf_header = line.strip().split('\\t')\n",
    "                vcf_header[0] = vcf_header[0][1:]\n",
    "                break\n",
    "    \n",
    "    # determine genomic region to read in\n",
    "    if chrom is not None:\n",
    "        assert vcf_fn[-3:] == \".gz\", \"Only supply chrom if vcf is bgzipped and tabix indexed\" \n",
    "        region = chrom\n",
    "        if end is not None and start is None:\n",
    "            start = 0\n",
    "        if start is not None:\n",
    "            region += ':' + str(start)\n",
    "            if end is not None:\n",
    "                region += '-' + str(end)\n",
    "    else:\n",
    "        region = None\n",
    "    \n",
    "    # If no specific samples given, use all samples in the VCF\n",
    "    if samples is None:\n",
    "        samples = vcf_header[9:]\n",
    "    \n",
    "    # Either use regional input or input whole VCF\n",
    "    if region is None:\n",
    "        stdin = vcf_fn\n",
    "    else:\n",
    "        tabix_stream = subprocess.Popen(['tabix', vcf_fn, region],\n",
    "                                     stdout=subprocess.PIPE,\n",
    "                                     stderr=subprocess.PIPE)\n",
    "        stdin = tabix_stream.stdout\n",
    "    \n",
    "    \n",
    "    gen_df = pd.read_csv(stdin, \n",
    "                         sep='\\t',\n",
    "                         comment='#',\n",
    "                         names=vcf_header,\n",
    "                         usecols=['CHROM','POS']+samples,\n",
    "                         index_col=['CHROM','POS'], **kwa)\n",
    "    first_haplotype = gen_df.applymap(lambda s: int(s.split('|')[0]))\n",
    "    second_haplotype = gen_df.applymap(lambda s: int(s.split('|')[1]))\n",
    "    \n",
    "    first_haplotype.columns = pd.MultiIndex.from_product([first_haplotype.columns, [0]])\n",
    "    second_haplotype.columns = pd.MultiIndex.from_product([second_haplotype.columns, [1]])\n",
    "    \n",
    "    hap_df = pd.concat([first_haplotype, second_haplotype], axis=1).sort_index(axis=1)\n",
    "     \n",
    "    return hap_df"
   ]
  },
  {
   "cell_type": "code",
   "execution_count": 77,
   "metadata": {
    "collapsed": false
   },
   "outputs": [],
   "source": [
    "small_hap_df = read_hap_df(vcf_fn, \n",
    "                     chrom='Contig237',\n",
    "                     start=3000,\n",
    "                     end=5000,\n",
    "                     samples=['VirSWA1', 'VirSWA2', 'VirSWA3', \n",
    "                              'VirSWA4', 'VirSWA5', 'VirSWA6'])"
   ]
  },
  {
   "cell_type": "code",
   "execution_count": 78,
   "metadata": {
    "collapsed": false
   },
   "outputs": [
    {
     "data": {
      "text/html": [
       "<div>\n",
       "<table border=\"1\" class=\"dataframe\">\n",
       "  <thead>\n",
       "    <tr>\n",
       "      <th></th>\n",
       "      <th></th>\n",
       "      <th colspan=\"2\" halign=\"left\">VirSWA1</th>\n",
       "      <th colspan=\"2\" halign=\"left\">VirSWA2</th>\n",
       "      <th colspan=\"2\" halign=\"left\">VirSWA3</th>\n",
       "      <th colspan=\"2\" halign=\"left\">VirSWA4</th>\n",
       "      <th colspan=\"2\" halign=\"left\">VirSWA5</th>\n",
       "      <th colspan=\"2\" halign=\"left\">VirSWA6</th>\n",
       "    </tr>\n",
       "    <tr>\n",
       "      <th></th>\n",
       "      <th></th>\n",
       "      <th>0</th>\n",
       "      <th>1</th>\n",
       "      <th>0</th>\n",
       "      <th>1</th>\n",
       "      <th>0</th>\n",
       "      <th>1</th>\n",
       "      <th>0</th>\n",
       "      <th>1</th>\n",
       "      <th>0</th>\n",
       "      <th>1</th>\n",
       "      <th>0</th>\n",
       "      <th>1</th>\n",
       "    </tr>\n",
       "    <tr>\n",
       "      <th>CHROM</th>\n",
       "      <th>POS</th>\n",
       "      <th></th>\n",
       "      <th></th>\n",
       "      <th></th>\n",
       "      <th></th>\n",
       "      <th></th>\n",
       "      <th></th>\n",
       "      <th></th>\n",
       "      <th></th>\n",
       "      <th></th>\n",
       "      <th></th>\n",
       "      <th></th>\n",
       "      <th></th>\n",
       "    </tr>\n",
       "  </thead>\n",
       "  <tbody>\n",
       "    <tr>\n",
       "      <th rowspan=\"39\" valign=\"top\">Contig237</th>\n",
       "      <th>3190</th>\n",
       "      <td>0</td>\n",
       "      <td>0</td>\n",
       "      <td>0</td>\n",
       "      <td>1</td>\n",
       "      <td>0</td>\n",
       "      <td>0</td>\n",
       "      <td>0</td>\n",
       "      <td>0</td>\n",
       "      <td>0</td>\n",
       "      <td>0</td>\n",
       "      <td>0</td>\n",
       "      <td>0</td>\n",
       "    </tr>\n",
       "    <tr>\n",
       "      <th>3203</th>\n",
       "      <td>1</td>\n",
       "      <td>1</td>\n",
       "      <td>1</td>\n",
       "      <td>1</td>\n",
       "      <td>1</td>\n",
       "      <td>1</td>\n",
       "      <td>1</td>\n",
       "      <td>1</td>\n",
       "      <td>1</td>\n",
       "      <td>1</td>\n",
       "      <td>1</td>\n",
       "      <td>1</td>\n",
       "    </tr>\n",
       "    <tr>\n",
       "      <th>3230</th>\n",
       "      <td>0</td>\n",
       "      <td>0</td>\n",
       "      <td>0</td>\n",
       "      <td>0</td>\n",
       "      <td>0</td>\n",
       "      <td>0</td>\n",
       "      <td>0</td>\n",
       "      <td>0</td>\n",
       "      <td>0</td>\n",
       "      <td>0</td>\n",
       "      <td>0</td>\n",
       "      <td>0</td>\n",
       "    </tr>\n",
       "    <tr>\n",
       "      <th>3310</th>\n",
       "      <td>0</td>\n",
       "      <td>0</td>\n",
       "      <td>0</td>\n",
       "      <td>0</td>\n",
       "      <td>0</td>\n",
       "      <td>0</td>\n",
       "      <td>0</td>\n",
       "      <td>0</td>\n",
       "      <td>0</td>\n",
       "      <td>0</td>\n",
       "      <td>0</td>\n",
       "      <td>0</td>\n",
       "    </tr>\n",
       "    <tr>\n",
       "      <th>3311</th>\n",
       "      <td>0</td>\n",
       "      <td>1</td>\n",
       "      <td>0</td>\n",
       "      <td>0</td>\n",
       "      <td>0</td>\n",
       "      <td>0</td>\n",
       "      <td>0</td>\n",
       "      <td>0</td>\n",
       "      <td>0</td>\n",
       "      <td>0</td>\n",
       "      <td>0</td>\n",
       "      <td>0</td>\n",
       "    </tr>\n",
       "    <tr>\n",
       "      <th>3313</th>\n",
       "      <td>0</td>\n",
       "      <td>0</td>\n",
       "      <td>0</td>\n",
       "      <td>0</td>\n",
       "      <td>0</td>\n",
       "      <td>0</td>\n",
       "      <td>0</td>\n",
       "      <td>0</td>\n",
       "      <td>0</td>\n",
       "      <td>0</td>\n",
       "      <td>0</td>\n",
       "      <td>0</td>\n",
       "    </tr>\n",
       "    <tr>\n",
       "      <th>3314</th>\n",
       "      <td>0</td>\n",
       "      <td>0</td>\n",
       "      <td>0</td>\n",
       "      <td>0</td>\n",
       "      <td>0</td>\n",
       "      <td>0</td>\n",
       "      <td>0</td>\n",
       "      <td>0</td>\n",
       "      <td>0</td>\n",
       "      <td>0</td>\n",
       "      <td>0</td>\n",
       "      <td>0</td>\n",
       "    </tr>\n",
       "    <tr>\n",
       "      <th>3321</th>\n",
       "      <td>1</td>\n",
       "      <td>1</td>\n",
       "      <td>1</td>\n",
       "      <td>1</td>\n",
       "      <td>1</td>\n",
       "      <td>1</td>\n",
       "      <td>1</td>\n",
       "      <td>1</td>\n",
       "      <td>1</td>\n",
       "      <td>1</td>\n",
       "      <td>1</td>\n",
       "      <td>1</td>\n",
       "    </tr>\n",
       "    <tr>\n",
       "      <th>3340</th>\n",
       "      <td>0</td>\n",
       "      <td>0</td>\n",
       "      <td>0</td>\n",
       "      <td>0</td>\n",
       "      <td>0</td>\n",
       "      <td>0</td>\n",
       "      <td>0</td>\n",
       "      <td>0</td>\n",
       "      <td>0</td>\n",
       "      <td>0</td>\n",
       "      <td>0</td>\n",
       "      <td>0</td>\n",
       "    </tr>\n",
       "    <tr>\n",
       "      <th>3352</th>\n",
       "      <td>0</td>\n",
       "      <td>0</td>\n",
       "      <td>0</td>\n",
       "      <td>0</td>\n",
       "      <td>0</td>\n",
       "      <td>0</td>\n",
       "      <td>0</td>\n",
       "      <td>0</td>\n",
       "      <td>0</td>\n",
       "      <td>0</td>\n",
       "      <td>0</td>\n",
       "      <td>0</td>\n",
       "    </tr>\n",
       "    <tr>\n",
       "      <th>3353</th>\n",
       "      <td>0</td>\n",
       "      <td>0</td>\n",
       "      <td>0</td>\n",
       "      <td>0</td>\n",
       "      <td>0</td>\n",
       "      <td>0</td>\n",
       "      <td>0</td>\n",
       "      <td>0</td>\n",
       "      <td>0</td>\n",
       "      <td>0</td>\n",
       "      <td>0</td>\n",
       "      <td>1</td>\n",
       "    </tr>\n",
       "    <tr>\n",
       "      <th>3366</th>\n",
       "      <td>0</td>\n",
       "      <td>0</td>\n",
       "      <td>0</td>\n",
       "      <td>0</td>\n",
       "      <td>0</td>\n",
       "      <td>0</td>\n",
       "      <td>0</td>\n",
       "      <td>0</td>\n",
       "      <td>0</td>\n",
       "      <td>0</td>\n",
       "      <td>0</td>\n",
       "      <td>0</td>\n",
       "    </tr>\n",
       "    <tr>\n",
       "      <th>3376</th>\n",
       "      <td>0</td>\n",
       "      <td>0</td>\n",
       "      <td>0</td>\n",
       "      <td>0</td>\n",
       "      <td>0</td>\n",
       "      <td>0</td>\n",
       "      <td>0</td>\n",
       "      <td>0</td>\n",
       "      <td>0</td>\n",
       "      <td>0</td>\n",
       "      <td>0</td>\n",
       "      <td>0</td>\n",
       "    </tr>\n",
       "    <tr>\n",
       "      <th>3380</th>\n",
       "      <td>0</td>\n",
       "      <td>0</td>\n",
       "      <td>0</td>\n",
       "      <td>0</td>\n",
       "      <td>0</td>\n",
       "      <td>0</td>\n",
       "      <td>0</td>\n",
       "      <td>0</td>\n",
       "      <td>0</td>\n",
       "      <td>0</td>\n",
       "      <td>0</td>\n",
       "      <td>0</td>\n",
       "    </tr>\n",
       "    <tr>\n",
       "      <th>3424</th>\n",
       "      <td>1</td>\n",
       "      <td>0</td>\n",
       "      <td>0</td>\n",
       "      <td>0</td>\n",
       "      <td>0</td>\n",
       "      <td>0</td>\n",
       "      <td>0</td>\n",
       "      <td>1</td>\n",
       "      <td>0</td>\n",
       "      <td>0</td>\n",
       "      <td>0</td>\n",
       "      <td>0</td>\n",
       "    </tr>\n",
       "    <tr>\n",
       "      <th>3427</th>\n",
       "      <td>0</td>\n",
       "      <td>0</td>\n",
       "      <td>0</td>\n",
       "      <td>1</td>\n",
       "      <td>0</td>\n",
       "      <td>0</td>\n",
       "      <td>0</td>\n",
       "      <td>0</td>\n",
       "      <td>0</td>\n",
       "      <td>0</td>\n",
       "      <td>0</td>\n",
       "      <td>0</td>\n",
       "    </tr>\n",
       "    <tr>\n",
       "      <th>3429</th>\n",
       "      <td>0</td>\n",
       "      <td>0</td>\n",
       "      <td>0</td>\n",
       "      <td>1</td>\n",
       "      <td>0</td>\n",
       "      <td>0</td>\n",
       "      <td>0</td>\n",
       "      <td>0</td>\n",
       "      <td>0</td>\n",
       "      <td>0</td>\n",
       "      <td>0</td>\n",
       "      <td>0</td>\n",
       "    </tr>\n",
       "    <tr>\n",
       "      <th>3430</th>\n",
       "      <td>0</td>\n",
       "      <td>0</td>\n",
       "      <td>0</td>\n",
       "      <td>1</td>\n",
       "      <td>0</td>\n",
       "      <td>0</td>\n",
       "      <td>0</td>\n",
       "      <td>0</td>\n",
       "      <td>0</td>\n",
       "      <td>0</td>\n",
       "      <td>0</td>\n",
       "      <td>0</td>\n",
       "    </tr>\n",
       "    <tr>\n",
       "      <th>3465</th>\n",
       "      <td>0</td>\n",
       "      <td>0</td>\n",
       "      <td>0</td>\n",
       "      <td>1</td>\n",
       "      <td>0</td>\n",
       "      <td>0</td>\n",
       "      <td>0</td>\n",
       "      <td>0</td>\n",
       "      <td>0</td>\n",
       "      <td>0</td>\n",
       "      <td>0</td>\n",
       "      <td>0</td>\n",
       "    </tr>\n",
       "    <tr>\n",
       "      <th>3478</th>\n",
       "      <td>0</td>\n",
       "      <td>0</td>\n",
       "      <td>0</td>\n",
       "      <td>1</td>\n",
       "      <td>0</td>\n",
       "      <td>0</td>\n",
       "      <td>0</td>\n",
       "      <td>0</td>\n",
       "      <td>0</td>\n",
       "      <td>0</td>\n",
       "      <td>0</td>\n",
       "      <td>0</td>\n",
       "    </tr>\n",
       "    <tr>\n",
       "      <th>3489</th>\n",
       "      <td>0</td>\n",
       "      <td>0</td>\n",
       "      <td>0</td>\n",
       "      <td>1</td>\n",
       "      <td>0</td>\n",
       "      <td>0</td>\n",
       "      <td>0</td>\n",
       "      <td>0</td>\n",
       "      <td>0</td>\n",
       "      <td>0</td>\n",
       "      <td>0</td>\n",
       "      <td>0</td>\n",
       "    </tr>\n",
       "    <tr>\n",
       "      <th>3496</th>\n",
       "      <td>0</td>\n",
       "      <td>0</td>\n",
       "      <td>0</td>\n",
       "      <td>0</td>\n",
       "      <td>0</td>\n",
       "      <td>0</td>\n",
       "      <td>0</td>\n",
       "      <td>0</td>\n",
       "      <td>0</td>\n",
       "      <td>0</td>\n",
       "      <td>0</td>\n",
       "      <td>0</td>\n",
       "    </tr>\n",
       "    <tr>\n",
       "      <th>3527</th>\n",
       "      <td>0</td>\n",
       "      <td>0</td>\n",
       "      <td>0</td>\n",
       "      <td>0</td>\n",
       "      <td>0</td>\n",
       "      <td>0</td>\n",
       "      <td>0</td>\n",
       "      <td>0</td>\n",
       "      <td>0</td>\n",
       "      <td>0</td>\n",
       "      <td>0</td>\n",
       "      <td>0</td>\n",
       "    </tr>\n",
       "    <tr>\n",
       "      <th>3531</th>\n",
       "      <td>0</td>\n",
       "      <td>0</td>\n",
       "      <td>0</td>\n",
       "      <td>1</td>\n",
       "      <td>0</td>\n",
       "      <td>0</td>\n",
       "      <td>0</td>\n",
       "      <td>0</td>\n",
       "      <td>0</td>\n",
       "      <td>0</td>\n",
       "      <td>0</td>\n",
       "      <td>0</td>\n",
       "    </tr>\n",
       "    <tr>\n",
       "      <th>3547</th>\n",
       "      <td>0</td>\n",
       "      <td>0</td>\n",
       "      <td>0</td>\n",
       "      <td>0</td>\n",
       "      <td>0</td>\n",
       "      <td>0</td>\n",
       "      <td>0</td>\n",
       "      <td>0</td>\n",
       "      <td>0</td>\n",
       "      <td>0</td>\n",
       "      <td>0</td>\n",
       "      <td>0</td>\n",
       "    </tr>\n",
       "    <tr>\n",
       "      <th>3551</th>\n",
       "      <td>0</td>\n",
       "      <td>0</td>\n",
       "      <td>0</td>\n",
       "      <td>1</td>\n",
       "      <td>0</td>\n",
       "      <td>0</td>\n",
       "      <td>0</td>\n",
       "      <td>0</td>\n",
       "      <td>0</td>\n",
       "      <td>0</td>\n",
       "      <td>0</td>\n",
       "      <td>0</td>\n",
       "    </tr>\n",
       "    <tr>\n",
       "      <th>3603</th>\n",
       "      <td>0</td>\n",
       "      <td>0</td>\n",
       "      <td>0</td>\n",
       "      <td>1</td>\n",
       "      <td>0</td>\n",
       "      <td>0</td>\n",
       "      <td>0</td>\n",
       "      <td>0</td>\n",
       "      <td>0</td>\n",
       "      <td>1</td>\n",
       "      <td>0</td>\n",
       "      <td>0</td>\n",
       "    </tr>\n",
       "    <tr>\n",
       "      <th>3616</th>\n",
       "      <td>0</td>\n",
       "      <td>0</td>\n",
       "      <td>0</td>\n",
       "      <td>1</td>\n",
       "      <td>0</td>\n",
       "      <td>0</td>\n",
       "      <td>0</td>\n",
       "      <td>0</td>\n",
       "      <td>0</td>\n",
       "      <td>0</td>\n",
       "      <td>0</td>\n",
       "      <td>0</td>\n",
       "    </tr>\n",
       "    <tr>\n",
       "      <th>3621</th>\n",
       "      <td>0</td>\n",
       "      <td>0</td>\n",
       "      <td>0</td>\n",
       "      <td>0</td>\n",
       "      <td>0</td>\n",
       "      <td>0</td>\n",
       "      <td>0</td>\n",
       "      <td>0</td>\n",
       "      <td>0</td>\n",
       "      <td>0</td>\n",
       "      <td>0</td>\n",
       "      <td>0</td>\n",
       "    </tr>\n",
       "    <tr>\n",
       "      <th>3627</th>\n",
       "      <td>0</td>\n",
       "      <td>0</td>\n",
       "      <td>0</td>\n",
       "      <td>0</td>\n",
       "      <td>0</td>\n",
       "      <td>0</td>\n",
       "      <td>0</td>\n",
       "      <td>0</td>\n",
       "      <td>0</td>\n",
       "      <td>0</td>\n",
       "      <td>0</td>\n",
       "      <td>0</td>\n",
       "    </tr>\n",
       "    <tr>\n",
       "      <th>3714</th>\n",
       "      <td>0</td>\n",
       "      <td>0</td>\n",
       "      <td>0</td>\n",
       "      <td>0</td>\n",
       "      <td>0</td>\n",
       "      <td>0</td>\n",
       "      <td>0</td>\n",
       "      <td>0</td>\n",
       "      <td>0</td>\n",
       "      <td>0</td>\n",
       "      <td>0</td>\n",
       "      <td>0</td>\n",
       "    </tr>\n",
       "    <tr>\n",
       "      <th>3799</th>\n",
       "      <td>0</td>\n",
       "      <td>0</td>\n",
       "      <td>0</td>\n",
       "      <td>0</td>\n",
       "      <td>0</td>\n",
       "      <td>0</td>\n",
       "      <td>0</td>\n",
       "      <td>0</td>\n",
       "      <td>0</td>\n",
       "      <td>0</td>\n",
       "      <td>0</td>\n",
       "      <td>0</td>\n",
       "    </tr>\n",
       "    <tr>\n",
       "      <th>3836</th>\n",
       "      <td>0</td>\n",
       "      <td>0</td>\n",
       "      <td>0</td>\n",
       "      <td>0</td>\n",
       "      <td>0</td>\n",
       "      <td>0</td>\n",
       "      <td>0</td>\n",
       "      <td>0</td>\n",
       "      <td>0</td>\n",
       "      <td>0</td>\n",
       "      <td>0</td>\n",
       "      <td>0</td>\n",
       "    </tr>\n",
       "    <tr>\n",
       "      <th>3890</th>\n",
       "      <td>0</td>\n",
       "      <td>0</td>\n",
       "      <td>0</td>\n",
       "      <td>0</td>\n",
       "      <td>0</td>\n",
       "      <td>0</td>\n",
       "      <td>0</td>\n",
       "      <td>0</td>\n",
       "      <td>0</td>\n",
       "      <td>0</td>\n",
       "      <td>0</td>\n",
       "      <td>0</td>\n",
       "    </tr>\n",
       "    <tr>\n",
       "      <th>3892</th>\n",
       "      <td>0</td>\n",
       "      <td>0</td>\n",
       "      <td>0</td>\n",
       "      <td>0</td>\n",
       "      <td>0</td>\n",
       "      <td>0</td>\n",
       "      <td>0</td>\n",
       "      <td>0</td>\n",
       "      <td>0</td>\n",
       "      <td>0</td>\n",
       "      <td>0</td>\n",
       "      <td>0</td>\n",
       "    </tr>\n",
       "    <tr>\n",
       "      <th>3908</th>\n",
       "      <td>0</td>\n",
       "      <td>0</td>\n",
       "      <td>0</td>\n",
       "      <td>0</td>\n",
       "      <td>0</td>\n",
       "      <td>0</td>\n",
       "      <td>0</td>\n",
       "      <td>0</td>\n",
       "      <td>0</td>\n",
       "      <td>0</td>\n",
       "      <td>0</td>\n",
       "      <td>0</td>\n",
       "    </tr>\n",
       "    <tr>\n",
       "      <th>3921</th>\n",
       "      <td>0</td>\n",
       "      <td>0</td>\n",
       "      <td>0</td>\n",
       "      <td>0</td>\n",
       "      <td>0</td>\n",
       "      <td>0</td>\n",
       "      <td>0</td>\n",
       "      <td>0</td>\n",
       "      <td>0</td>\n",
       "      <td>0</td>\n",
       "      <td>0</td>\n",
       "      <td>0</td>\n",
       "    </tr>\n",
       "    <tr>\n",
       "      <th>3963</th>\n",
       "      <td>0</td>\n",
       "      <td>0</td>\n",
       "      <td>0</td>\n",
       "      <td>0</td>\n",
       "      <td>0</td>\n",
       "      <td>0</td>\n",
       "      <td>0</td>\n",
       "      <td>0</td>\n",
       "      <td>0</td>\n",
       "      <td>0</td>\n",
       "      <td>0</td>\n",
       "      <td>0</td>\n",
       "    </tr>\n",
       "    <tr>\n",
       "      <th>3999</th>\n",
       "      <td>0</td>\n",
       "      <td>0</td>\n",
       "      <td>0</td>\n",
       "      <td>0</td>\n",
       "      <td>0</td>\n",
       "      <td>0</td>\n",
       "      <td>0</td>\n",
       "      <td>0</td>\n",
       "      <td>0</td>\n",
       "      <td>0</td>\n",
       "      <td>0</td>\n",
       "      <td>0</td>\n",
       "    </tr>\n",
       "  </tbody>\n",
       "</table>\n",
       "</div>"
      ],
      "text/plain": [
       "               VirSWA1    VirSWA2    VirSWA3    VirSWA4    VirSWA5    VirSWA6  \\\n",
       "                     0  1       0  1       0  1       0  1       0  1       0   \n",
       "CHROM     POS                                                                   \n",
       "Contig237 3190       0  0       0  1       0  0       0  0       0  0       0   \n",
       "          3203       1  1       1  1       1  1       1  1       1  1       1   \n",
       "          3230       0  0       0  0       0  0       0  0       0  0       0   \n",
       "          3310       0  0       0  0       0  0       0  0       0  0       0   \n",
       "          3311       0  1       0  0       0  0       0  0       0  0       0   \n",
       "          3313       0  0       0  0       0  0       0  0       0  0       0   \n",
       "          3314       0  0       0  0       0  0       0  0       0  0       0   \n",
       "          3321       1  1       1  1       1  1       1  1       1  1       1   \n",
       "          3340       0  0       0  0       0  0       0  0       0  0       0   \n",
       "          3352       0  0       0  0       0  0       0  0       0  0       0   \n",
       "          3353       0  0       0  0       0  0       0  0       0  0       0   \n",
       "          3366       0  0       0  0       0  0       0  0       0  0       0   \n",
       "          3376       0  0       0  0       0  0       0  0       0  0       0   \n",
       "          3380       0  0       0  0       0  0       0  0       0  0       0   \n",
       "          3424       1  0       0  0       0  0       0  1       0  0       0   \n",
       "          3427       0  0       0  1       0  0       0  0       0  0       0   \n",
       "          3429       0  0       0  1       0  0       0  0       0  0       0   \n",
       "          3430       0  0       0  1       0  0       0  0       0  0       0   \n",
       "          3465       0  0       0  1       0  0       0  0       0  0       0   \n",
       "          3478       0  0       0  1       0  0       0  0       0  0       0   \n",
       "          3489       0  0       0  1       0  0       0  0       0  0       0   \n",
       "          3496       0  0       0  0       0  0       0  0       0  0       0   \n",
       "          3527       0  0       0  0       0  0       0  0       0  0       0   \n",
       "          3531       0  0       0  1       0  0       0  0       0  0       0   \n",
       "          3547       0  0       0  0       0  0       0  0       0  0       0   \n",
       "          3551       0  0       0  1       0  0       0  0       0  0       0   \n",
       "          3603       0  0       0  1       0  0       0  0       0  1       0   \n",
       "          3616       0  0       0  1       0  0       0  0       0  0       0   \n",
       "          3621       0  0       0  0       0  0       0  0       0  0       0   \n",
       "          3627       0  0       0  0       0  0       0  0       0  0       0   \n",
       "          3714       0  0       0  0       0  0       0  0       0  0       0   \n",
       "          3799       0  0       0  0       0  0       0  0       0  0       0   \n",
       "          3836       0  0       0  0       0  0       0  0       0  0       0   \n",
       "          3890       0  0       0  0       0  0       0  0       0  0       0   \n",
       "          3892       0  0       0  0       0  0       0  0       0  0       0   \n",
       "          3908       0  0       0  0       0  0       0  0       0  0       0   \n",
       "          3921       0  0       0  0       0  0       0  0       0  0       0   \n",
       "          3963       0  0       0  0       0  0       0  0       0  0       0   \n",
       "          3999       0  0       0  0       0  0       0  0       0  0       0   \n",
       "\n",
       "                   \n",
       "                1  \n",
       "CHROM     POS      \n",
       "Contig237 3190  0  \n",
       "          3203  1  \n",
       "          3230  0  \n",
       "          3310  0  \n",
       "          3311  0  \n",
       "          3313  0  \n",
       "          3314  0  \n",
       "          3321  1  \n",
       "          3340  0  \n",
       "          3352  0  \n",
       "          3353  1  \n",
       "          3366  0  \n",
       "          3376  0  \n",
       "          3380  0  \n",
       "          3424  0  \n",
       "          3427  0  \n",
       "          3429  0  \n",
       "          3430  0  \n",
       "          3465  0  \n",
       "          3478  0  \n",
       "          3489  0  \n",
       "          3496  0  \n",
       "          3527  0  \n",
       "          3531  0  \n",
       "          3547  0  \n",
       "          3551  0  \n",
       "          3603  0  \n",
       "          3616  0  \n",
       "          3621  0  \n",
       "          3627  0  \n",
       "          3714  0  \n",
       "          3799  0  \n",
       "          3836  0  \n",
       "          3890  0  \n",
       "          3892  0  \n",
       "          3908  0  \n",
       "          3921  0  \n",
       "          3963  0  \n",
       "          3999  0  "
      ]
     },
     "execution_count": 78,
     "metadata": {},
     "output_type": "execute_result"
    }
   ],
   "source": [
    "small_hap_df"
   ]
  },
  {
   "cell_type": "markdown",
   "metadata": {},
   "source": [
    "### indexing"
   ]
  },
  {
   "cell_type": "code",
   "execution_count": 79,
   "metadata": {
    "collapsed": false
   },
   "outputs": [
    {
     "name": "stdout",
     "output_type": "stream",
     "text": [
      "Get the second haplotye of individual VirSWA6 for position 3203 on Contig237: 1\n"
     ]
    }
   ],
   "source": [
    "# access a cell by index\n",
    "# gt_df.loc['row index', 'column index']\n",
    "print 'Get the second haplotye of individual',\n",
    "print 'VirSWA6 for position 3203 on Contig237:', \n",
    "print hap_df.loc[('Contig237', 3203), ('VirSWA6', 1)]"
   ]
  },
  {
   "cell_type": "code",
   "execution_count": 80,
   "metadata": {
    "collapsed": false
   },
   "outputs": [
    {
     "data": {
      "text/html": [
       "<div>\n",
       "<table border=\"1\" class=\"dataframe\">\n",
       "  <thead>\n",
       "    <tr style=\"text-align: right;\">\n",
       "      <th></th>\n",
       "      <th>0</th>\n",
       "      <th>1</th>\n",
       "    </tr>\n",
       "    <tr>\n",
       "      <th>POS</th>\n",
       "      <th></th>\n",
       "      <th></th>\n",
       "    </tr>\n",
       "  </thead>\n",
       "  <tbody>\n",
       "    <tr>\n",
       "      <th>3190</th>\n",
       "      <td>0</td>\n",
       "      <td>0</td>\n",
       "    </tr>\n",
       "    <tr>\n",
       "      <th>3203</th>\n",
       "      <td>1</td>\n",
       "      <td>1</td>\n",
       "    </tr>\n",
       "    <tr>\n",
       "      <th>3230</th>\n",
       "      <td>0</td>\n",
       "      <td>0</td>\n",
       "    </tr>\n",
       "    <tr>\n",
       "      <th>3310</th>\n",
       "      <td>0</td>\n",
       "      <td>0</td>\n",
       "    </tr>\n",
       "    <tr>\n",
       "      <th>3311</th>\n",
       "      <td>0</td>\n",
       "      <td>0</td>\n",
       "    </tr>\n",
       "    <tr>\n",
       "      <th>3313</th>\n",
       "      <td>0</td>\n",
       "      <td>0</td>\n",
       "    </tr>\n",
       "    <tr>\n",
       "      <th>3314</th>\n",
       "      <td>0</td>\n",
       "      <td>0</td>\n",
       "    </tr>\n",
       "    <tr>\n",
       "      <th>3321</th>\n",
       "      <td>1</td>\n",
       "      <td>1</td>\n",
       "    </tr>\n",
       "    <tr>\n",
       "      <th>3340</th>\n",
       "      <td>0</td>\n",
       "      <td>0</td>\n",
       "    </tr>\n",
       "    <tr>\n",
       "      <th>3352</th>\n",
       "      <td>0</td>\n",
       "      <td>0</td>\n",
       "    </tr>\n",
       "    <tr>\n",
       "      <th>3353</th>\n",
       "      <td>0</td>\n",
       "      <td>1</td>\n",
       "    </tr>\n",
       "    <tr>\n",
       "      <th>3366</th>\n",
       "      <td>0</td>\n",
       "      <td>0</td>\n",
       "    </tr>\n",
       "    <tr>\n",
       "      <th>3376</th>\n",
       "      <td>0</td>\n",
       "      <td>0</td>\n",
       "    </tr>\n",
       "    <tr>\n",
       "      <th>3380</th>\n",
       "      <td>0</td>\n",
       "      <td>0</td>\n",
       "    </tr>\n",
       "  </tbody>\n",
       "</table>\n",
       "</div>"
      ],
      "text/plain": [
       "      0  1\n",
       "POS       \n",
       "3190  0  0\n",
       "3203  1  1\n",
       "3230  0  0\n",
       "3310  0  0\n",
       "3311  0  0\n",
       "3313  0  0\n",
       "3314  0  0\n",
       "3321  1  1\n",
       "3340  0  0\n",
       "3352  0  0\n",
       "3353  0  1\n",
       "3366  0  0\n",
       "3376  0  0\n",
       "3380  0  0"
      ]
     },
     "execution_count": 80,
     "metadata": {},
     "output_type": "execute_result"
    }
   ],
   "source": [
    "hap_df.loc['Contig237'].loc[ 3000:3400, 'VirSWA6']"
   ]
  },
  {
   "cell_type": "markdown",
   "metadata": {},
   "source": [
    "### investigate haplotype data frame"
   ]
  },
  {
   "cell_type": "code",
   "execution_count": 81,
   "metadata": {
    "collapsed": false
   },
   "outputs": [
    {
     "data": {
      "text/plain": [
       "(111215, 148)"
      ]
     },
     "execution_count": 81,
     "metadata": {},
     "output_type": "execute_result"
    }
   ],
   "source": [
    "# get the number of SNPs and number of samples\n",
    "hap_df.shape"
   ]
  },
  {
   "cell_type": "code",
   "execution_count": 82,
   "metadata": {
    "collapsed": false
   },
   "outputs": [
    {
     "data": {
      "text/plain": [
       "Index([u'Contig237', u'Contig262', u'Contig263'], dtype='object', name=u'CHROM')"
      ]
     },
     "execution_count": 82,
     "metadata": {},
     "output_type": "execute_result"
    }
   ],
   "source": [
    "# get the name of sequenced in this data frame\n",
    "hap_df.index.droplevel(1).unique()"
   ]
  },
  {
   "cell_type": "markdown",
   "metadata": {},
   "source": [
    "### load sample metadata"
   ]
  },
  {
   "cell_type": "code",
   "execution_count": 83,
   "metadata": {
    "collapsed": true
   },
   "outputs": [],
   "source": [
    "meta_df = pd.read_csv('cichlid_sample_metadata.csv', index_col=0)"
   ]
  },
  {
   "cell_type": "code",
   "execution_count": 84,
   "metadata": {
    "collapsed": false
   },
   "outputs": [
    {
     "data": {
      "text/html": [
       "<div>\n",
       "<table border=\"1\" class=\"dataframe\">\n",
       "  <thead>\n",
       "    <tr style=\"text-align: right;\">\n",
       "      <th></th>\n",
       "      <th>genus</th>\n",
       "      <th>species</th>\n",
       "      <th>place</th>\n",
       "      <th>fishing_pressure</th>\n",
       "    </tr>\n",
       "    <tr>\n",
       "      <th>id</th>\n",
       "      <th></th>\n",
       "      <th></th>\n",
       "      <th></th>\n",
       "      <th></th>\n",
       "    </tr>\n",
       "  </thead>\n",
       "  <tbody>\n",
       "    <tr>\n",
       "      <th>VirSWA3</th>\n",
       "      <td>Copadichromis</td>\n",
       "      <td>virginalis</td>\n",
       "      <td>South West Arm</td>\n",
       "      <td>1.0</td>\n",
       "    </tr>\n",
       "    <tr>\n",
       "      <th>VirSWA4</th>\n",
       "      <td>Copadichromis</td>\n",
       "      <td>virginalis</td>\n",
       "      <td>South West Arm</td>\n",
       "      <td>1.0</td>\n",
       "    </tr>\n",
       "    <tr>\n",
       "      <th>VirSWA5</th>\n",
       "      <td>Copadichromis</td>\n",
       "      <td>virginalis</td>\n",
       "      <td>South West Arm</td>\n",
       "      <td>1.0</td>\n",
       "    </tr>\n",
       "    <tr>\n",
       "      <th>VirSWA6</th>\n",
       "      <td>Copadichromis</td>\n",
       "      <td>virginalis</td>\n",
       "      <td>South West Arm</td>\n",
       "      <td>1.0</td>\n",
       "    </tr>\n",
       "    <tr>\n",
       "      <th>VirSWA7</th>\n",
       "      <td>Copadichromis</td>\n",
       "      <td>virginalis</td>\n",
       "      <td>South West Arm</td>\n",
       "      <td>1.0</td>\n",
       "    </tr>\n",
       "  </tbody>\n",
       "</table>\n",
       "</div>"
      ],
      "text/plain": [
       "                 genus     species           place  fishing_pressure\n",
       "id                                                                  \n",
       "VirSWA3  Copadichromis  virginalis  South West Arm               1.0\n",
       "VirSWA4  Copadichromis  virginalis  South West Arm               1.0\n",
       "VirSWA5  Copadichromis  virginalis  South West Arm               1.0\n",
       "VirSWA6  Copadichromis  virginalis  South West Arm               1.0\n",
       "VirSWA7  Copadichromis  virginalis  South West Arm               1.0"
      ]
     },
     "execution_count": 84,
     "metadata": {},
     "output_type": "execute_result"
    }
   ],
   "source": [
    "meta_df.head()"
   ]
  },
  {
   "cell_type": "markdown",
   "metadata": {},
   "source": [
    "#### Group a data frame using groupby"
   ]
  },
  {
   "cell_type": "markdown",
   "metadata": {
    "collapsed": true
   },
   "source": [
    "Groupby groups a data frame into sub data frames. You can group on values in a specific column (or row) or by applying a function or dictionary to column or row indices. This is very handy."
   ]
  },
  {
   "cell_type": "code",
   "execution_count": 85,
   "metadata": {
    "collapsed": true
   },
   "outputs": [],
   "source": [
    "# group individuals by sampling location\n",
    "place_groups = meta_df.groupby('place')"
   ]
  },
  {
   "cell_type": "code",
   "execution_count": 86,
   "metadata": {
    "collapsed": false
   },
   "outputs": [
    {
     "name": "stdout",
     "output_type": "stream",
     "text": [
      "Malembo\n",
      "               genus       species    place  fishing_pressure\n",
      "id                                                           \n",
      "OreSqu1  Oreochromis  squamipinnis  Malembo               NaN\n",
      "-----------------------------------------\n",
      "Malombe\n",
      "                  genus     species    place  fishing_pressure\n",
      "id                                                            \n",
      "VirMAL1   Copadichromis  virginalis  Malombe               4.0\n",
      "VirMAL2   Copadichromis  virginalis  Malombe               4.0\n",
      "VirMAL3   Copadichromis  virginalis  Malombe               4.0\n",
      "VirMAL4   Copadichromis  virginalis  Malombe               4.0\n",
      "VirMAL5   Copadichromis  virginalis  Malombe               4.0\n",
      "VirMAL6   Copadichromis  virginalis  Malombe               4.0\n",
      "VirMAL7   Copadichromis  virginalis  Malombe               4.0\n",
      "VirMAL8   Copadichromis  virginalis  Malombe               4.0\n",
      "VirMAL9   Copadichromis  virginalis  Malombe               4.0\n",
      "VirMAL10  Copadichromis  virginalis  Malombe               4.0\n",
      "VirMAL11  Copadichromis  virginalis  Malombe               4.0\n",
      "VirMAL12  Copadichromis  virginalis  Malombe               4.0\n",
      "VirMAL13  Copadichromis  virginalis  Malombe               4.0\n",
      "VirMAL14  Copadichromis  virginalis  Malombe               4.0\n",
      "VirMAL15  Copadichromis  virginalis  Malombe               4.0\n",
      "VirMAL16  Copadichromis  virginalis  Malombe               4.0\n",
      "VirMAL17  Copadichromis  virginalis  Malombe               4.0\n",
      "VirMAL18  Copadichromis  virginalis  Malombe               4.0\n",
      "VirMAL19  Copadichromis  virginalis  Malombe               4.0\n",
      "VirMAL20  Copadichromis  virginalis  Malombe               4.0\n",
      "VirMAL21  Copadichromis  virginalis  Malombe               4.0\n",
      "VirMAL22  Copadichromis  virginalis  Malombe               4.0\n",
      "VirMAL23  Copadichromis  virginalis  Malombe               4.0\n",
      "VirMAL24  Copadichromis  virginalis  Malombe               4.0\n",
      "-----------------------------------------\n",
      "South East Arm\n",
      "                  genus     species           place  fishing_pressure\n",
      "id                                                                   \n",
      "VirSEA1   Copadichromis  virginalis  South East Arm               2.0\n",
      "VirSEA2   Copadichromis  virginalis  South East Arm               2.0\n",
      "VirSEA3   Copadichromis  virginalis  South East Arm               2.0\n",
      "VirSEA4   Copadichromis  virginalis  South East Arm               2.0\n",
      "VirSEA5   Copadichromis  virginalis  South East Arm               2.0\n",
      "VirSEA6   Copadichromis  virginalis  South East Arm               2.0\n",
      "VirSEA7   Copadichromis  virginalis  South East Arm               2.0\n",
      "VirSEA8   Copadichromis  virginalis  South East Arm               2.0\n",
      "VirSEA9   Copadichromis  virginalis  South East Arm               2.0\n",
      "VirSEA10  Copadichromis  virginalis  South East Arm               2.0\n",
      "VirSEA11  Copadichromis  virginalis  South East Arm               2.0\n",
      "VirSEA12  Copadichromis  virginalis  South East Arm               2.0\n",
      "VirSEA13  Copadichromis  virginalis  South East Arm               2.0\n",
      "VirSEA14  Copadichromis  virginalis  South East Arm               2.0\n",
      "VirSEA15  Copadichromis  virginalis  South East Arm               2.0\n",
      "VirSEA16  Copadichromis  virginalis  South East Arm               2.0\n",
      "VirSEA17  Copadichromis  virginalis  South East Arm               2.0\n",
      "VirSEA18  Copadichromis  virginalis  South East Arm               2.0\n",
      "VirSEA19  Copadichromis  virginalis  South East Arm               2.0\n",
      "VirSEA20  Copadichromis  virginalis  South East Arm               2.0\n",
      "VirSEA21  Copadichromis  virginalis  South East Arm               2.0\n",
      "VirSEA22  Copadichromis  virginalis  South East Arm               2.0\n",
      "VirSEA23  Copadichromis  virginalis  South East Arm               2.0\n",
      "VirSEA24  Copadichromis  virginalis  South East Arm               2.0\n",
      "-----------------------------------------\n",
      "South West Arm\n",
      "                  genus     species           place  fishing_pressure\n",
      "id                                                                   \n",
      "VirSWA3   Copadichromis  virginalis  South West Arm               1.0\n",
      "VirSWA4   Copadichromis  virginalis  South West Arm               1.0\n",
      "VirSWA5   Copadichromis  virginalis  South West Arm               1.0\n",
      "VirSWA6   Copadichromis  virginalis  South West Arm               1.0\n",
      "VirSWA7   Copadichromis  virginalis  South West Arm               1.0\n",
      "VirSWA8   Copadichromis  virginalis  South West Arm               1.0\n",
      "VirSWA9   Copadichromis  virginalis  South West Arm               1.0\n",
      "VirSWA10  Copadichromis  virginalis  South West Arm               1.0\n",
      "VirSWA11  Copadichromis  virginalis  South West Arm               1.0\n",
      "VirSWA12  Copadichromis  virginalis  South West Arm               1.0\n",
      "VirSWA13  Copadichromis  virginalis  South West Arm               1.0\n",
      "VirSWA14  Copadichromis  virginalis  South West Arm               1.0\n",
      "VirSWA15  Copadichromis  virginalis  South West Arm               1.0\n",
      "VirSWA16  Copadichromis  virginalis  South West Arm               1.0\n",
      "VirSWA17  Copadichromis  virginalis  South West Arm               1.0\n",
      "VirSWA18  Copadichromis  virginalis  South West Arm               1.0\n",
      "VirSWA19  Copadichromis  virginalis  South West Arm               1.0\n",
      "VirSWA20  Copadichromis  virginalis  South West Arm               1.0\n",
      "VirSWA21  Copadichromis  virginalis  South West Arm               1.0\n",
      "VirSWA22  Copadichromis  virginalis  South West Arm               1.0\n",
      "VirSWA23  Copadichromis  virginalis  South West Arm               1.0\n",
      "VirSWA24  Copadichromis  virginalis  South West Arm               1.0\n",
      "VirSWA25  Copadichromis  virginalis  South West Arm               1.0\n",
      "VirSWA26  Copadichromis  virginalis  South West Arm               1.0\n",
      "VirSWA27  Copadichromis  virginalis  South West Arm               1.0\n",
      "-----------------------------------------\n"
     ]
    }
   ],
   "source": [
    "# iterate through groups\n",
    "for group_name, group_df in place_groups:\n",
    "    print group_name\n",
    "    print group_df\n",
    "    print '-----------------------------------------'"
   ]
  },
  {
   "cell_type": "markdown",
   "metadata": {},
   "source": [
    "You can apply functions to the groups. These are applied to each group data frame. Pandas will try to give a series or data frame as result where the index contains the group names."
   ]
  },
  {
   "cell_type": "code",
   "execution_count": 87,
   "metadata": {
    "collapsed": false
   },
   "outputs": [
    {
     "data": {
      "text/plain": [
       "place\n",
       "Malembo            1\n",
       "Malombe           24\n",
       "South East Arm    24\n",
       "South West Arm    25\n",
       "dtype: int64"
      ]
     },
     "execution_count": 87,
     "metadata": {},
     "output_type": "execute_result"
    }
   ],
   "source": [
    "place_groups.apply(len)"
   ]
  },
  {
   "cell_type": "code",
   "execution_count": 88,
   "metadata": {
    "collapsed": false
   },
   "outputs": [
    {
     "data": {
      "text/plain": [
       "genus          species     \n",
       "Copadichromis  virginalis      73\n",
       "Oreochromis    squamipinnis     1\n",
       "dtype: int64"
      ]
     },
     "execution_count": 88,
     "metadata": {},
     "output_type": "execute_result"
    }
   ],
   "source": [
    "# here individuals are grouped by the columns genus and species\n",
    "meta_df.groupby(['genus', 'species']).apply(len)"
   ]
  },
  {
   "cell_type": "code",
   "execution_count": 89,
   "metadata": {
    "collapsed": true
   },
   "outputs": [],
   "source": [
    "# This is a Series with the same index as meta_df.\n",
    "# The values are True/False depending on whether the species name is virginalis.\n",
    "is_virginalis = (meta_df['species']=='virginalis')"
   ]
  },
  {
   "cell_type": "markdown",
   "metadata": {},
   "source": [
    "What length do you expect is_virginalis to be? How many True and False entries?"
   ]
  },
  {
   "cell_type": "markdown",
   "metadata": {},
   "source": [
    "The above can be used for logical indexing."
   ]
  },
  {
   "cell_type": "code",
   "execution_count": 90,
   "metadata": {
    "collapsed": false
   },
   "outputs": [
    {
     "data": {
      "text/plain": [
       "place\n",
       "Malombe           24\n",
       "South East Arm    24\n",
       "South West Arm    25\n",
       "dtype: int64"
      ]
     },
     "execution_count": 90,
     "metadata": {},
     "output_type": "execute_result"
    }
   ],
   "source": [
    "# Logical indexing. Select viriginalis samples only.\n",
    "meta_df[is_virginalis].groupby('place').apply(len)"
   ]
  },
  {
   "cell_type": "markdown",
   "metadata": {},
   "source": [
    "### apply operations"
   ]
  },
  {
   "cell_type": "markdown",
   "metadata": {},
   "source": [
    "Apply functions to our haplotype data frame."
   ]
  },
  {
   "cell_type": "code",
   "execution_count": 91,
   "metadata": {
    "collapsed": false
   },
   "outputs": [],
   "source": [
    "allele_frequency = hap_df.mean(axis=1)"
   ]
  },
  {
   "cell_type": "code",
   "execution_count": 92,
   "metadata": {
    "collapsed": false
   },
   "outputs": [
    {
     "data": {
      "text/plain": [
       "CHROM      POS \n",
       "Contig237  3190    0.006757\n",
       "           3203    0.952703\n",
       "           3230    0.040541\n",
       "           3310    0.013514\n",
       "           3311    0.006757\n",
       "dtype: float64"
      ]
     },
     "execution_count": 92,
     "metadata": {},
     "output_type": "execute_result"
    }
   ],
   "source": [
    "allele_frequency.head()"
   ]
  },
  {
   "cell_type": "markdown",
   "metadata": {},
   "source": [
    "Plot the site frequency spectrum."
   ]
  },
  {
   "cell_type": "code",
   "execution_count": 93,
   "metadata": {
    "collapsed": false
   },
   "outputs": [
    {
     "data": {
      "text/plain": [
       "<matplotlib.axes._subplots.AxesSubplot at 0x7f4517bd9e50>"
      ]
     },
     "execution_count": 93,
     "metadata": {},
     "output_type": "execute_result"
    },
    {
     "data": {
      "image/png": "[encoded data removed]",
      "text/plain": [
       "<matplotlib.figure.Figure at 0x7f451847a190>"
      ]
     },
     "metadata": {},
     "output_type": "display_data"
    }
   ],
   "source": [
    "allele_frequency.hist(bins=20)"
   ]
  },
  {
   "cell_type": "markdown",
   "metadata": {},
   "source": [
    "What is on the x and y axis? Does this spectrum look neutral to you?"
   ]
  },
  {
   "cell_type": "markdown",
   "metadata": {},
   "source": [
    "#### restrict to samples of species Copadichromis virginalis"
   ]
  },
  {
   "cell_type": "code",
   "execution_count": 94,
   "metadata": {
    "collapsed": true
   },
   "outputs": [],
   "source": [
    "virginalis_samples = meta_df[meta_df['species']=='virginalis'].index.values"
   ]
  },
  {
   "cell_type": "code",
   "execution_count": 95,
   "metadata": {
    "collapsed": false
   },
   "outputs": [],
   "source": [
    "# only virginalis samples\n",
    "hap_df_vir = hap_df.loc[:, list(virginalis_samples)] \n",
    "# the list conversion above is not needed in newer pandas versions"
   ]
  },
  {
   "cell_type": "code",
   "execution_count": 96,
   "metadata": {
    "collapsed": true
   },
   "outputs": [],
   "source": [
    "af_virginalis = hap_df_vir.mean(axis=1)"
   ]
  },
  {
   "cell_type": "code",
   "execution_count": 97,
   "metadata": {
    "collapsed": true
   },
   "outputs": [],
   "source": [
    "af_virginalis_variable = af_virginalis[(af_virginalis>0)&(af_virginalis<1)]"
   ]
  },
  {
   "cell_type": "markdown",
   "metadata": {},
   "source": [
    "What does the above line of code do?"
   ]
  },
  {
   "cell_type": "code",
   "execution_count": 98,
   "metadata": {
    "collapsed": true
   },
   "outputs": [],
   "source": [
    "# restrict haplotype data frame to alleles variable in virginalis\n",
    "hap_df_vir = hap_df_vir.loc[af_virginalis_variable.index, :]\n",
    "# or equivalently \n",
    "#hap_df_vir = hap_df_vir[(af_virginalis>0)&(af_virginalis<1)]"
   ]
  },
  {
   "cell_type": "markdown",
   "metadata": {},
   "source": [
    "Check how the number of SNPs was reduced by removing non-variable sites"
   ]
  },
  {
   "cell_type": "code",
   "execution_count": 99,
   "metadata": {
    "collapsed": false
   },
   "outputs": [
    {
     "name": "stdout",
     "output_type": "stream",
     "text": [
      "(111215,)\n",
      "(54098,)\n"
     ]
    }
   ],
   "source": [
    "print af_virginalis.shape\n",
    "print af_virginalis_variable.shape"
   ]
  },
  {
   "cell_type": "code",
   "execution_count": 100,
   "metadata": {
    "collapsed": false
   },
   "outputs": [
    {
     "data": {
      "text/plain": [
       "<matplotlib.axes._subplots.AxesSubplot at 0x7f45172d0a90>"
      ]
     },
     "execution_count": 100,
     "metadata": {},
     "output_type": "execute_result"
    },
    {
     "data": {
      "image/png": "[encoded data removed]",
      "text/plain": [
       "<matplotlib.figure.Figure at 0x7f451acc0790>"
      ]
     },
     "metadata": {},
     "output_type": "display_data"
    }
   ],
   "source": [
    "af_virginalis_variable.hist(bins=20)"
   ]
  },
  {
   "cell_type": "markdown",
   "metadata": {
    "collapsed": true
   },
   "source": [
    "#### remove low frequency variants"
   ]
  },
  {
   "cell_type": "code",
   "execution_count": 101,
   "metadata": {
    "collapsed": true
   },
   "outputs": [],
   "source": [
    "allele_count = hap_df.sum(axis=1)"
   ]
  },
  {
   "cell_type": "code",
   "execution_count": 102,
   "metadata": {
    "collapsed": true
   },
   "outputs": [],
   "source": [
    "# This is the number of non-missing entries per row.\n",
    "# our data has no missing values, so it is just the row length\n",
    "n_alleles = hap_df.notnull().sum(axis=1)"
   ]
  },
  {
   "cell_type": "code",
   "execution_count": 103,
   "metadata": {
    "collapsed": false
   },
   "outputs": [],
   "source": [
    "min_allele_count = 4\n",
    "hap_min_ac = hap_df[(allele_count >= min_allele_count) & (allele_count <= n_alleles - min_allele_count)]"
   ]
  },
  {
   "cell_type": "code",
   "execution_count": 104,
   "metadata": {
    "collapsed": false
   },
   "outputs": [
    {
     "name": "stdout",
     "output_type": "stream",
     "text": [
      "(111215, 148)\n",
      "(19867, 148)\n"
     ]
    }
   ],
   "source": [
    "print hap_df.shape\n",
    "print hap_min_ac.shape"
   ]
  },
  {
   "cell_type": "code",
   "execution_count": 105,
   "metadata": {
    "collapsed": false
   },
   "outputs": [
    {
     "data": {
      "text/plain": [
       "<matplotlib.axes._subplots.AxesSubplot at 0x7f451acc0150>"
      ]
     },
     "execution_count": 105,
     "metadata": {},
     "output_type": "execute_result"
    },
    {
     "data": {
      "image/png": "[encoded data removed]",
      "text/plain": [
       "<matplotlib.figure.Figure at 0x7f4516e25a50>"
      ]
     },
     "metadata": {},
     "output_type": "display_data"
    }
   ],
   "source": [
    "(hap_min_ac.mean(axis=1)).hist(bins=20)"
   ]
  },
  {
   "cell_type": "markdown",
   "metadata": {
    "collapsed": true
   },
   "source": [
    "### grouping by sample"
   ]
  },
  {
   "cell_type": "code",
   "execution_count": 106,
   "metadata": {
    "collapsed": true
   },
   "outputs": [],
   "source": [
    "# grouping can be done by a dictionary that is applied to index or columns\n",
    "sample_groups = {'VirMAL1':'Malombe',\n",
    "                 'VirMAL2':'Malombe',\n",
    "                 'VirMAL3':'Malombe',\n",
    "                 'VirSWA1':'South West Arm',\n",
    "                 'VirSWA2':'South West Arm',\n",
    "                 'VirSWA3':'South West Arm'}"
   ]
  },
  {
   "cell_type": "code",
   "execution_count": 107,
   "metadata": {
    "collapsed": true
   },
   "outputs": [],
   "source": [
    "sample_groups0 = hap_df_vir.groupby(sample_groups, axis=1, level=0)"
   ]
  },
  {
   "cell_type": "code",
   "execution_count": 108,
   "metadata": {
    "collapsed": false
   },
   "outputs": [
    {
     "data": {
      "text/html": [
       "<div>\n",
       "<table border=\"1\" class=\"dataframe\">\n",
       "  <thead>\n",
       "    <tr style=\"text-align: right;\">\n",
       "      <th></th>\n",
       "      <th></th>\n",
       "      <th>Malombe</th>\n",
       "      <th>South West Arm</th>\n",
       "    </tr>\n",
       "    <tr>\n",
       "      <th>CHROM</th>\n",
       "      <th>POS</th>\n",
       "      <th></th>\n",
       "      <th></th>\n",
       "    </tr>\n",
       "  </thead>\n",
       "  <tbody>\n",
       "    <tr>\n",
       "      <th rowspan=\"30\" valign=\"top\">Contig237</th>\n",
       "      <th>3190</th>\n",
       "      <td>0.000000</td>\n",
       "      <td>0.0</td>\n",
       "    </tr>\n",
       "    <tr>\n",
       "      <th>3203</th>\n",
       "      <td>1.000000</td>\n",
       "      <td>1.0</td>\n",
       "    </tr>\n",
       "    <tr>\n",
       "      <th>3230</th>\n",
       "      <td>0.000000</td>\n",
       "      <td>0.0</td>\n",
       "    </tr>\n",
       "    <tr>\n",
       "      <th>3310</th>\n",
       "      <td>0.000000</td>\n",
       "      <td>0.0</td>\n",
       "    </tr>\n",
       "    <tr>\n",
       "      <th>3311</th>\n",
       "      <td>0.000000</td>\n",
       "      <td>0.0</td>\n",
       "    </tr>\n",
       "    <tr>\n",
       "      <th>3313</th>\n",
       "      <td>0.166667</td>\n",
       "      <td>0.0</td>\n",
       "    </tr>\n",
       "    <tr>\n",
       "      <th>3314</th>\n",
       "      <td>0.000000</td>\n",
       "      <td>0.0</td>\n",
       "    </tr>\n",
       "    <tr>\n",
       "      <th>3321</th>\n",
       "      <td>1.000000</td>\n",
       "      <td>1.0</td>\n",
       "    </tr>\n",
       "    <tr>\n",
       "      <th>3340</th>\n",
       "      <td>0.000000</td>\n",
       "      <td>0.0</td>\n",
       "    </tr>\n",
       "    <tr>\n",
       "      <th>3352</th>\n",
       "      <td>0.000000</td>\n",
       "      <td>0.0</td>\n",
       "    </tr>\n",
       "    <tr>\n",
       "      <th>3353</th>\n",
       "      <td>0.000000</td>\n",
       "      <td>0.0</td>\n",
       "    </tr>\n",
       "    <tr>\n",
       "      <th>3366</th>\n",
       "      <td>0.000000</td>\n",
       "      <td>0.0</td>\n",
       "    </tr>\n",
       "    <tr>\n",
       "      <th>3376</th>\n",
       "      <td>0.166667</td>\n",
       "      <td>0.0</td>\n",
       "    </tr>\n",
       "    <tr>\n",
       "      <th>3380</th>\n",
       "      <td>0.166667</td>\n",
       "      <td>0.0</td>\n",
       "    </tr>\n",
       "    <tr>\n",
       "      <th>3424</th>\n",
       "      <td>0.166667</td>\n",
       "      <td>0.0</td>\n",
       "    </tr>\n",
       "    <tr>\n",
       "      <th>3427</th>\n",
       "      <td>0.000000</td>\n",
       "      <td>0.0</td>\n",
       "    </tr>\n",
       "    <tr>\n",
       "      <th>3429</th>\n",
       "      <td>0.000000</td>\n",
       "      <td>0.0</td>\n",
       "    </tr>\n",
       "    <tr>\n",
       "      <th>3430</th>\n",
       "      <td>0.000000</td>\n",
       "      <td>0.0</td>\n",
       "    </tr>\n",
       "    <tr>\n",
       "      <th>3465</th>\n",
       "      <td>0.000000</td>\n",
       "      <td>0.0</td>\n",
       "    </tr>\n",
       "    <tr>\n",
       "      <th>3478</th>\n",
       "      <td>0.000000</td>\n",
       "      <td>0.0</td>\n",
       "    </tr>\n",
       "    <tr>\n",
       "      <th>3489</th>\n",
       "      <td>0.000000</td>\n",
       "      <td>0.0</td>\n",
       "    </tr>\n",
       "    <tr>\n",
       "      <th>3496</th>\n",
       "      <td>0.166667</td>\n",
       "      <td>0.0</td>\n",
       "    </tr>\n",
       "    <tr>\n",
       "      <th>3527</th>\n",
       "      <td>0.000000</td>\n",
       "      <td>0.0</td>\n",
       "    </tr>\n",
       "    <tr>\n",
       "      <th>3531</th>\n",
       "      <td>0.000000</td>\n",
       "      <td>0.0</td>\n",
       "    </tr>\n",
       "    <tr>\n",
       "      <th>3547</th>\n",
       "      <td>0.000000</td>\n",
       "      <td>0.0</td>\n",
       "    </tr>\n",
       "    <tr>\n",
       "      <th>3551</th>\n",
       "      <td>0.000000</td>\n",
       "      <td>0.0</td>\n",
       "    </tr>\n",
       "    <tr>\n",
       "      <th>3603</th>\n",
       "      <td>0.166667</td>\n",
       "      <td>0.0</td>\n",
       "    </tr>\n",
       "    <tr>\n",
       "      <th>3616</th>\n",
       "      <td>0.000000</td>\n",
       "      <td>0.0</td>\n",
       "    </tr>\n",
       "    <tr>\n",
       "      <th>3621</th>\n",
       "      <td>0.000000</td>\n",
       "      <td>0.0</td>\n",
       "    </tr>\n",
       "    <tr>\n",
       "      <th>3627</th>\n",
       "      <td>0.000000</td>\n",
       "      <td>0.0</td>\n",
       "    </tr>\n",
       "    <tr>\n",
       "      <th>...</th>\n",
       "      <th>...</th>\n",
       "      <td>...</td>\n",
       "      <td>...</td>\n",
       "    </tr>\n",
       "    <tr>\n",
       "      <th rowspan=\"30\" valign=\"top\">Contig263</th>\n",
       "      <th>598459</th>\n",
       "      <td>0.000000</td>\n",
       "      <td>0.0</td>\n",
       "    </tr>\n",
       "    <tr>\n",
       "      <th>598473</th>\n",
       "      <td>1.000000</td>\n",
       "      <td>1.0</td>\n",
       "    </tr>\n",
       "    <tr>\n",
       "      <th>598517</th>\n",
       "      <td>0.500000</td>\n",
       "      <td>0.5</td>\n",
       "    </tr>\n",
       "    <tr>\n",
       "      <th>598524</th>\n",
       "      <td>0.833333</td>\n",
       "      <td>1.0</td>\n",
       "    </tr>\n",
       "    <tr>\n",
       "      <th>598527</th>\n",
       "      <td>0.000000</td>\n",
       "      <td>0.0</td>\n",
       "    </tr>\n",
       "    <tr>\n",
       "      <th>598550</th>\n",
       "      <td>0.000000</td>\n",
       "      <td>0.0</td>\n",
       "    </tr>\n",
       "    <tr>\n",
       "      <th>598555</th>\n",
       "      <td>0.500000</td>\n",
       "      <td>0.5</td>\n",
       "    </tr>\n",
       "    <tr>\n",
       "      <th>598578</th>\n",
       "      <td>0.000000</td>\n",
       "      <td>0.0</td>\n",
       "    </tr>\n",
       "    <tr>\n",
       "      <th>598619</th>\n",
       "      <td>0.000000</td>\n",
       "      <td>0.0</td>\n",
       "    </tr>\n",
       "    <tr>\n",
       "      <th>598623</th>\n",
       "      <td>0.333333</td>\n",
       "      <td>0.5</td>\n",
       "    </tr>\n",
       "    <tr>\n",
       "      <th>598629</th>\n",
       "      <td>0.500000</td>\n",
       "      <td>0.5</td>\n",
       "    </tr>\n",
       "    <tr>\n",
       "      <th>598630</th>\n",
       "      <td>0.500000</td>\n",
       "      <td>0.5</td>\n",
       "    </tr>\n",
       "    <tr>\n",
       "      <th>598636</th>\n",
       "      <td>0.333333</td>\n",
       "      <td>0.5</td>\n",
       "    </tr>\n",
       "    <tr>\n",
       "      <th>598750</th>\n",
       "      <td>0.500000</td>\n",
       "      <td>0.5</td>\n",
       "    </tr>\n",
       "    <tr>\n",
       "      <th>598792</th>\n",
       "      <td>0.000000</td>\n",
       "      <td>0.0</td>\n",
       "    </tr>\n",
       "    <tr>\n",
       "      <th>598903</th>\n",
       "      <td>0.333333</td>\n",
       "      <td>0.5</td>\n",
       "    </tr>\n",
       "    <tr>\n",
       "      <th>598924</th>\n",
       "      <td>0.000000</td>\n",
       "      <td>0.0</td>\n",
       "    </tr>\n",
       "    <tr>\n",
       "      <th>599020</th>\n",
       "      <td>0.333333</td>\n",
       "      <td>1.0</td>\n",
       "    </tr>\n",
       "    <tr>\n",
       "      <th>599039</th>\n",
       "      <td>0.000000</td>\n",
       "      <td>0.0</td>\n",
       "    </tr>\n",
       "    <tr>\n",
       "      <th>599258</th>\n",
       "      <td>0.000000</td>\n",
       "      <td>0.0</td>\n",
       "    </tr>\n",
       "    <tr>\n",
       "      <th>599260</th>\n",
       "      <td>0.000000</td>\n",
       "      <td>0.0</td>\n",
       "    </tr>\n",
       "    <tr>\n",
       "      <th>599286</th>\n",
       "      <td>0.333333</td>\n",
       "      <td>0.0</td>\n",
       "    </tr>\n",
       "    <tr>\n",
       "      <th>605625</th>\n",
       "      <td>0.000000</td>\n",
       "      <td>0.0</td>\n",
       "    </tr>\n",
       "    <tr>\n",
       "      <th>605656</th>\n",
       "      <td>0.000000</td>\n",
       "      <td>0.0</td>\n",
       "    </tr>\n",
       "    <tr>\n",
       "      <th>605658</th>\n",
       "      <td>0.166667</td>\n",
       "      <td>0.0</td>\n",
       "    </tr>\n",
       "    <tr>\n",
       "      <th>605668</th>\n",
       "      <td>0.000000</td>\n",
       "      <td>0.0</td>\n",
       "    </tr>\n",
       "    <tr>\n",
       "      <th>605677</th>\n",
       "      <td>0.166667</td>\n",
       "      <td>0.5</td>\n",
       "    </tr>\n",
       "    <tr>\n",
       "      <th>605679</th>\n",
       "      <td>0.000000</td>\n",
       "      <td>0.0</td>\n",
       "    </tr>\n",
       "    <tr>\n",
       "      <th>605929</th>\n",
       "      <td>0.166667</td>\n",
       "      <td>0.0</td>\n",
       "    </tr>\n",
       "    <tr>\n",
       "      <th>605938</th>\n",
       "      <td>0.000000</td>\n",
       "      <td>0.0</td>\n",
       "    </tr>\n",
       "  </tbody>\n",
       "</table>\n",
       "<p>54098 rows × 2 columns</p>\n",
       "</div>"
      ],
      "text/plain": [
       "                   Malombe  South West Arm\n",
       "CHROM     POS                             \n",
       "Contig237 3190    0.000000             0.0\n",
       "          3203    1.000000             1.0\n",
       "          3230    0.000000             0.0\n",
       "          3310    0.000000             0.0\n",
       "          3311    0.000000             0.0\n",
       "          3313    0.166667             0.0\n",
       "          3314    0.000000             0.0\n",
       "          3321    1.000000             1.0\n",
       "          3340    0.000000             0.0\n",
       "          3352    0.000000             0.0\n",
       "          3353    0.000000             0.0\n",
       "          3366    0.000000             0.0\n",
       "          3376    0.166667             0.0\n",
       "          3380    0.166667             0.0\n",
       "          3424    0.166667             0.0\n",
       "          3427    0.000000             0.0\n",
       "          3429    0.000000             0.0\n",
       "          3430    0.000000             0.0\n",
       "          3465    0.000000             0.0\n",
       "          3478    0.000000             0.0\n",
       "          3489    0.000000             0.0\n",
       "          3496    0.166667             0.0\n",
       "          3527    0.000000             0.0\n",
       "          3531    0.000000             0.0\n",
       "          3547    0.000000             0.0\n",
       "          3551    0.000000             0.0\n",
       "          3603    0.166667             0.0\n",
       "          3616    0.000000             0.0\n",
       "          3621    0.000000             0.0\n",
       "          3627    0.000000             0.0\n",
       "...                    ...             ...\n",
       "Contig263 598459  0.000000             0.0\n",
       "          598473  1.000000             1.0\n",
       "          598517  0.500000             0.5\n",
       "          598524  0.833333             1.0\n",
       "          598527  0.000000             0.0\n",
       "          598550  0.000000             0.0\n",
       "          598555  0.500000             0.5\n",
       "          598578  0.000000             0.0\n",
       "          598619  0.000000             0.0\n",
       "          598623  0.333333             0.5\n",
       "          598629  0.500000             0.5\n",
       "          598630  0.500000             0.5\n",
       "          598636  0.333333             0.5\n",
       "          598750  0.500000             0.5\n",
       "          598792  0.000000             0.0\n",
       "          598903  0.333333             0.5\n",
       "          598924  0.000000             0.0\n",
       "          599020  0.333333             1.0\n",
       "          599039  0.000000             0.0\n",
       "          599258  0.000000             0.0\n",
       "          599260  0.000000             0.0\n",
       "          599286  0.333333             0.0\n",
       "          605625  0.000000             0.0\n",
       "          605656  0.000000             0.0\n",
       "          605658  0.166667             0.0\n",
       "          605668  0.000000             0.0\n",
       "          605677  0.166667             0.5\n",
       "          605679  0.000000             0.0\n",
       "          605929  0.166667             0.0\n",
       "          605938  0.000000             0.0\n",
       "\n",
       "[54098 rows x 2 columns]"
      ]
     },
     "execution_count": 108,
     "metadata": {},
     "output_type": "execute_result"
    }
   ],
   "source": [
    "sample_groups0.mean()"
   ]
  },
  {
   "cell_type": "code",
   "execution_count": 109,
   "metadata": {
    "collapsed": true
   },
   "outputs": [],
   "source": [
    "# group using a function\n",
    "def get_location(sample_id):\n",
    "    return meta_df.loc[sample_id, 'place']\n",
    "\n",
    "location_groups = hap_df_vir.groupby(get_location, axis=1, level=0)\n"
   ]
  },
  {
   "cell_type": "code",
   "execution_count": 110,
   "metadata": {
    "collapsed": true
   },
   "outputs": [],
   "source": [
    "# equivalent to above but using a lambda function\n",
    "location_groups = hap_df_vir.groupby(lambda id: meta_df.loc[id, 'place'], axis=1, level=0)"
   ]
  },
  {
   "cell_type": "markdown",
   "metadata": {},
   "source": [
    "Calculate the allele frequency for each local population."
   ]
  },
  {
   "cell_type": "code",
   "execution_count": 111,
   "metadata": {
    "collapsed": true
   },
   "outputs": [],
   "source": [
    "population_af = location_groups.mean()"
   ]
  },
  {
   "cell_type": "code",
   "execution_count": 112,
   "metadata": {
    "collapsed": false
   },
   "outputs": [
    {
     "name": "stderr",
     "output_type": "stream",
     "text": [
      "/home/wpsg/.local/lib/python2.7/site-packages/IPython/core/interactiveshell.py:2869: UserWarning: To output multiple subplots, the figure containing the passed axes is being cleared\n",
      "  exec(code_obj, self.user_global_ns, self.user_ns)\n"
     ]
    },
    {
     "data": {
      "image/png": "[encoded data removed]",
      "text/plain": [
       "<matplotlib.figure.Figure at 0x7f4516dc3b90>"
      ]
     },
     "metadata": {},
     "output_type": "display_data"
    }
   ],
   "source": [
    "fig = plt.figure(figsize=(16,10))\n",
    "ax = plt.gca()\n",
    "axes = population_af.hist(bins=20, ax=ax)"
   ]
  },
  {
   "cell_type": "markdown",
   "metadata": {},
   "source": [
    "Do the allele frequency spectra look different in the different populations?"
   ]
  },
  {
   "cell_type": "markdown",
   "metadata": {},
   "source": [
    "### Calculate nucleotide diversity $\\pi$ and divergence $d_{xy}$"
   ]
  },
  {
   "cell_type": "code",
   "execution_count": 113,
   "metadata": {
    "collapsed": true
   },
   "outputs": [],
   "source": [
    "# pi = 2p(1-p)\n",
    "# dxy = pq"
   ]
  },
  {
   "cell_type": "code",
   "execution_count": 114,
   "metadata": {
    "collapsed": true
   },
   "outputs": [],
   "source": [
    "# apply a function in rolling windows of 100 SNPs\n",
    "window_size = 100\n",
    "rolling_window_df = population_af.loc['Contig237', 'Malombe'].rolling(window_size, \n",
    "                                                                      center=True, axis=0)\n",
    "pi_rolling = rolling_window_df.apply(lambda s:(2*s*(1-s)).mean())"
   ]
  },
  {
   "cell_type": "code",
   "execution_count": 115,
   "metadata": {
    "collapsed": false
   },
   "outputs": [
    {
     "data": {
      "text/plain": [
       "<matplotlib.axes._subplots.AxesSubplot at 0x7f4516be1210>"
      ]
     },
     "execution_count": 115,
     "metadata": {},
     "output_type": "execute_result"
    },
    {
     "data": {
      "image/png": "[encoded data removed]",
      "text/plain": [
       "<matplotlib.figure.Figure at 0x7f45167ad910>"
      ]
     },
     "metadata": {},
     "output_type": "display_data"
    }
   ],
   "source": [
    "pi_rolling.plot(style='.')"
   ]
  },
  {
   "cell_type": "code",
   "execution_count": 116,
   "metadata": {
    "collapsed": true
   },
   "outputs": [],
   "source": [
    "def get_dxy(af):\n",
    "    \"\"\"\n",
    "    Get dxy between Malombe and\n",
    "    South East Arm\n",
    "    \"\"\"\n",
    "    dxy = af['Malombe']*(1-af['South East Arm']) + (1-af['Malombe'])*af['South East Arm']\n",
    "    return dxy.mean()\n",
    "\n",
    "# apply function in non-overlapping 100 bp windows\n",
    "window_size = 100\n",
    "dxy = population_af.loc['Contig237'].groupby(lambda ix: ix // window_size).apply(get_dxy)"
   ]
  },
  {
   "cell_type": "code",
   "execution_count": 117,
   "metadata": {
    "collapsed": false
   },
   "outputs": [
    {
     "data": {
      "text/plain": [
       "<matplotlib.axes._subplots.AxesSubplot at 0x7f4516824a10>"
      ]
     },
     "execution_count": 117,
     "metadata": {},
     "output_type": "execute_result"
    },
    {
     "data": {
      "image/png": "[encoded data removed]",
      "text/plain": [
       "<matplotlib.figure.Figure at 0x7f451618c090>"
      ]
     },
     "metadata": {},
     "output_type": "display_data"
    }
   ],
   "source": [
    "dxy.plot(style='.')"
   ]
  },
  {
   "cell_type": "markdown",
   "metadata": {},
   "source": [
    "Vary the parameters of the above functions. Try to plot pi for the different chromosomes and the different populations."
   ]
  },
  {
   "cell_type": "markdown",
   "metadata": {},
   "source": [
    "#### A more general function to calculate dxy across muliple populations"
   ]
  },
  {
   "cell_type": "code",
   "execution_count": 118,
   "metadata": {
    "collapsed": true
   },
   "outputs": [],
   "source": [
    "def get_divergence(af):\n",
    "    \"\"\"\n",
    "    Takes a allele frequency df\n",
    "    returns nucleotide diversity (diagonal)\n",
    "    and dxy (off-diagonal).\n",
    "    \n",
    "    Attention! The estimator for pi\n",
    "    is biased because it does not take\n",
    "    resampling of the same allele into account.\n",
    "    For small populations pi will be downward biased.\n",
    "    \"\"\"\n",
    "    \n",
    "    # This looks complicated. If basically\n",
    "    # uses tensor muliplication to efficiently\n",
    "    # calculate all pairwise comparisons.\n",
    "    divergence = np.einsum('ij,ik->jk',af, 1-af) \\\n",
    "            + np.einsum('ij,ik->jk',1-af, af)\n",
    "    # the above results in a numpy array\n",
    "    # put it into a data frame\n",
    "    divergence = pd.DataFrame(divergence, \n",
    "                              index=af.columns,\n",
    "                             columns=af.columns)\n",
    "    return divergence"
   ]
  },
  {
   "cell_type": "code",
   "execution_count": 119,
   "metadata": {
    "collapsed": false
   },
   "outputs": [
    {
     "data": {
      "text/html": [
       "<div>\n",
       "<table border=\"1\" class=\"dataframe\">\n",
       "  <thead>\n",
       "    <tr style=\"text-align: right;\">\n",
       "      <th></th>\n",
       "      <th>Malombe</th>\n",
       "      <th>South East Arm</th>\n",
       "      <th>South West Arm</th>\n",
       "    </tr>\n",
       "  </thead>\n",
       "  <tbody>\n",
       "    <tr>\n",
       "      <th>Malombe</th>\n",
       "      <td>4585.342882</td>\n",
       "      <td>5005.335069</td>\n",
       "      <td>4908.479167</td>\n",
       "    </tr>\n",
       "    <tr>\n",
       "      <th>South East Arm</th>\n",
       "      <td>5005.335069</td>\n",
       "      <td>4463.021701</td>\n",
       "      <td>4866.949167</td>\n",
       "    </tr>\n",
       "    <tr>\n",
       "      <th>South West Arm</th>\n",
       "      <td>4908.479167</td>\n",
       "      <td>4866.949167</td>\n",
       "      <td>4687.815200</td>\n",
       "    </tr>\n",
       "  </tbody>\n",
       "</table>\n",
       "</div>"
      ],
      "text/plain": [
       "                    Malombe  South East Arm  South West Arm\n",
       "Malombe         4585.342882     5005.335069     4908.479167\n",
       "South East Arm  5005.335069     4463.021701     4866.949167\n",
       "South West Arm  4908.479167     4866.949167     4687.815200"
      ]
     },
     "execution_count": 119,
     "metadata": {},
     "output_type": "execute_result"
    }
   ],
   "source": [
    "get_divergence(population_af)"
   ]
  },
  {
   "cell_type": "code",
   "execution_count": 120,
   "metadata": {
    "collapsed": true
   },
   "outputs": [],
   "source": [
    "individual_af = hap_df_vir.groupby(axis=1, level=0).mean()"
   ]
  },
  {
   "cell_type": "code",
   "execution_count": 121,
   "metadata": {
    "collapsed": true
   },
   "outputs": [],
   "source": [
    "individual_dxy = get_divergence(individual_af)"
   ]
  },
  {
   "cell_type": "code",
   "execution_count": 122,
   "metadata": {
    "collapsed": false
   },
   "outputs": [
    {
     "data": {
      "text/html": [
       "<div>\n",
       "<table border=\"1\" class=\"dataframe\">\n",
       "  <thead>\n",
       "    <tr style=\"text-align: right;\">\n",
       "      <th></th>\n",
       "      <th>VirMAL1</th>\n",
       "      <th>VirMAL10</th>\n",
       "      <th>VirMAL11</th>\n",
       "      <th>VirMAL12</th>\n",
       "      <th>VirMAL13</th>\n",
       "      <th>VirMAL14</th>\n",
       "      <th>VirMAL15</th>\n",
       "      <th>VirMAL16</th>\n",
       "      <th>VirMAL17</th>\n",
       "      <th>VirMAL18</th>\n",
       "      <th>...</th>\n",
       "      <th>VirSWA25</th>\n",
       "      <th>VirSWA26</th>\n",
       "      <th>VirSWA27</th>\n",
       "      <th>VirSWA3</th>\n",
       "      <th>VirSWA4</th>\n",
       "      <th>VirSWA5</th>\n",
       "      <th>VirSWA6</th>\n",
       "      <th>VirSWA7</th>\n",
       "      <th>VirSWA8</th>\n",
       "      <th>VirSWA9</th>\n",
       "    </tr>\n",
       "  </thead>\n",
       "  <tbody>\n",
       "    <tr>\n",
       "      <th>VirMAL1</th>\n",
       "      <td>2207.0</td>\n",
       "      <td>4566.5</td>\n",
       "      <td>4506.0</td>\n",
       "      <td>4765.0</td>\n",
       "      <td>4441.0</td>\n",
       "      <td>4508.5</td>\n",
       "      <td>4269.5</td>\n",
       "      <td>4434.0</td>\n",
       "      <td>4533.0</td>\n",
       "      <td>4570.0</td>\n",
       "      <td>...</td>\n",
       "      <td>4726.5</td>\n",
       "      <td>4855.0</td>\n",
       "      <td>4796.0</td>\n",
       "      <td>4844.5</td>\n",
       "      <td>4375.0</td>\n",
       "      <td>4943.0</td>\n",
       "      <td>5100.5</td>\n",
       "      <td>4822.5</td>\n",
       "      <td>4680.5</td>\n",
       "      <td>4884.0</td>\n",
       "    </tr>\n",
       "    <tr>\n",
       "      <th>VirMAL10</th>\n",
       "      <td>4566.5</td>\n",
       "      <td>2616.0</td>\n",
       "      <td>4578.0</td>\n",
       "      <td>4878.0</td>\n",
       "      <td>4647.0</td>\n",
       "      <td>4757.0</td>\n",
       "      <td>4374.0</td>\n",
       "      <td>4888.0</td>\n",
       "      <td>4783.5</td>\n",
       "      <td>4649.0</td>\n",
       "      <td>...</td>\n",
       "      <td>4908.0</td>\n",
       "      <td>4933.5</td>\n",
       "      <td>4824.0</td>\n",
       "      <td>5016.0</td>\n",
       "      <td>4662.5</td>\n",
       "      <td>5262.5</td>\n",
       "      <td>5260.5</td>\n",
       "      <td>5110.0</td>\n",
       "      <td>5012.5</td>\n",
       "      <td>5118.0</td>\n",
       "    </tr>\n",
       "    <tr>\n",
       "      <th>VirMAL11</th>\n",
       "      <td>4506.0</td>\n",
       "      <td>4578.0</td>\n",
       "      <td>2581.5</td>\n",
       "      <td>4784.0</td>\n",
       "      <td>4685.5</td>\n",
       "      <td>4701.0</td>\n",
       "      <td>4408.5</td>\n",
       "      <td>4653.0</td>\n",
       "      <td>4869.5</td>\n",
       "      <td>4693.5</td>\n",
       "      <td>...</td>\n",
       "      <td>4883.0</td>\n",
       "      <td>4863.5</td>\n",
       "      <td>4808.0</td>\n",
       "      <td>4914.0</td>\n",
       "      <td>4568.0</td>\n",
       "      <td>4970.0</td>\n",
       "      <td>5027.0</td>\n",
       "      <td>4995.5</td>\n",
       "      <td>4912.0</td>\n",
       "      <td>5025.0</td>\n",
       "    </tr>\n",
       "    <tr>\n",
       "      <th>VirMAL12</th>\n",
       "      <td>4765.0</td>\n",
       "      <td>4878.0</td>\n",
       "      <td>4784.0</td>\n",
       "      <td>2431.5</td>\n",
       "      <td>4879.5</td>\n",
       "      <td>4658.5</td>\n",
       "      <td>4517.5</td>\n",
       "      <td>4715.5</td>\n",
       "      <td>5001.5</td>\n",
       "      <td>4725.5</td>\n",
       "      <td>...</td>\n",
       "      <td>4960.0</td>\n",
       "      <td>5032.0</td>\n",
       "      <td>4845.5</td>\n",
       "      <td>4828.5</td>\n",
       "      <td>4702.0</td>\n",
       "      <td>4710.5</td>\n",
       "      <td>4798.5</td>\n",
       "      <td>5006.0</td>\n",
       "      <td>4707.0</td>\n",
       "      <td>4644.5</td>\n",
       "    </tr>\n",
       "    <tr>\n",
       "      <th>VirMAL13</th>\n",
       "      <td>4441.0</td>\n",
       "      <td>4647.0</td>\n",
       "      <td>4685.5</td>\n",
       "      <td>4879.5</td>\n",
       "      <td>2079.5</td>\n",
       "      <td>4530.5</td>\n",
       "      <td>4367.5</td>\n",
       "      <td>4735.5</td>\n",
       "      <td>4522.0</td>\n",
       "      <td>4726.0</td>\n",
       "      <td>...</td>\n",
       "      <td>4819.5</td>\n",
       "      <td>4740.5</td>\n",
       "      <td>4687.0</td>\n",
       "      <td>4799.0</td>\n",
       "      <td>4483.5</td>\n",
       "      <td>4883.5</td>\n",
       "      <td>5107.5</td>\n",
       "      <td>4484.0</td>\n",
       "      <td>4619.5</td>\n",
       "      <td>4599.5</td>\n",
       "    </tr>\n",
       "    <tr>\n",
       "      <th>VirMAL14</th>\n",
       "      <td>4508.5</td>\n",
       "      <td>4757.0</td>\n",
       "      <td>4701.0</td>\n",
       "      <td>4658.5</td>\n",
       "      <td>4530.5</td>\n",
       "      <td>2474.5</td>\n",
       "      <td>4429.5</td>\n",
       "      <td>4928.5</td>\n",
       "      <td>4840.5</td>\n",
       "      <td>4512.0</td>\n",
       "      <td>...</td>\n",
       "      <td>4924.0</td>\n",
       "      <td>4885.5</td>\n",
       "      <td>4725.0</td>\n",
       "      <td>5029.5</td>\n",
       "      <td>4641.5</td>\n",
       "      <td>4678.0</td>\n",
       "      <td>5027.0</td>\n",
       "      <td>4798.0</td>\n",
       "      <td>4637.5</td>\n",
       "      <td>4638.0</td>\n",
       "    </tr>\n",
       "    <tr>\n",
       "      <th>VirMAL15</th>\n",
       "      <td>4269.5</td>\n",
       "      <td>4374.0</td>\n",
       "      <td>4408.5</td>\n",
       "      <td>4517.5</td>\n",
       "      <td>4367.5</td>\n",
       "      <td>4429.5</td>\n",
       "      <td>2227.0</td>\n",
       "      <td>4534.5</td>\n",
       "      <td>4641.0</td>\n",
       "      <td>4352.0</td>\n",
       "      <td>...</td>\n",
       "      <td>4671.5</td>\n",
       "      <td>4694.5</td>\n",
       "      <td>4711.0</td>\n",
       "      <td>4671.0</td>\n",
       "      <td>4388.5</td>\n",
       "      <td>4760.5</td>\n",
       "      <td>4934.0</td>\n",
       "      <td>4842.0</td>\n",
       "      <td>4657.0</td>\n",
       "      <td>4621.0</td>\n",
       "    </tr>\n",
       "    <tr>\n",
       "      <th>VirMAL16</th>\n",
       "      <td>4434.0</td>\n",
       "      <td>4888.0</td>\n",
       "      <td>4653.0</td>\n",
       "      <td>4715.5</td>\n",
       "      <td>4735.5</td>\n",
       "      <td>4928.5</td>\n",
       "      <td>4534.5</td>\n",
       "      <td>2340.5</td>\n",
       "      <td>4915.5</td>\n",
       "      <td>4906.0</td>\n",
       "      <td>...</td>\n",
       "      <td>4875.5</td>\n",
       "      <td>5005.0</td>\n",
       "      <td>4933.0</td>\n",
       "      <td>4775.0</td>\n",
       "      <td>4585.0</td>\n",
       "      <td>5100.0</td>\n",
       "      <td>4960.5</td>\n",
       "      <td>4990.0</td>\n",
       "      <td>4997.5</td>\n",
       "      <td>5076.5</td>\n",
       "    </tr>\n",
       "    <tr>\n",
       "      <th>VirMAL17</th>\n",
       "      <td>4533.0</td>\n",
       "      <td>4783.5</td>\n",
       "      <td>4869.5</td>\n",
       "      <td>5001.5</td>\n",
       "      <td>4522.0</td>\n",
       "      <td>4840.5</td>\n",
       "      <td>4641.0</td>\n",
       "      <td>4915.5</td>\n",
       "      <td>2359.5</td>\n",
       "      <td>4933.0</td>\n",
       "      <td>...</td>\n",
       "      <td>4895.0</td>\n",
       "      <td>5013.5</td>\n",
       "      <td>4923.0</td>\n",
       "      <td>4961.5</td>\n",
       "      <td>4523.5</td>\n",
       "      <td>5213.0</td>\n",
       "      <td>5201.5</td>\n",
       "      <td>4824.0</td>\n",
       "      <td>4863.0</td>\n",
       "      <td>4780.0</td>\n",
       "    </tr>\n",
       "    <tr>\n",
       "      <th>VirMAL18</th>\n",
       "      <td>4570.0</td>\n",
       "      <td>4649.0</td>\n",
       "      <td>4693.5</td>\n",
       "      <td>4725.5</td>\n",
       "      <td>4726.0</td>\n",
       "      <td>4512.0</td>\n",
       "      <td>4352.0</td>\n",
       "      <td>4906.0</td>\n",
       "      <td>4933.0</td>\n",
       "      <td>2378.5</td>\n",
       "      <td>...</td>\n",
       "      <td>5064.0</td>\n",
       "      <td>5103.5</td>\n",
       "      <td>4863.0</td>\n",
       "      <td>5076.0</td>\n",
       "      <td>4896.5</td>\n",
       "      <td>4827.5</td>\n",
       "      <td>5027.0</td>\n",
       "      <td>5029.0</td>\n",
       "      <td>4814.0</td>\n",
       "      <td>4768.5</td>\n",
       "    </tr>\n",
       "    <tr>\n",
       "      <th>VirMAL19</th>\n",
       "      <td>4381.0</td>\n",
       "      <td>4636.5</td>\n",
       "      <td>4828.0</td>\n",
       "      <td>5039.0</td>\n",
       "      <td>4474.0</td>\n",
       "      <td>4760.0</td>\n",
       "      <td>4516.5</td>\n",
       "      <td>4713.5</td>\n",
       "      <td>4460.5</td>\n",
       "      <td>4865.0</td>\n",
       "      <td>...</td>\n",
       "      <td>4791.5</td>\n",
       "      <td>5046.5</td>\n",
       "      <td>4939.5</td>\n",
       "      <td>4920.0</td>\n",
       "      <td>4500.5</td>\n",
       "      <td>5066.0</td>\n",
       "      <td>5128.0</td>\n",
       "      <td>4769.5</td>\n",
       "      <td>4878.5</td>\n",
       "      <td>4892.0</td>\n",
       "    </tr>\n",
       "    <tr>\n",
       "      <th>VirMAL2</th>\n",
       "      <td>4406.5</td>\n",
       "      <td>4434.0</td>\n",
       "      <td>4288.0</td>\n",
       "      <td>4783.5</td>\n",
       "      <td>4451.5</td>\n",
       "      <td>4528.0</td>\n",
       "      <td>4226.0</td>\n",
       "      <td>4808.0</td>\n",
       "      <td>4752.0</td>\n",
       "      <td>4587.0</td>\n",
       "      <td>...</td>\n",
       "      <td>4883.0</td>\n",
       "      <td>4744.5</td>\n",
       "      <td>4720.0</td>\n",
       "      <td>4824.0</td>\n",
       "      <td>4593.0</td>\n",
       "      <td>5054.0</td>\n",
       "      <td>5037.5</td>\n",
       "      <td>5023.0</td>\n",
       "      <td>4901.0</td>\n",
       "      <td>4909.0</td>\n",
       "    </tr>\n",
       "    <tr>\n",
       "      <th>VirMAL20</th>\n",
       "      <td>4418.0</td>\n",
       "      <td>4673.0</td>\n",
       "      <td>4836.5</td>\n",
       "      <td>5034.0</td>\n",
       "      <td>4524.5</td>\n",
       "      <td>4814.0</td>\n",
       "      <td>4564.0</td>\n",
       "      <td>4707.0</td>\n",
       "      <td>4505.5</td>\n",
       "      <td>4899.5</td>\n",
       "      <td>...</td>\n",
       "      <td>4796.0</td>\n",
       "      <td>5055.5</td>\n",
       "      <td>4977.5</td>\n",
       "      <td>4928.5</td>\n",
       "      <td>4544.5</td>\n",
       "      <td>5103.5</td>\n",
       "      <td>5138.0</td>\n",
       "      <td>4802.0</td>\n",
       "      <td>4926.0</td>\n",
       "      <td>4941.0</td>\n",
       "    </tr>\n",
       "    <tr>\n",
       "      <th>VirMAL21</th>\n",
       "      <td>4609.0</td>\n",
       "      <td>4959.0</td>\n",
       "      <td>4757.0</td>\n",
       "      <td>4764.0</td>\n",
       "      <td>4506.0</td>\n",
       "      <td>4589.5</td>\n",
       "      <td>4567.0</td>\n",
       "      <td>4736.5</td>\n",
       "      <td>4906.5</td>\n",
       "      <td>4631.5</td>\n",
       "      <td>...</td>\n",
       "      <td>4773.0</td>\n",
       "      <td>5039.5</td>\n",
       "      <td>4811.0</td>\n",
       "      <td>5029.5</td>\n",
       "      <td>4787.5</td>\n",
       "      <td>4533.5</td>\n",
       "      <td>4943.0</td>\n",
       "      <td>4610.0</td>\n",
       "      <td>4624.0</td>\n",
       "      <td>4653.5</td>\n",
       "    </tr>\n",
       "    <tr>\n",
       "      <th>VirMAL22</th>\n",
       "      <td>4311.5</td>\n",
       "      <td>4478.5</td>\n",
       "      <td>4593.5</td>\n",
       "      <td>4771.0</td>\n",
       "      <td>4554.0</td>\n",
       "      <td>4584.5</td>\n",
       "      <td>4385.5</td>\n",
       "      <td>4595.0</td>\n",
       "      <td>4573.5</td>\n",
       "      <td>4714.5</td>\n",
       "      <td>...</td>\n",
       "      <td>4841.0</td>\n",
       "      <td>4994.5</td>\n",
       "      <td>4890.0</td>\n",
       "      <td>5010.0</td>\n",
       "      <td>4453.0</td>\n",
       "      <td>5207.5</td>\n",
       "      <td>5215.0</td>\n",
       "      <td>4912.5</td>\n",
       "      <td>4870.5</td>\n",
       "      <td>4965.0</td>\n",
       "    </tr>\n",
       "    <tr>\n",
       "      <th>VirMAL23</th>\n",
       "      <td>4199.0</td>\n",
       "      <td>4664.0</td>\n",
       "      <td>4349.5</td>\n",
       "      <td>4583.0</td>\n",
       "      <td>4597.5</td>\n",
       "      <td>4561.5</td>\n",
       "      <td>4202.0</td>\n",
       "      <td>4340.5</td>\n",
       "      <td>4635.5</td>\n",
       "      <td>4691.5</td>\n",
       "      <td>...</td>\n",
       "      <td>4582.0</td>\n",
       "      <td>4896.5</td>\n",
       "      <td>4753.5</td>\n",
       "      <td>4877.0</td>\n",
       "      <td>4274.0</td>\n",
       "      <td>4819.5</td>\n",
       "      <td>5013.0</td>\n",
       "      <td>4735.0</td>\n",
       "      <td>4730.0</td>\n",
       "      <td>4875.5</td>\n",
       "    </tr>\n",
       "    <tr>\n",
       "      <th>VirMAL24</th>\n",
       "      <td>4565.0</td>\n",
       "      <td>4420.5</td>\n",
       "      <td>4622.5</td>\n",
       "      <td>4633.5</td>\n",
       "      <td>4741.0</td>\n",
       "      <td>4523.0</td>\n",
       "      <td>4456.0</td>\n",
       "      <td>4841.0</td>\n",
       "      <td>4940.0</td>\n",
       "      <td>4500.5</td>\n",
       "      <td>...</td>\n",
       "      <td>4959.5</td>\n",
       "      <td>5118.5</td>\n",
       "      <td>4635.5</td>\n",
       "      <td>5061.0</td>\n",
       "      <td>4797.0</td>\n",
       "      <td>5018.0</td>\n",
       "      <td>5177.0</td>\n",
       "      <td>4909.0</td>\n",
       "      <td>4821.0</td>\n",
       "      <td>4813.0</td>\n",
       "    </tr>\n",
       "    <tr>\n",
       "      <th>VirMAL3</th>\n",
       "      <td>4609.0</td>\n",
       "      <td>4905.5</td>\n",
       "      <td>4705.5</td>\n",
       "      <td>4836.0</td>\n",
       "      <td>4676.5</td>\n",
       "      <td>4642.5</td>\n",
       "      <td>4657.5</td>\n",
       "      <td>4846.5</td>\n",
       "      <td>4884.0</td>\n",
       "      <td>4605.0</td>\n",
       "      <td>...</td>\n",
       "      <td>4751.0</td>\n",
       "      <td>5151.5</td>\n",
       "      <td>4691.5</td>\n",
       "      <td>4931.0</td>\n",
       "      <td>4814.5</td>\n",
       "      <td>4636.0</td>\n",
       "      <td>4874.0</td>\n",
       "      <td>4676.5</td>\n",
       "      <td>4830.5</td>\n",
       "      <td>4736.5</td>\n",
       "    </tr>\n",
       "    <tr>\n",
       "      <th>VirMAL4</th>\n",
       "      <td>4110.0</td>\n",
       "      <td>4522.5</td>\n",
       "      <td>4448.0</td>\n",
       "      <td>4644.0</td>\n",
       "      <td>4413.5</td>\n",
       "      <td>4369.5</td>\n",
       "      <td>4198.0</td>\n",
       "      <td>4418.5</td>\n",
       "      <td>4481.0</td>\n",
       "      <td>4477.0</td>\n",
       "      <td>...</td>\n",
       "      <td>4681.0</td>\n",
       "      <td>4873.0</td>\n",
       "      <td>4692.5</td>\n",
       "      <td>4868.0</td>\n",
       "      <td>4237.0</td>\n",
       "      <td>4882.5</td>\n",
       "      <td>5011.0</td>\n",
       "      <td>4716.5</td>\n",
       "      <td>4685.5</td>\n",
       "      <td>4846.0</td>\n",
       "    </tr>\n",
       "    <tr>\n",
       "      <th>VirMAL5</th>\n",
       "      <td>4207.5</td>\n",
       "      <td>4638.0</td>\n",
       "      <td>4494.0</td>\n",
       "      <td>4732.0</td>\n",
       "      <td>4403.5</td>\n",
       "      <td>4585.0</td>\n",
       "      <td>4358.5</td>\n",
       "      <td>4483.5</td>\n",
       "      <td>4522.0</td>\n",
       "      <td>4648.0</td>\n",
       "      <td>...</td>\n",
       "      <td>4847.5</td>\n",
       "      <td>4886.0</td>\n",
       "      <td>4695.0</td>\n",
       "      <td>4965.0</td>\n",
       "      <td>4276.0</td>\n",
       "      <td>4920.0</td>\n",
       "      <td>5195.5</td>\n",
       "      <td>4746.5</td>\n",
       "      <td>4694.5</td>\n",
       "      <td>4777.5</td>\n",
       "    </tr>\n",
       "    <tr>\n",
       "      <th>VirMAL6</th>\n",
       "      <td>5137.0</td>\n",
       "      <td>5403.0</td>\n",
       "      <td>5189.5</td>\n",
       "      <td>4726.5</td>\n",
       "      <td>5030.5</td>\n",
       "      <td>5003.5</td>\n",
       "      <td>5060.5</td>\n",
       "      <td>4857.0</td>\n",
       "      <td>5211.0</td>\n",
       "      <td>5054.5</td>\n",
       "      <td>...</td>\n",
       "      <td>5248.5</td>\n",
       "      <td>5157.5</td>\n",
       "      <td>5099.5</td>\n",
       "      <td>4739.0</td>\n",
       "      <td>5166.5</td>\n",
       "      <td>4839.0</td>\n",
       "      <td>4744.0</td>\n",
       "      <td>5022.5</td>\n",
       "      <td>5018.0</td>\n",
       "      <td>4822.0</td>\n",
       "    </tr>\n",
       "    <tr>\n",
       "      <th>VirMAL7</th>\n",
       "      <td>4354.0</td>\n",
       "      <td>4769.5</td>\n",
       "      <td>4587.0</td>\n",
       "      <td>4613.0</td>\n",
       "      <td>4704.0</td>\n",
       "      <td>4799.0</td>\n",
       "      <td>4415.5</td>\n",
       "      <td>4214.0</td>\n",
       "      <td>4863.5</td>\n",
       "      <td>4792.5</td>\n",
       "      <td>...</td>\n",
       "      <td>4827.0</td>\n",
       "      <td>4937.5</td>\n",
       "      <td>4922.5</td>\n",
       "      <td>4725.0</td>\n",
       "      <td>4585.0</td>\n",
       "      <td>5074.5</td>\n",
       "      <td>4861.5</td>\n",
       "      <td>4941.5</td>\n",
       "      <td>4876.0</td>\n",
       "      <td>5082.0</td>\n",
       "    </tr>\n",
       "    <tr>\n",
       "      <th>VirMAL8</th>\n",
       "      <td>4963.5</td>\n",
       "      <td>5099.0</td>\n",
       "      <td>5075.5</td>\n",
       "      <td>5287.0</td>\n",
       "      <td>4821.5</td>\n",
       "      <td>5114.5</td>\n",
       "      <td>4960.0</td>\n",
       "      <td>5066.5</td>\n",
       "      <td>5261.5</td>\n",
       "      <td>5183.0</td>\n",
       "      <td>...</td>\n",
       "      <td>5052.0</td>\n",
       "      <td>4947.0</td>\n",
       "      <td>5377.0</td>\n",
       "      <td>5171.5</td>\n",
       "      <td>5086.0</td>\n",
       "      <td>5286.0</td>\n",
       "      <td>5348.5</td>\n",
       "      <td>5246.0</td>\n",
       "      <td>5380.0</td>\n",
       "      <td>5453.5</td>\n",
       "    </tr>\n",
       "    <tr>\n",
       "      <th>VirMAL9</th>\n",
       "      <td>4717.0</td>\n",
       "      <td>4835.0</td>\n",
       "      <td>4864.5</td>\n",
       "      <td>4824.5</td>\n",
       "      <td>4591.0</td>\n",
       "      <td>5011.0</td>\n",
       "      <td>4624.5</td>\n",
       "      <td>4765.0</td>\n",
       "      <td>4781.0</td>\n",
       "      <td>5036.5</td>\n",
       "      <td>...</td>\n",
       "      <td>5018.0</td>\n",
       "      <td>4885.0</td>\n",
       "      <td>5032.5</td>\n",
       "      <td>4770.0</td>\n",
       "      <td>4567.0</td>\n",
       "      <td>5006.0</td>\n",
       "      <td>5033.0</td>\n",
       "      <td>4910.5</td>\n",
       "      <td>4942.0</td>\n",
       "      <td>4851.0</td>\n",
       "    </tr>\n",
       "    <tr>\n",
       "      <th>VirSEA1</th>\n",
       "      <td>4883.0</td>\n",
       "      <td>4959.0</td>\n",
       "      <td>4801.5</td>\n",
       "      <td>4832.5</td>\n",
       "      <td>4808.5</td>\n",
       "      <td>4733.0</td>\n",
       "      <td>4734.0</td>\n",
       "      <td>4966.0</td>\n",
       "      <td>4823.0</td>\n",
       "      <td>4813.0</td>\n",
       "      <td>...</td>\n",
       "      <td>5091.5</td>\n",
       "      <td>5259.0</td>\n",
       "      <td>4540.5</td>\n",
       "      <td>5000.5</td>\n",
       "      <td>4768.5</td>\n",
       "      <td>4693.5</td>\n",
       "      <td>4882.0</td>\n",
       "      <td>4750.0</td>\n",
       "      <td>4675.5</td>\n",
       "      <td>4367.0</td>\n",
       "    </tr>\n",
       "    <tr>\n",
       "      <th>VirSEA10</th>\n",
       "      <td>4415.0</td>\n",
       "      <td>4418.0</td>\n",
       "      <td>4385.0</td>\n",
       "      <td>4638.5</td>\n",
       "      <td>4630.0</td>\n",
       "      <td>4711.5</td>\n",
       "      <td>4227.5</td>\n",
       "      <td>4554.0</td>\n",
       "      <td>4713.0</td>\n",
       "      <td>4571.5</td>\n",
       "      <td>...</td>\n",
       "      <td>4747.5</td>\n",
       "      <td>4916.0</td>\n",
       "      <td>4617.5</td>\n",
       "      <td>4874.5</td>\n",
       "      <td>4443.5</td>\n",
       "      <td>5028.0</td>\n",
       "      <td>4976.5</td>\n",
       "      <td>4931.0</td>\n",
       "      <td>4790.5</td>\n",
       "      <td>4883.0</td>\n",
       "    </tr>\n",
       "    <tr>\n",
       "      <th>VirSEA11</th>\n",
       "      <td>4903.0</td>\n",
       "      <td>4926.5</td>\n",
       "      <td>4952.0</td>\n",
       "      <td>4593.0</td>\n",
       "      <td>4729.5</td>\n",
       "      <td>4870.5</td>\n",
       "      <td>4498.0</td>\n",
       "      <td>4760.5</td>\n",
       "      <td>4835.5</td>\n",
       "      <td>4929.5</td>\n",
       "      <td>...</td>\n",
       "      <td>5025.0</td>\n",
       "      <td>5094.0</td>\n",
       "      <td>4877.0</td>\n",
       "      <td>4732.5</td>\n",
       "      <td>4766.5</td>\n",
       "      <td>4911.0</td>\n",
       "      <td>4872.5</td>\n",
       "      <td>4844.5</td>\n",
       "      <td>4821.5</td>\n",
       "      <td>4590.5</td>\n",
       "    </tr>\n",
       "    <tr>\n",
       "      <th>VirSEA12</th>\n",
       "      <td>5203.0</td>\n",
       "      <td>5234.0</td>\n",
       "      <td>5000.0</td>\n",
       "      <td>4897.5</td>\n",
       "      <td>4894.5</td>\n",
       "      <td>4950.0</td>\n",
       "      <td>5010.0</td>\n",
       "      <td>5041.0</td>\n",
       "      <td>5163.5</td>\n",
       "      <td>5097.0</td>\n",
       "      <td>...</td>\n",
       "      <td>5344.0</td>\n",
       "      <td>5160.5</td>\n",
       "      <td>4955.5</td>\n",
       "      <td>4970.0</td>\n",
       "      <td>5009.0</td>\n",
       "      <td>5027.0</td>\n",
       "      <td>4879.0</td>\n",
       "      <td>4999.0</td>\n",
       "      <td>4741.5</td>\n",
       "      <td>4613.0</td>\n",
       "    </tr>\n",
       "    <tr>\n",
       "      <th>VirSEA13</th>\n",
       "      <td>4995.0</td>\n",
       "      <td>5369.5</td>\n",
       "      <td>5118.5</td>\n",
       "      <td>4657.5</td>\n",
       "      <td>5151.0</td>\n",
       "      <td>5002.5</td>\n",
       "      <td>5028.5</td>\n",
       "      <td>4837.5</td>\n",
       "      <td>5064.5</td>\n",
       "      <td>5040.0</td>\n",
       "      <td>...</td>\n",
       "      <td>5211.0</td>\n",
       "      <td>5337.0</td>\n",
       "      <td>4937.5</td>\n",
       "      <td>4800.0</td>\n",
       "      <td>4941.0</td>\n",
       "      <td>4682.0</td>\n",
       "      <td>4611.5</td>\n",
       "      <td>4865.5</td>\n",
       "      <td>4634.5</td>\n",
       "      <td>4505.5</td>\n",
       "    </tr>\n",
       "    <tr>\n",
       "      <th>VirSEA14</th>\n",
       "      <td>4927.0</td>\n",
       "      <td>5153.5</td>\n",
       "      <td>4888.0</td>\n",
       "      <td>4884.0</td>\n",
       "      <td>4875.5</td>\n",
       "      <td>4803.5</td>\n",
       "      <td>4829.5</td>\n",
       "      <td>5031.5</td>\n",
       "      <td>5088.5</td>\n",
       "      <td>4804.5</td>\n",
       "      <td>...</td>\n",
       "      <td>5298.0</td>\n",
       "      <td>5253.0</td>\n",
       "      <td>4731.0</td>\n",
       "      <td>5232.0</td>\n",
       "      <td>4920.0</td>\n",
       "      <td>4721.5</td>\n",
       "      <td>4924.5</td>\n",
       "      <td>4792.5</td>\n",
       "      <td>4621.5</td>\n",
       "      <td>4501.0</td>\n",
       "    </tr>\n",
       "    <tr>\n",
       "      <th>...</th>\n",
       "      <td>...</td>\n",
       "      <td>...</td>\n",
       "      <td>...</td>\n",
       "      <td>...</td>\n",
       "      <td>...</td>\n",
       "      <td>...</td>\n",
       "      <td>...</td>\n",
       "      <td>...</td>\n",
       "      <td>...</td>\n",
       "      <td>...</td>\n",
       "      <td>...</td>\n",
       "      <td>...</td>\n",
       "      <td>...</td>\n",
       "      <td>...</td>\n",
       "      <td>...</td>\n",
       "      <td>...</td>\n",
       "      <td>...</td>\n",
       "      <td>...</td>\n",
       "      <td>...</td>\n",
       "      <td>...</td>\n",
       "      <td>...</td>\n",
       "    </tr>\n",
       "    <tr>\n",
       "      <th>VirSEA5</th>\n",
       "      <td>5081.5</td>\n",
       "      <td>5386.0</td>\n",
       "      <td>5116.0</td>\n",
       "      <td>4710.5</td>\n",
       "      <td>5065.0</td>\n",
       "      <td>4894.5</td>\n",
       "      <td>5027.0</td>\n",
       "      <td>4753.5</td>\n",
       "      <td>5142.5</td>\n",
       "      <td>4984.0</td>\n",
       "      <td>...</td>\n",
       "      <td>5145.5</td>\n",
       "      <td>5239.5</td>\n",
       "      <td>4977.5</td>\n",
       "      <td>4838.5</td>\n",
       "      <td>5037.5</td>\n",
       "      <td>4649.0</td>\n",
       "      <td>4720.0</td>\n",
       "      <td>4930.5</td>\n",
       "      <td>4804.5</td>\n",
       "      <td>4620.0</td>\n",
       "    </tr>\n",
       "    <tr>\n",
       "      <th>VirSEA6</th>\n",
       "      <td>4965.0</td>\n",
       "      <td>5322.5</td>\n",
       "      <td>5049.5</td>\n",
       "      <td>4749.0</td>\n",
       "      <td>4894.0</td>\n",
       "      <td>4969.0</td>\n",
       "      <td>4928.5</td>\n",
       "      <td>4842.5</td>\n",
       "      <td>4995.5</td>\n",
       "      <td>5075.5</td>\n",
       "      <td>...</td>\n",
       "      <td>5103.5</td>\n",
       "      <td>5144.0</td>\n",
       "      <td>4900.5</td>\n",
       "      <td>4699.5</td>\n",
       "      <td>4874.0</td>\n",
       "      <td>4807.5</td>\n",
       "      <td>4776.5</td>\n",
       "      <td>4875.5</td>\n",
       "      <td>4799.0</td>\n",
       "      <td>4581.5</td>\n",
       "    </tr>\n",
       "    <tr>\n",
       "      <th>VirSEA7</th>\n",
       "      <td>5281.5</td>\n",
       "      <td>5350.0</td>\n",
       "      <td>5177.5</td>\n",
       "      <td>4854.5</td>\n",
       "      <td>5225.0</td>\n",
       "      <td>5055.5</td>\n",
       "      <td>5059.0</td>\n",
       "      <td>5159.5</td>\n",
       "      <td>5087.0</td>\n",
       "      <td>5132.0</td>\n",
       "      <td>...</td>\n",
       "      <td>5257.0</td>\n",
       "      <td>5197.0</td>\n",
       "      <td>5005.0</td>\n",
       "      <td>4705.0</td>\n",
       "      <td>5082.0</td>\n",
       "      <td>4786.5</td>\n",
       "      <td>4742.5</td>\n",
       "      <td>5081.5</td>\n",
       "      <td>4909.0</td>\n",
       "      <td>4622.5</td>\n",
       "    </tr>\n",
       "    <tr>\n",
       "      <th>VirSEA8</th>\n",
       "      <td>5253.0</td>\n",
       "      <td>5422.0</td>\n",
       "      <td>5209.0</td>\n",
       "      <td>4983.5</td>\n",
       "      <td>5163.5</td>\n",
       "      <td>5270.5</td>\n",
       "      <td>5211.0</td>\n",
       "      <td>5053.5</td>\n",
       "      <td>5254.5</td>\n",
       "      <td>5285.5</td>\n",
       "      <td>...</td>\n",
       "      <td>5300.5</td>\n",
       "      <td>5325.0</td>\n",
       "      <td>5227.5</td>\n",
       "      <td>4887.5</td>\n",
       "      <td>5178.0</td>\n",
       "      <td>5177.5</td>\n",
       "      <td>4736.0</td>\n",
       "      <td>5097.5</td>\n",
       "      <td>4912.5</td>\n",
       "      <td>4944.5</td>\n",
       "    </tr>\n",
       "    <tr>\n",
       "      <th>VirSEA9</th>\n",
       "      <td>5194.5</td>\n",
       "      <td>5255.5</td>\n",
       "      <td>5018.0</td>\n",
       "      <td>4905.0</td>\n",
       "      <td>5157.5</td>\n",
       "      <td>4999.5</td>\n",
       "      <td>4959.5</td>\n",
       "      <td>5048.0</td>\n",
       "      <td>5278.0</td>\n",
       "      <td>5067.0</td>\n",
       "      <td>...</td>\n",
       "      <td>4970.5</td>\n",
       "      <td>5154.5</td>\n",
       "      <td>5164.0</td>\n",
       "      <td>4943.5</td>\n",
       "      <td>5199.0</td>\n",
       "      <td>4726.5</td>\n",
       "      <td>4679.5</td>\n",
       "      <td>5135.5</td>\n",
       "      <td>4838.5</td>\n",
       "      <td>5030.0</td>\n",
       "    </tr>\n",
       "    <tr>\n",
       "      <th>VirSWA10</th>\n",
       "      <td>5173.0</td>\n",
       "      <td>5188.5</td>\n",
       "      <td>5173.0</td>\n",
       "      <td>4984.0</td>\n",
       "      <td>5030.0</td>\n",
       "      <td>5010.5</td>\n",
       "      <td>5010.0</td>\n",
       "      <td>5331.5</td>\n",
       "      <td>4994.5</td>\n",
       "      <td>5190.0</td>\n",
       "      <td>...</td>\n",
       "      <td>4883.0</td>\n",
       "      <td>5075.5</td>\n",
       "      <td>4840.5</td>\n",
       "      <td>4874.0</td>\n",
       "      <td>5030.5</td>\n",
       "      <td>4993.5</td>\n",
       "      <td>4799.0</td>\n",
       "      <td>4887.5</td>\n",
       "      <td>4841.0</td>\n",
       "      <td>4736.5</td>\n",
       "    </tr>\n",
       "    <tr>\n",
       "      <th>VirSWA11</th>\n",
       "      <td>4936.0</td>\n",
       "      <td>5122.0</td>\n",
       "      <td>4903.5</td>\n",
       "      <td>4850.5</td>\n",
       "      <td>4926.0</td>\n",
       "      <td>4968.0</td>\n",
       "      <td>4912.0</td>\n",
       "      <td>4822.5</td>\n",
       "      <td>4917.0</td>\n",
       "      <td>5036.5</td>\n",
       "      <td>...</td>\n",
       "      <td>5001.5</td>\n",
       "      <td>5020.0</td>\n",
       "      <td>4800.0</td>\n",
       "      <td>4674.5</td>\n",
       "      <td>4843.5</td>\n",
       "      <td>4710.0</td>\n",
       "      <td>4690.0</td>\n",
       "      <td>4789.5</td>\n",
       "      <td>4819.0</td>\n",
       "      <td>4713.5</td>\n",
       "    </tr>\n",
       "    <tr>\n",
       "      <th>VirSWA12</th>\n",
       "      <td>4940.0</td>\n",
       "      <td>4926.5</td>\n",
       "      <td>4785.0</td>\n",
       "      <td>4819.5</td>\n",
       "      <td>4772.5</td>\n",
       "      <td>4711.5</td>\n",
       "      <td>4773.0</td>\n",
       "      <td>5099.5</td>\n",
       "      <td>4928.0</td>\n",
       "      <td>4858.5</td>\n",
       "      <td>...</td>\n",
       "      <td>4829.0</td>\n",
       "      <td>5064.0</td>\n",
       "      <td>4629.0</td>\n",
       "      <td>4843.0</td>\n",
       "      <td>4857.5</td>\n",
       "      <td>4737.0</td>\n",
       "      <td>4912.0</td>\n",
       "      <td>4775.0</td>\n",
       "      <td>4687.0</td>\n",
       "      <td>4537.5</td>\n",
       "    </tr>\n",
       "    <tr>\n",
       "      <th>VirSWA13</th>\n",
       "      <td>4910.0</td>\n",
       "      <td>5153.5</td>\n",
       "      <td>5059.0</td>\n",
       "      <td>4974.0</td>\n",
       "      <td>4788.5</td>\n",
       "      <td>4817.0</td>\n",
       "      <td>4805.0</td>\n",
       "      <td>5177.5</td>\n",
       "      <td>4913.0</td>\n",
       "      <td>4972.5</td>\n",
       "      <td>...</td>\n",
       "      <td>4859.0</td>\n",
       "      <td>4975.5</td>\n",
       "      <td>4788.0</td>\n",
       "      <td>4968.5</td>\n",
       "      <td>4760.5</td>\n",
       "      <td>4534.0</td>\n",
       "      <td>5022.0</td>\n",
       "      <td>4607.5</td>\n",
       "      <td>4792.5</td>\n",
       "      <td>4632.5</td>\n",
       "    </tr>\n",
       "    <tr>\n",
       "      <th>VirSWA14</th>\n",
       "      <td>4766.0</td>\n",
       "      <td>5079.0</td>\n",
       "      <td>4970.5</td>\n",
       "      <td>4855.5</td>\n",
       "      <td>4928.5</td>\n",
       "      <td>4708.0</td>\n",
       "      <td>4834.5</td>\n",
       "      <td>5053.0</td>\n",
       "      <td>4840.0</td>\n",
       "      <td>4958.5</td>\n",
       "      <td>...</td>\n",
       "      <td>4987.5</td>\n",
       "      <td>5113.0</td>\n",
       "      <td>4715.5</td>\n",
       "      <td>5005.5</td>\n",
       "      <td>4626.5</td>\n",
       "      <td>4804.0</td>\n",
       "      <td>5118.0</td>\n",
       "      <td>4687.0</td>\n",
       "      <td>4667.0</td>\n",
       "      <td>4579.5</td>\n",
       "    </tr>\n",
       "    <tr>\n",
       "      <th>VirSWA15</th>\n",
       "      <td>5011.0</td>\n",
       "      <td>5121.0</td>\n",
       "      <td>5257.5</td>\n",
       "      <td>5033.0</td>\n",
       "      <td>4630.0</td>\n",
       "      <td>4685.0</td>\n",
       "      <td>4944.0</td>\n",
       "      <td>5408.0</td>\n",
       "      <td>4900.0</td>\n",
       "      <td>4937.0</td>\n",
       "      <td>...</td>\n",
       "      <td>5155.5</td>\n",
       "      <td>5070.5</td>\n",
       "      <td>4801.5</td>\n",
       "      <td>5160.5</td>\n",
       "      <td>5003.0</td>\n",
       "      <td>4721.0</td>\n",
       "      <td>5136.5</td>\n",
       "      <td>4669.0</td>\n",
       "      <td>4722.5</td>\n",
       "      <td>4428.5</td>\n",
       "    </tr>\n",
       "    <tr>\n",
       "      <th>VirSWA16</th>\n",
       "      <td>4862.0</td>\n",
       "      <td>4882.5</td>\n",
       "      <td>4744.5</td>\n",
       "      <td>4518.5</td>\n",
       "      <td>4718.0</td>\n",
       "      <td>4651.0</td>\n",
       "      <td>4569.5</td>\n",
       "      <td>4877.0</td>\n",
       "      <td>4869.5</td>\n",
       "      <td>4766.5</td>\n",
       "      <td>...</td>\n",
       "      <td>4665.5</td>\n",
       "      <td>4888.5</td>\n",
       "      <td>4718.0</td>\n",
       "      <td>4718.0</td>\n",
       "      <td>4556.0</td>\n",
       "      <td>4548.0</td>\n",
       "      <td>4611.5</td>\n",
       "      <td>4620.5</td>\n",
       "      <td>4570.5</td>\n",
       "      <td>4385.0</td>\n",
       "    </tr>\n",
       "    <tr>\n",
       "      <th>VirSWA17</th>\n",
       "      <td>4549.0</td>\n",
       "      <td>4852.5</td>\n",
       "      <td>4708.0</td>\n",
       "      <td>4530.5</td>\n",
       "      <td>4564.0</td>\n",
       "      <td>4545.5</td>\n",
       "      <td>4420.0</td>\n",
       "      <td>4894.0</td>\n",
       "      <td>4797.0</td>\n",
       "      <td>4651.5</td>\n",
       "      <td>...</td>\n",
       "      <td>4718.5</td>\n",
       "      <td>4887.5</td>\n",
       "      <td>4599.0</td>\n",
       "      <td>4716.0</td>\n",
       "      <td>4376.0</td>\n",
       "      <td>4318.0</td>\n",
       "      <td>4723.5</td>\n",
       "      <td>4509.5</td>\n",
       "      <td>4389.5</td>\n",
       "      <td>4242.0</td>\n",
       "    </tr>\n",
       "    <tr>\n",
       "      <th>VirSWA18</th>\n",
       "      <td>4911.5</td>\n",
       "      <td>4859.0</td>\n",
       "      <td>4852.0</td>\n",
       "      <td>4855.0</td>\n",
       "      <td>4944.5</td>\n",
       "      <td>4711.0</td>\n",
       "      <td>4849.0</td>\n",
       "      <td>5094.0</td>\n",
       "      <td>5036.5</td>\n",
       "      <td>4780.0</td>\n",
       "      <td>...</td>\n",
       "      <td>5025.5</td>\n",
       "      <td>5082.5</td>\n",
       "      <td>4589.5</td>\n",
       "      <td>5206.0</td>\n",
       "      <td>4779.0</td>\n",
       "      <td>4787.5</td>\n",
       "      <td>5021.5</td>\n",
       "      <td>4807.0</td>\n",
       "      <td>4829.5</td>\n",
       "      <td>4700.5</td>\n",
       "    </tr>\n",
       "    <tr>\n",
       "      <th>VirSWA19</th>\n",
       "      <td>4850.5</td>\n",
       "      <td>5207.0</td>\n",
       "      <td>5023.0</td>\n",
       "      <td>4935.5</td>\n",
       "      <td>4744.5</td>\n",
       "      <td>4782.0</td>\n",
       "      <td>4903.0</td>\n",
       "      <td>5081.5</td>\n",
       "      <td>4924.0</td>\n",
       "      <td>4849.0</td>\n",
       "      <td>...</td>\n",
       "      <td>5177.5</td>\n",
       "      <td>5194.0</td>\n",
       "      <td>4741.5</td>\n",
       "      <td>5094.0</td>\n",
       "      <td>4787.0</td>\n",
       "      <td>4658.0</td>\n",
       "      <td>5064.0</td>\n",
       "      <td>4550.5</td>\n",
       "      <td>4601.0</td>\n",
       "      <td>4407.0</td>\n",
       "    </tr>\n",
       "    <tr>\n",
       "      <th>VirSWA20</th>\n",
       "      <td>4693.5</td>\n",
       "      <td>4872.0</td>\n",
       "      <td>4669.5</td>\n",
       "      <td>4600.0</td>\n",
       "      <td>4881.0</td>\n",
       "      <td>4703.0</td>\n",
       "      <td>4664.0</td>\n",
       "      <td>4752.0</td>\n",
       "      <td>5174.5</td>\n",
       "      <td>4703.5</td>\n",
       "      <td>...</td>\n",
       "      <td>4733.0</td>\n",
       "      <td>4913.5</td>\n",
       "      <td>4651.0</td>\n",
       "      <td>4903.5</td>\n",
       "      <td>4582.0</td>\n",
       "      <td>4639.0</td>\n",
       "      <td>4718.5</td>\n",
       "      <td>4843.5</td>\n",
       "      <td>4601.5</td>\n",
       "      <td>4737.0</td>\n",
       "    </tr>\n",
       "    <tr>\n",
       "      <th>VirSWA21</th>\n",
       "      <td>4988.0</td>\n",
       "      <td>5021.5</td>\n",
       "      <td>4967.0</td>\n",
       "      <td>4885.5</td>\n",
       "      <td>4797.5</td>\n",
       "      <td>4730.0</td>\n",
       "      <td>4752.0</td>\n",
       "      <td>5248.5</td>\n",
       "      <td>4994.0</td>\n",
       "      <td>4930.5</td>\n",
       "      <td>...</td>\n",
       "      <td>4807.5</td>\n",
       "      <td>4980.5</td>\n",
       "      <td>4840.5</td>\n",
       "      <td>4936.5</td>\n",
       "      <td>4834.5</td>\n",
       "      <td>4600.0</td>\n",
       "      <td>4930.0</td>\n",
       "      <td>4781.0</td>\n",
       "      <td>4766.0</td>\n",
       "      <td>4579.0</td>\n",
       "    </tr>\n",
       "    <tr>\n",
       "      <th>VirSWA22</th>\n",
       "      <td>5126.5</td>\n",
       "      <td>5293.0</td>\n",
       "      <td>5067.0</td>\n",
       "      <td>4885.0</td>\n",
       "      <td>5082.5</td>\n",
       "      <td>5033.0</td>\n",
       "      <td>5050.5</td>\n",
       "      <td>5212.5</td>\n",
       "      <td>5074.5</td>\n",
       "      <td>5163.5</td>\n",
       "      <td>...</td>\n",
       "      <td>5052.0</td>\n",
       "      <td>5184.5</td>\n",
       "      <td>4956.0</td>\n",
       "      <td>4812.0</td>\n",
       "      <td>5020.0</td>\n",
       "      <td>4836.5</td>\n",
       "      <td>4820.0</td>\n",
       "      <td>4970.5</td>\n",
       "      <td>4844.5</td>\n",
       "      <td>4689.0</td>\n",
       "    </tr>\n",
       "    <tr>\n",
       "      <th>VirSWA23</th>\n",
       "      <td>4925.0</td>\n",
       "      <td>5009.0</td>\n",
       "      <td>4993.5</td>\n",
       "      <td>4889.5</td>\n",
       "      <td>4774.5</td>\n",
       "      <td>4627.5</td>\n",
       "      <td>4776.5</td>\n",
       "      <td>5069.0</td>\n",
       "      <td>5147.0</td>\n",
       "      <td>4858.5</td>\n",
       "      <td>...</td>\n",
       "      <td>5042.0</td>\n",
       "      <td>4919.0</td>\n",
       "      <td>4739.5</td>\n",
       "      <td>5150.5</td>\n",
       "      <td>4842.0</td>\n",
       "      <td>4699.5</td>\n",
       "      <td>5075.0</td>\n",
       "      <td>4699.5</td>\n",
       "      <td>4777.5</td>\n",
       "      <td>4665.5</td>\n",
       "    </tr>\n",
       "    <tr>\n",
       "      <th>VirSWA24</th>\n",
       "      <td>4988.0</td>\n",
       "      <td>5279.0</td>\n",
       "      <td>4984.0</td>\n",
       "      <td>4740.5</td>\n",
       "      <td>5012.0</td>\n",
       "      <td>4845.0</td>\n",
       "      <td>4861.5</td>\n",
       "      <td>4874.0</td>\n",
       "      <td>5109.0</td>\n",
       "      <td>4894.0</td>\n",
       "      <td>...</td>\n",
       "      <td>4860.5</td>\n",
       "      <td>5107.0</td>\n",
       "      <td>4940.5</td>\n",
       "      <td>4763.0</td>\n",
       "      <td>4870.5</td>\n",
       "      <td>4411.0</td>\n",
       "      <td>4614.5</td>\n",
       "      <td>4793.0</td>\n",
       "      <td>4797.0</td>\n",
       "      <td>4672.5</td>\n",
       "    </tr>\n",
       "    <tr>\n",
       "      <th>VirSWA25</th>\n",
       "      <td>4726.5</td>\n",
       "      <td>4908.0</td>\n",
       "      <td>4883.0</td>\n",
       "      <td>4960.0</td>\n",
       "      <td>4819.5</td>\n",
       "      <td>4924.0</td>\n",
       "      <td>4671.5</td>\n",
       "      <td>4875.5</td>\n",
       "      <td>4895.0</td>\n",
       "      <td>5064.0</td>\n",
       "      <td>...</td>\n",
       "      <td>2398.5</td>\n",
       "      <td>4833.0</td>\n",
       "      <td>5094.0</td>\n",
       "      <td>4836.5</td>\n",
       "      <td>4793.5</td>\n",
       "      <td>4745.5</td>\n",
       "      <td>4905.0</td>\n",
       "      <td>4887.0</td>\n",
       "      <td>5051.5</td>\n",
       "      <td>5191.5</td>\n",
       "    </tr>\n",
       "    <tr>\n",
       "      <th>VirSWA26</th>\n",
       "      <td>4855.0</td>\n",
       "      <td>4933.5</td>\n",
       "      <td>4863.5</td>\n",
       "      <td>5032.0</td>\n",
       "      <td>4740.5</td>\n",
       "      <td>4885.5</td>\n",
       "      <td>4694.5</td>\n",
       "      <td>5005.0</td>\n",
       "      <td>5013.5</td>\n",
       "      <td>5103.5</td>\n",
       "      <td>...</td>\n",
       "      <td>4833.0</td>\n",
       "      <td>2514.0</td>\n",
       "      <td>4963.5</td>\n",
       "      <td>4797.0</td>\n",
       "      <td>4719.0</td>\n",
       "      <td>5008.0</td>\n",
       "      <td>5051.0</td>\n",
       "      <td>5097.5</td>\n",
       "      <td>5064.5</td>\n",
       "      <td>5068.0</td>\n",
       "    </tr>\n",
       "    <tr>\n",
       "      <th>VirSWA27</th>\n",
       "      <td>4796.0</td>\n",
       "      <td>4824.0</td>\n",
       "      <td>4808.0</td>\n",
       "      <td>4845.5</td>\n",
       "      <td>4687.0</td>\n",
       "      <td>4725.0</td>\n",
       "      <td>4711.0</td>\n",
       "      <td>4933.0</td>\n",
       "      <td>4923.0</td>\n",
       "      <td>4863.0</td>\n",
       "      <td>...</td>\n",
       "      <td>5094.0</td>\n",
       "      <td>4963.5</td>\n",
       "      <td>2476.5</td>\n",
       "      <td>5003.0</td>\n",
       "      <td>4595.5</td>\n",
       "      <td>4793.0</td>\n",
       "      <td>4989.0</td>\n",
       "      <td>4668.0</td>\n",
       "      <td>4689.5</td>\n",
       "      <td>4611.0</td>\n",
       "    </tr>\n",
       "    <tr>\n",
       "      <th>VirSWA3</th>\n",
       "      <td>4844.5</td>\n",
       "      <td>5016.0</td>\n",
       "      <td>4914.0</td>\n",
       "      <td>4828.5</td>\n",
       "      <td>4799.0</td>\n",
       "      <td>5029.5</td>\n",
       "      <td>4671.0</td>\n",
       "      <td>4775.0</td>\n",
       "      <td>4961.5</td>\n",
       "      <td>5076.0</td>\n",
       "      <td>...</td>\n",
       "      <td>4836.5</td>\n",
       "      <td>4797.0</td>\n",
       "      <td>5003.0</td>\n",
       "      <td>2243.5</td>\n",
       "      <td>4724.5</td>\n",
       "      <td>4948.5</td>\n",
       "      <td>4647.0</td>\n",
       "      <td>5052.0</td>\n",
       "      <td>5069.5</td>\n",
       "      <td>4879.5</td>\n",
       "    </tr>\n",
       "    <tr>\n",
       "      <th>VirSWA4</th>\n",
       "      <td>4375.0</td>\n",
       "      <td>4662.5</td>\n",
       "      <td>4568.0</td>\n",
       "      <td>4702.0</td>\n",
       "      <td>4483.5</td>\n",
       "      <td>4641.5</td>\n",
       "      <td>4388.5</td>\n",
       "      <td>4585.0</td>\n",
       "      <td>4523.5</td>\n",
       "      <td>4896.5</td>\n",
       "      <td>...</td>\n",
       "      <td>4793.5</td>\n",
       "      <td>4719.0</td>\n",
       "      <td>4595.5</td>\n",
       "      <td>4724.5</td>\n",
       "      <td>2130.0</td>\n",
       "      <td>4874.5</td>\n",
       "      <td>5062.0</td>\n",
       "      <td>4524.5</td>\n",
       "      <td>4645.5</td>\n",
       "      <td>4581.0</td>\n",
       "    </tr>\n",
       "    <tr>\n",
       "      <th>VirSWA5</th>\n",
       "      <td>4943.0</td>\n",
       "      <td>5262.5</td>\n",
       "      <td>4970.0</td>\n",
       "      <td>4710.5</td>\n",
       "      <td>4883.5</td>\n",
       "      <td>4678.0</td>\n",
       "      <td>4760.5</td>\n",
       "      <td>5100.0</td>\n",
       "      <td>5213.0</td>\n",
       "      <td>4827.5</td>\n",
       "      <td>...</td>\n",
       "      <td>4745.5</td>\n",
       "      <td>5008.0</td>\n",
       "      <td>4793.0</td>\n",
       "      <td>4948.5</td>\n",
       "      <td>4874.5</td>\n",
       "      <td>2042.0</td>\n",
       "      <td>4670.0</td>\n",
       "      <td>4645.0</td>\n",
       "      <td>4615.0</td>\n",
       "      <td>4599.0</td>\n",
       "    </tr>\n",
       "    <tr>\n",
       "      <th>VirSWA6</th>\n",
       "      <td>5100.5</td>\n",
       "      <td>5260.5</td>\n",
       "      <td>5027.0</td>\n",
       "      <td>4798.5</td>\n",
       "      <td>5107.5</td>\n",
       "      <td>5027.0</td>\n",
       "      <td>4934.0</td>\n",
       "      <td>4960.5</td>\n",
       "      <td>5201.5</td>\n",
       "      <td>5027.0</td>\n",
       "      <td>...</td>\n",
       "      <td>4905.0</td>\n",
       "      <td>5051.0</td>\n",
       "      <td>4989.0</td>\n",
       "      <td>4647.0</td>\n",
       "      <td>5062.0</td>\n",
       "      <td>4670.0</td>\n",
       "      <td>2535.5</td>\n",
       "      <td>5010.5</td>\n",
       "      <td>4820.5</td>\n",
       "      <td>4882.5</td>\n",
       "    </tr>\n",
       "    <tr>\n",
       "      <th>VirSWA7</th>\n",
       "      <td>4822.5</td>\n",
       "      <td>5110.0</td>\n",
       "      <td>4995.5</td>\n",
       "      <td>5006.0</td>\n",
       "      <td>4484.0</td>\n",
       "      <td>4798.0</td>\n",
       "      <td>4842.0</td>\n",
       "      <td>4990.0</td>\n",
       "      <td>4824.0</td>\n",
       "      <td>5029.0</td>\n",
       "      <td>...</td>\n",
       "      <td>4887.0</td>\n",
       "      <td>5097.5</td>\n",
       "      <td>4668.0</td>\n",
       "      <td>5052.0</td>\n",
       "      <td>4524.5</td>\n",
       "      <td>4645.0</td>\n",
       "      <td>5010.5</td>\n",
       "      <td>2384.0</td>\n",
       "      <td>4733.5</td>\n",
       "      <td>4572.5</td>\n",
       "    </tr>\n",
       "    <tr>\n",
       "      <th>VirSWA8</th>\n",
       "      <td>4680.5</td>\n",
       "      <td>5012.5</td>\n",
       "      <td>4912.0</td>\n",
       "      <td>4707.0</td>\n",
       "      <td>4619.5</td>\n",
       "      <td>4637.5</td>\n",
       "      <td>4657.0</td>\n",
       "      <td>4997.5</td>\n",
       "      <td>4863.0</td>\n",
       "      <td>4814.0</td>\n",
       "      <td>...</td>\n",
       "      <td>5051.5</td>\n",
       "      <td>5064.5</td>\n",
       "      <td>4689.5</td>\n",
       "      <td>5069.5</td>\n",
       "      <td>4645.5</td>\n",
       "      <td>4615.0</td>\n",
       "      <td>4820.5</td>\n",
       "      <td>4733.5</td>\n",
       "      <td>2471.0</td>\n",
       "      <td>4398.0</td>\n",
       "    </tr>\n",
       "    <tr>\n",
       "      <th>VirSWA9</th>\n",
       "      <td>4884.0</td>\n",
       "      <td>5118.0</td>\n",
       "      <td>5025.0</td>\n",
       "      <td>4644.5</td>\n",
       "      <td>4599.5</td>\n",
       "      <td>4638.0</td>\n",
       "      <td>4621.0</td>\n",
       "      <td>5076.5</td>\n",
       "      <td>4780.0</td>\n",
       "      <td>4768.5</td>\n",
       "      <td>...</td>\n",
       "      <td>5191.5</td>\n",
       "      <td>5068.0</td>\n",
       "      <td>4611.0</td>\n",
       "      <td>4879.5</td>\n",
       "      <td>4581.0</td>\n",
       "      <td>4599.0</td>\n",
       "      <td>4882.5</td>\n",
       "      <td>4572.5</td>\n",
       "      <td>4398.0</td>\n",
       "      <td>2192.5</td>\n",
       "    </tr>\n",
       "  </tbody>\n",
       "</table>\n",
       "<p>73 rows × 73 columns</p>\n",
       "</div>"
      ],
      "text/plain": [
       "          VirMAL1  VirMAL10  VirMAL11  VirMAL12  VirMAL13  VirMAL14  VirMAL15  \\\n",
       "VirMAL1    2207.0    4566.5    4506.0    4765.0    4441.0    4508.5    4269.5   \n",
       "VirMAL10   4566.5    2616.0    4578.0    4878.0    4647.0    4757.0    4374.0   \n",
       "VirMAL11   4506.0    4578.0    2581.5    4784.0    4685.5    4701.0    4408.5   \n",
       "VirMAL12   4765.0    4878.0    4784.0    2431.5    4879.5    4658.5    4517.5   \n",
       "VirMAL13   4441.0    4647.0    4685.5    4879.5    2079.5    4530.5    4367.5   \n",
       "VirMAL14   4508.5    4757.0    4701.0    4658.5    4530.5    2474.5    4429.5   \n",
       "VirMAL15   4269.5    4374.0    4408.5    4517.5    4367.5    4429.5    2227.0   \n",
       "VirMAL16   4434.0    4888.0    4653.0    4715.5    4735.5    4928.5    4534.5   \n",
       "VirMAL17   4533.0    4783.5    4869.5    5001.5    4522.0    4840.5    4641.0   \n",
       "VirMAL18   4570.0    4649.0    4693.5    4725.5    4726.0    4512.0    4352.0   \n",
       "VirMAL19   4381.0    4636.5    4828.0    5039.0    4474.0    4760.0    4516.5   \n",
       "VirMAL2    4406.5    4434.0    4288.0    4783.5    4451.5    4528.0    4226.0   \n",
       "VirMAL20   4418.0    4673.0    4836.5    5034.0    4524.5    4814.0    4564.0   \n",
       "VirMAL21   4609.0    4959.0    4757.0    4764.0    4506.0    4589.5    4567.0   \n",
       "VirMAL22   4311.5    4478.5    4593.5    4771.0    4554.0    4584.5    4385.5   \n",
       "VirMAL23   4199.0    4664.0    4349.5    4583.0    4597.5    4561.5    4202.0   \n",
       "VirMAL24   4565.0    4420.5    4622.5    4633.5    4741.0    4523.0    4456.0   \n",
       "VirMAL3    4609.0    4905.5    4705.5    4836.0    4676.5    4642.5    4657.5   \n",
       "VirMAL4    4110.0    4522.5    4448.0    4644.0    4413.5    4369.5    4198.0   \n",
       "VirMAL5    4207.5    4638.0    4494.0    4732.0    4403.5    4585.0    4358.5   \n",
       "VirMAL6    5137.0    5403.0    5189.5    4726.5    5030.5    5003.5    5060.5   \n",
       "VirMAL7    4354.0    4769.5    4587.0    4613.0    4704.0    4799.0    4415.5   \n",
       "VirMAL8    4963.5    5099.0    5075.5    5287.0    4821.5    5114.5    4960.0   \n",
       "VirMAL9    4717.0    4835.0    4864.5    4824.5    4591.0    5011.0    4624.5   \n",
       "VirSEA1    4883.0    4959.0    4801.5    4832.5    4808.5    4733.0    4734.0   \n",
       "VirSEA10   4415.0    4418.0    4385.0    4638.5    4630.0    4711.5    4227.5   \n",
       "VirSEA11   4903.0    4926.5    4952.0    4593.0    4729.5    4870.5    4498.0   \n",
       "VirSEA12   5203.0    5234.0    5000.0    4897.5    4894.5    4950.0    5010.0   \n",
       "VirSEA13   4995.0    5369.5    5118.5    4657.5    5151.0    5002.5    5028.5   \n",
       "VirSEA14   4927.0    5153.5    4888.0    4884.0    4875.5    4803.5    4829.5   \n",
       "...           ...       ...       ...       ...       ...       ...       ...   \n",
       "VirSEA5    5081.5    5386.0    5116.0    4710.5    5065.0    4894.5    5027.0   \n",
       "VirSEA6    4965.0    5322.5    5049.5    4749.0    4894.0    4969.0    4928.5   \n",
       "VirSEA7    5281.5    5350.0    5177.5    4854.5    5225.0    5055.5    5059.0   \n",
       "VirSEA8    5253.0    5422.0    5209.0    4983.5    5163.5    5270.5    5211.0   \n",
       "VirSEA9    5194.5    5255.5    5018.0    4905.0    5157.5    4999.5    4959.5   \n",
       "VirSWA10   5173.0    5188.5    5173.0    4984.0    5030.0    5010.5    5010.0   \n",
       "VirSWA11   4936.0    5122.0    4903.5    4850.5    4926.0    4968.0    4912.0   \n",
       "VirSWA12   4940.0    4926.5    4785.0    4819.5    4772.5    4711.5    4773.0   \n",
       "VirSWA13   4910.0    5153.5    5059.0    4974.0    4788.5    4817.0    4805.0   \n",
       "VirSWA14   4766.0    5079.0    4970.5    4855.5    4928.5    4708.0    4834.5   \n",
       "VirSWA15   5011.0    5121.0    5257.5    5033.0    4630.0    4685.0    4944.0   \n",
       "VirSWA16   4862.0    4882.5    4744.5    4518.5    4718.0    4651.0    4569.5   \n",
       "VirSWA17   4549.0    4852.5    4708.0    4530.5    4564.0    4545.5    4420.0   \n",
       "VirSWA18   4911.5    4859.0    4852.0    4855.0    4944.5    4711.0    4849.0   \n",
       "VirSWA19   4850.5    5207.0    5023.0    4935.5    4744.5    4782.0    4903.0   \n",
       "VirSWA20   4693.5    4872.0    4669.5    4600.0    4881.0    4703.0    4664.0   \n",
       "VirSWA21   4988.0    5021.5    4967.0    4885.5    4797.5    4730.0    4752.0   \n",
       "VirSWA22   5126.5    5293.0    5067.0    4885.0    5082.5    5033.0    5050.5   \n",
       "VirSWA23   4925.0    5009.0    4993.5    4889.5    4774.5    4627.5    4776.5   \n",
       "VirSWA24   4988.0    5279.0    4984.0    4740.5    5012.0    4845.0    4861.5   \n",
       "VirSWA25   4726.5    4908.0    4883.0    4960.0    4819.5    4924.0    4671.5   \n",
       "VirSWA26   4855.0    4933.5    4863.5    5032.0    4740.5    4885.5    4694.5   \n",
       "VirSWA27   4796.0    4824.0    4808.0    4845.5    4687.0    4725.0    4711.0   \n",
       "VirSWA3    4844.5    5016.0    4914.0    4828.5    4799.0    5029.5    4671.0   \n",
       "VirSWA4    4375.0    4662.5    4568.0    4702.0    4483.5    4641.5    4388.5   \n",
       "VirSWA5    4943.0    5262.5    4970.0    4710.5    4883.5    4678.0    4760.5   \n",
       "VirSWA6    5100.5    5260.5    5027.0    4798.5    5107.5    5027.0    4934.0   \n",
       "VirSWA7    4822.5    5110.0    4995.5    5006.0    4484.0    4798.0    4842.0   \n",
       "VirSWA8    4680.5    5012.5    4912.0    4707.0    4619.5    4637.5    4657.0   \n",
       "VirSWA9    4884.0    5118.0    5025.0    4644.5    4599.5    4638.0    4621.0   \n",
       "\n",
       "          VirMAL16  VirMAL17  VirMAL18   ...     VirSWA25  VirSWA26  VirSWA27  \\\n",
       "VirMAL1     4434.0    4533.0    4570.0   ...       4726.5    4855.0    4796.0   \n",
       "VirMAL10    4888.0    4783.5    4649.0   ...       4908.0    4933.5    4824.0   \n",
       "VirMAL11    4653.0    4869.5    4693.5   ...       4883.0    4863.5    4808.0   \n",
       "VirMAL12    4715.5    5001.5    4725.5   ...       4960.0    5032.0    4845.5   \n",
       "VirMAL13    4735.5    4522.0    4726.0   ...       4819.5    4740.5    4687.0   \n",
       "VirMAL14    4928.5    4840.5    4512.0   ...       4924.0    4885.5    4725.0   \n",
       "VirMAL15    4534.5    4641.0    4352.0   ...       4671.5    4694.5    4711.0   \n",
       "VirMAL16    2340.5    4915.5    4906.0   ...       4875.5    5005.0    4933.0   \n",
       "VirMAL17    4915.5    2359.5    4933.0   ...       4895.0    5013.5    4923.0   \n",
       "VirMAL18    4906.0    4933.0    2378.5   ...       5064.0    5103.5    4863.0   \n",
       "VirMAL19    4713.5    4460.5    4865.0   ...       4791.5    5046.5    4939.5   \n",
       "VirMAL2     4808.0    4752.0    4587.0   ...       4883.0    4744.5    4720.0   \n",
       "VirMAL20    4707.0    4505.5    4899.5   ...       4796.0    5055.5    4977.5   \n",
       "VirMAL21    4736.5    4906.5    4631.5   ...       4773.0    5039.5    4811.0   \n",
       "VirMAL22    4595.0    4573.5    4714.5   ...       4841.0    4994.5    4890.0   \n",
       "VirMAL23    4340.5    4635.5    4691.5   ...       4582.0    4896.5    4753.5   \n",
       "VirMAL24    4841.0    4940.0    4500.5   ...       4959.5    5118.5    4635.5   \n",
       "VirMAL3     4846.5    4884.0    4605.0   ...       4751.0    5151.5    4691.5   \n",
       "VirMAL4     4418.5    4481.0    4477.0   ...       4681.0    4873.0    4692.5   \n",
       "VirMAL5     4483.5    4522.0    4648.0   ...       4847.5    4886.0    4695.0   \n",
       "VirMAL6     4857.0    5211.0    5054.5   ...       5248.5    5157.5    5099.5   \n",
       "VirMAL7     4214.0    4863.5    4792.5   ...       4827.0    4937.5    4922.5   \n",
       "VirMAL8     5066.5    5261.5    5183.0   ...       5052.0    4947.0    5377.0   \n",
       "VirMAL9     4765.0    4781.0    5036.5   ...       5018.0    4885.0    5032.5   \n",
       "VirSEA1     4966.0    4823.0    4813.0   ...       5091.5    5259.0    4540.5   \n",
       "VirSEA10    4554.0    4713.0    4571.5   ...       4747.5    4916.0    4617.5   \n",
       "VirSEA11    4760.5    4835.5    4929.5   ...       5025.0    5094.0    4877.0   \n",
       "VirSEA12    5041.0    5163.5    5097.0   ...       5344.0    5160.5    4955.5   \n",
       "VirSEA13    4837.5    5064.5    5040.0   ...       5211.0    5337.0    4937.5   \n",
       "VirSEA14    5031.5    5088.5    4804.5   ...       5298.0    5253.0    4731.0   \n",
       "...            ...       ...       ...   ...          ...       ...       ...   \n",
       "VirSEA5     4753.5    5142.5    4984.0   ...       5145.5    5239.5    4977.5   \n",
       "VirSEA6     4842.5    4995.5    5075.5   ...       5103.5    5144.0    4900.5   \n",
       "VirSEA7     5159.5    5087.0    5132.0   ...       5257.0    5197.0    5005.0   \n",
       "VirSEA8     5053.5    5254.5    5285.5   ...       5300.5    5325.0    5227.5   \n",
       "VirSEA9     5048.0    5278.0    5067.0   ...       4970.5    5154.5    5164.0   \n",
       "VirSWA10    5331.5    4994.5    5190.0   ...       4883.0    5075.5    4840.5   \n",
       "VirSWA11    4822.5    4917.0    5036.5   ...       5001.5    5020.0    4800.0   \n",
       "VirSWA12    5099.5    4928.0    4858.5   ...       4829.0    5064.0    4629.0   \n",
       "VirSWA13    5177.5    4913.0    4972.5   ...       4859.0    4975.5    4788.0   \n",
       "VirSWA14    5053.0    4840.0    4958.5   ...       4987.5    5113.0    4715.5   \n",
       "VirSWA15    5408.0    4900.0    4937.0   ...       5155.5    5070.5    4801.5   \n",
       "VirSWA16    4877.0    4869.5    4766.5   ...       4665.5    4888.5    4718.0   \n",
       "VirSWA17    4894.0    4797.0    4651.5   ...       4718.5    4887.5    4599.0   \n",
       "VirSWA18    5094.0    5036.5    4780.0   ...       5025.5    5082.5    4589.5   \n",
       "VirSWA19    5081.5    4924.0    4849.0   ...       5177.5    5194.0    4741.5   \n",
       "VirSWA20    4752.0    5174.5    4703.5   ...       4733.0    4913.5    4651.0   \n",
       "VirSWA21    5248.5    4994.0    4930.5   ...       4807.5    4980.5    4840.5   \n",
       "VirSWA22    5212.5    5074.5    5163.5   ...       5052.0    5184.5    4956.0   \n",
       "VirSWA23    5069.0    5147.0    4858.5   ...       5042.0    4919.0    4739.5   \n",
       "VirSWA24    4874.0    5109.0    4894.0   ...       4860.5    5107.0    4940.5   \n",
       "VirSWA25    4875.5    4895.0    5064.0   ...       2398.5    4833.0    5094.0   \n",
       "VirSWA26    5005.0    5013.5    5103.5   ...       4833.0    2514.0    4963.5   \n",
       "VirSWA27    4933.0    4923.0    4863.0   ...       5094.0    4963.5    2476.5   \n",
       "VirSWA3     4775.0    4961.5    5076.0   ...       4836.5    4797.0    5003.0   \n",
       "VirSWA4     4585.0    4523.5    4896.5   ...       4793.5    4719.0    4595.5   \n",
       "VirSWA5     5100.0    5213.0    4827.5   ...       4745.5    5008.0    4793.0   \n",
       "VirSWA6     4960.5    5201.5    5027.0   ...       4905.0    5051.0    4989.0   \n",
       "VirSWA7     4990.0    4824.0    5029.0   ...       4887.0    5097.5    4668.0   \n",
       "VirSWA8     4997.5    4863.0    4814.0   ...       5051.5    5064.5    4689.5   \n",
       "VirSWA9     5076.5    4780.0    4768.5   ...       5191.5    5068.0    4611.0   \n",
       "\n",
       "          VirSWA3  VirSWA4  VirSWA5  VirSWA6  VirSWA7  VirSWA8  VirSWA9  \n",
       "VirMAL1    4844.5   4375.0   4943.0   5100.5   4822.5   4680.5   4884.0  \n",
       "VirMAL10   5016.0   4662.5   5262.5   5260.5   5110.0   5012.5   5118.0  \n",
       "VirMAL11   4914.0   4568.0   4970.0   5027.0   4995.5   4912.0   5025.0  \n",
       "VirMAL12   4828.5   4702.0   4710.5   4798.5   5006.0   4707.0   4644.5  \n",
       "VirMAL13   4799.0   4483.5   4883.5   5107.5   4484.0   4619.5   4599.5  \n",
       "VirMAL14   5029.5   4641.5   4678.0   5027.0   4798.0   4637.5   4638.0  \n",
       "VirMAL15   4671.0   4388.5   4760.5   4934.0   4842.0   4657.0   4621.0  \n",
       "VirMAL16   4775.0   4585.0   5100.0   4960.5   4990.0   4997.5   5076.5  \n",
       "VirMAL17   4961.5   4523.5   5213.0   5201.5   4824.0   4863.0   4780.0  \n",
       "VirMAL18   5076.0   4896.5   4827.5   5027.0   5029.0   4814.0   4768.5  \n",
       "VirMAL19   4920.0   4500.5   5066.0   5128.0   4769.5   4878.5   4892.0  \n",
       "VirMAL2    4824.0   4593.0   5054.0   5037.5   5023.0   4901.0   4909.0  \n",
       "VirMAL20   4928.5   4544.5   5103.5   5138.0   4802.0   4926.0   4941.0  \n",
       "VirMAL21   5029.5   4787.5   4533.5   4943.0   4610.0   4624.0   4653.5  \n",
       "VirMAL22   5010.0   4453.0   5207.5   5215.0   4912.5   4870.5   4965.0  \n",
       "VirMAL23   4877.0   4274.0   4819.5   5013.0   4735.0   4730.0   4875.5  \n",
       "VirMAL24   5061.0   4797.0   5018.0   5177.0   4909.0   4821.0   4813.0  \n",
       "VirMAL3    4931.0   4814.5   4636.0   4874.0   4676.5   4830.5   4736.5  \n",
       "VirMAL4    4868.0   4237.0   4882.5   5011.0   4716.5   4685.5   4846.0  \n",
       "VirMAL5    4965.0   4276.0   4920.0   5195.5   4746.5   4694.5   4777.5  \n",
       "VirMAL6    4739.0   5166.5   4839.0   4744.0   5022.5   5018.0   4822.0  \n",
       "VirMAL7    4725.0   4585.0   5074.5   4861.5   4941.5   4876.0   5082.0  \n",
       "VirMAL8    5171.5   5086.0   5286.0   5348.5   5246.0   5380.0   5453.5  \n",
       "VirMAL9    4770.0   4567.0   5006.0   5033.0   4910.5   4942.0   4851.0  \n",
       "VirSEA1    5000.5   4768.5   4693.5   4882.0   4750.0   4675.5   4367.0  \n",
       "VirSEA10   4874.5   4443.5   5028.0   4976.5   4931.0   4790.5   4883.0  \n",
       "VirSEA11   4732.5   4766.5   4911.0   4872.5   4844.5   4821.5   4590.5  \n",
       "VirSEA12   4970.0   5009.0   5027.0   4879.0   4999.0   4741.5   4613.0  \n",
       "VirSEA13   4800.0   4941.0   4682.0   4611.5   4865.5   4634.5   4505.5  \n",
       "VirSEA14   5232.0   4920.0   4721.5   4924.5   4792.5   4621.5   4501.0  \n",
       "...           ...      ...      ...      ...      ...      ...      ...  \n",
       "VirSEA5    4838.5   5037.5   4649.0   4720.0   4930.5   4804.5   4620.0  \n",
       "VirSEA6    4699.5   4874.0   4807.5   4776.5   4875.5   4799.0   4581.5  \n",
       "VirSEA7    4705.0   5082.0   4786.5   4742.5   5081.5   4909.0   4622.5  \n",
       "VirSEA8    4887.5   5178.0   5177.5   4736.0   5097.5   4912.5   4944.5  \n",
       "VirSEA9    4943.5   5199.0   4726.5   4679.5   5135.5   4838.5   5030.0  \n",
       "VirSWA10   4874.0   5030.5   4993.5   4799.0   4887.5   4841.0   4736.5  \n",
       "VirSWA11   4674.5   4843.5   4710.0   4690.0   4789.5   4819.0   4713.5  \n",
       "VirSWA12   4843.0   4857.5   4737.0   4912.0   4775.0   4687.0   4537.5  \n",
       "VirSWA13   4968.5   4760.5   4534.0   5022.0   4607.5   4792.5   4632.5  \n",
       "VirSWA14   5005.5   4626.5   4804.0   5118.0   4687.0   4667.0   4579.5  \n",
       "VirSWA15   5160.5   5003.0   4721.0   5136.5   4669.0   4722.5   4428.5  \n",
       "VirSWA16   4718.0   4556.0   4548.0   4611.5   4620.5   4570.5   4385.0  \n",
       "VirSWA17   4716.0   4376.0   4318.0   4723.5   4509.5   4389.5   4242.0  \n",
       "VirSWA18   5206.0   4779.0   4787.5   5021.5   4807.0   4829.5   4700.5  \n",
       "VirSWA19   5094.0   4787.0   4658.0   5064.0   4550.5   4601.0   4407.0  \n",
       "VirSWA20   4903.5   4582.0   4639.0   4718.5   4843.5   4601.5   4737.0  \n",
       "VirSWA21   4936.5   4834.5   4600.0   4930.0   4781.0   4766.0   4579.0  \n",
       "VirSWA22   4812.0   5020.0   4836.5   4820.0   4970.5   4844.5   4689.0  \n",
       "VirSWA23   5150.5   4842.0   4699.5   5075.0   4699.5   4777.5   4665.5  \n",
       "VirSWA24   4763.0   4870.5   4411.0   4614.5   4793.0   4797.0   4672.5  \n",
       "VirSWA25   4836.5   4793.5   4745.5   4905.0   4887.0   5051.5   5191.5  \n",
       "VirSWA26   4797.0   4719.0   5008.0   5051.0   5097.5   5064.5   5068.0  \n",
       "VirSWA27   5003.0   4595.5   4793.0   4989.0   4668.0   4689.5   4611.0  \n",
       "VirSWA3    2243.5   4724.5   4948.5   4647.0   5052.0   5069.5   4879.5  \n",
       "VirSWA4    4724.5   2130.0   4874.5   5062.0   4524.5   4645.5   4581.0  \n",
       "VirSWA5    4948.5   4874.5   2042.0   4670.0   4645.0   4615.0   4599.0  \n",
       "VirSWA6    4647.0   5062.0   4670.0   2535.5   5010.5   4820.5   4882.5  \n",
       "VirSWA7    5052.0   4524.5   4645.0   5010.5   2384.0   4733.5   4572.5  \n",
       "VirSWA8    5069.5   4645.5   4615.0   4820.5   4733.5   2471.0   4398.0  \n",
       "VirSWA9    4879.5   4581.0   4599.0   4882.5   4572.5   4398.0   2192.5  \n",
       "\n",
       "[73 rows x 73 columns]"
      ]
     },
     "execution_count": 122,
     "metadata": {},
     "output_type": "execute_result"
    }
   ],
   "source": [
    "#Be aware of the biased single-individual pi estimated on the diagonal.\n",
    "individual_dxy"
   ]
  },
  {
   "cell_type": "markdown",
   "metadata": {},
   "source": [
    "The above could be used to construct a neighbour-joining tree."
   ]
  },
  {
   "cell_type": "markdown",
   "metadata": {},
   "source": [
    "## Ipython parallel"
   ]
  },
  {
   "cell_type": "markdown",
   "metadata": {},
   "source": [
    "Ipython parallel is very handy to use multiple local or remote cores to do calculations. It is surprisingly easy to set up, even on a compute cluster. (However, the ipyparallel package is not installed for python 2.7 on this amazon cloud instance and I realised it too late to fix it.)"
   ]
  },
  {
   "cell_type": "markdown",
   "metadata": {},
   "source": [
    "Here are more resource for the parallel setup: <br>\n",
    " - <https://ipython.org/ipython-doc/3/parallel/index.html>\n",
    " -  <https://ipython.org/ipython-doc/3/parallel/parallel_process.html>"
   ]
  },
  {
   "cell_type": "markdown",
   "metadata": {},
   "source": [
    "A minimal example (that would work for me):"
   ]
  },
  {
   "cell_type": "markdown",
   "metadata": {},
   "source": [
    "In a terminal execute ```ipcluster start -n 4``` to start a ipython cluster with 4 engines"
   ]
  },
  {
   "cell_type": "code",
   "execution_count": 123,
   "metadata": {
    "collapsed": false
   },
   "outputs": [
    {
     "ename": "ImportError",
     "evalue": "No module named ipyparallel",
     "output_type": "error",
     "traceback": [
      "\u001b[0;31m---------------------------------------------------------------------------\u001b[0m",
      "\u001b[0;31mImportError\u001b[0m                               Traceback (most recent call last)",
      "\u001b[0;32m<ipython-input-123-fe9ec181f559>\u001b[0m in \u001b[0;36m<module>\u001b[0;34m()\u001b[0m\n\u001b[0;32m----> 1\u001b[0;31m \u001b[0;32mfrom\u001b[0m \u001b[0mipyparallel\u001b[0m \u001b[0;32mimport\u001b[0m \u001b[0mClient\u001b[0m\u001b[0;34m\u001b[0m\u001b[0m\n\u001b[0m",
      "\u001b[0;31mImportError\u001b[0m: No module named ipyparallel"
     ]
    }
   ],
   "source": [
    "from ipyparallel import Client"
   ]
  },
  {
   "cell_type": "code",
   "execution_count": null,
   "metadata": {
    "collapsed": true
   },
   "outputs": [],
   "source": [
    "rc = Client(profile=\"default\")\n",
    "lv = rc.load_balanced_view()"
   ]
  },
  {
   "cell_type": "code",
   "execution_count": null,
   "metadata": {
    "collapsed": true
   },
   "outputs": [],
   "source": [
    "map_obj = lv.map_async(lambda x: x*x, range(20))"
   ]
  },
  {
   "cell_type": "markdown",
   "metadata": {},
   "source": [
    "The above is the parallel equivalent of ```map(lambda x: x*x, range(20))``` but using the 4 engines started above."
   ]
  },
  {
   "cell_type": "code",
   "execution_count": null,
   "metadata": {
    "collapsed": true
   },
   "outputs": [],
   "source": [
    "# retrieve the result\n",
    "result = map_obj.result()"
   ]
  },
  {
   "cell_type": "markdown",
   "metadata": {},
   "source": [
    "This is very useful to quickly analyse multiple chromosomes or chunks of chromosomes in parallel."
   ]
  }
 ],
 "metadata": {
  "kernelspec": {
   "display_name": "Python 2",
   "language": "python",
   "name": "python2"
  },
  "language_info": {
   "codemirror_mode": {
    "name": "ipython",
    "version": 2
   },
   "file_extension": ".py",
   "mimetype": "text/x-python",
   "name": "python",
   "nbconvert_exporter": "python",
   "pygments_lexer": "ipython2",
   "version": "2.7.12"
  }
 },
 "nbformat": 4,
 "nbformat_minor": 1
}
